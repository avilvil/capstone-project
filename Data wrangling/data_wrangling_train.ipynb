{
 "cells": [
  {
   "cell_type": "markdown",
   "metadata": {},
   "source": [
    "# train.csv\n",
    "- msno: user id\n",
    "- song_id: song id\n",
    "- source_system_tab: the name of the tab where the event was triggered. System tabs are used to - categorize KKBOX mobile apps functions. For example, tab my library contains functions to -manipulate the local storage, and tab search contains functions relating to search.\n",
    "- source_screen_name: name of the layout a user sees.\n",
    "- source_type: an entry point a user first plays music on mobile apps. An entry point could be album, online-playlist, song .. etc.\n",
    "- target: this is the target variable. target=1 means there are recurring listening event(s) triggered within a month after the user’s very first observable listening event, target=0 otherwise ."
   ]
  },
  {
   "cell_type": "code",
   "execution_count": 10,
   "metadata": {},
   "outputs": [],
   "source": [
    "import pandas as pd\n",
    "import matplotlib.pyplot as plt\n",
    "import seaborn as sns\n",
    "import numpy as np\n",
    "from datetime import datetime"
   ]
  },
  {
   "cell_type": "code",
   "execution_count": 11,
   "metadata": {
    "scrolled": true
   },
   "outputs": [
    {
     "name": "stdout",
     "output_type": "stream",
     "text": [
      "                                           msno  \\\n",
      "0  FGtllVqz18RPiwJj/edr2gV78zirAiY/9SmYvia+kCg=   \n",
      "1  Xumu+NIjS6QYVxDS4/t3SawvJ7viT9hPKXmf0RtLNx8=   \n",
      "2  Xumu+NIjS6QYVxDS4/t3SawvJ7viT9hPKXmf0RtLNx8=   \n",
      "3  Xumu+NIjS6QYVxDS4/t3SawvJ7viT9hPKXmf0RtLNx8=   \n",
      "4  FGtllVqz18RPiwJj/edr2gV78zirAiY/9SmYvia+kCg=   \n",
      "\n",
      "                                        song_id source_system_tab  \\\n",
      "0  BBzumQNXUHKdEBOB7mAJuzok+IJA1c2Ryg/yzTF6tik=           explore   \n",
      "1  bhp/MpSNoqoxOIB+/l8WPqu6jldth4DIpCm3ayXnJqM=        my library   \n",
      "2  JNWfrrC7zNN7BdMpsISKa4Mw+xVJYNnxXh3/Epw7QgY=        my library   \n",
      "3  2A87tzfnJTSWqD7gIZHisolhe4DMdzkbd6LzO1KHjNs=        my library   \n",
      "4  3qm6XTZ6MOCU11x8FIVbAGH5l5uMkT3/ZalWG1oo2Gc=           explore   \n",
      "\n",
      "    source_screen_name      source_type  target  \n",
      "0              Explore  online-playlist       1  \n",
      "1  Local playlist more   local-playlist       1  \n",
      "2  Local playlist more   local-playlist       1  \n",
      "3  Local playlist more   local-playlist       1  \n",
      "4              Explore  online-playlist       1  \n"
     ]
    }
   ],
   "source": [
    "#Load train document\n",
    "train=pd.read_csv('data/train.csv', na_values='Unknown')\n",
    "print(train.head())"
   ]
  },
  {
   "cell_type": "code",
   "execution_count": 3,
   "metadata": {},
   "outputs": [
    {
     "name": "stdout",
     "output_type": "stream",
     "text": [
      "                                           msno  \\\n",
      "0  FGtllVqz18RPiwJj/edr2gV78zirAiY/9SmYvia+kCg=   \n",
      "1  Xumu+NIjS6QYVxDS4/t3SawvJ7viT9hPKXmf0RtLNx8=   \n",
      "2  Xumu+NIjS6QYVxDS4/t3SawvJ7viT9hPKXmf0RtLNx8=   \n",
      "3  Xumu+NIjS6QYVxDS4/t3SawvJ7viT9hPKXmf0RtLNx8=   \n",
      "4  FGtllVqz18RPiwJj/edr2gV78zirAiY/9SmYvia+kCg=   \n",
      "\n",
      "                                        song_id source_system_tab  \\\n",
      "0  BBzumQNXUHKdEBOB7mAJuzok+IJA1c2Ryg/yzTF6tik=           explore   \n",
      "1  bhp/MpSNoqoxOIB+/l8WPqu6jldth4DIpCm3ayXnJqM=        my library   \n",
      "2  JNWfrrC7zNN7BdMpsISKa4Mw+xVJYNnxXh3/Epw7QgY=        my library   \n",
      "3  2A87tzfnJTSWqD7gIZHisolhe4DMdzkbd6LzO1KHjNs=        my library   \n",
      "4  3qm6XTZ6MOCU11x8FIVbAGH5l5uMkT3/ZalWG1oo2Gc=           explore   \n",
      "\n",
      "    source_screen_name      source_type  target  \n",
      "0              explore  online-playlist       1  \n",
      "1  local playlist more   local-playlist       1  \n",
      "2  local playlist more   local-playlist       1  \n",
      "3  local playlist more   local-playlist       1  \n",
      "4              explore  online-playlist       1  \n"
     ]
    }
   ],
   "source": [
    "#Transform source_screen_name values in lower letters\n",
    "train['source_screen_name']=train['source_screen_name'].map(lambda x: x if type(x)!=str else x.lower())\n",
    "print(train.head())"
   ]
  },
  {
   "cell_type": "code",
   "execution_count": 16,
   "metadata": {},
   "outputs": [
    {
     "data": {
      "image/png": "[encoded data removed]",
      "text/plain": [
       "<Figure size 432x288 with 1 Axes>"
      ]
     },
     "metadata": {},
     "output_type": "display_data"
    }
   ],
   "source": [
    "#Plot number of songs by language\n",
    "(train.source_system_tab.value_counts(dropna=False)).plot(kind='bar')\n",
    "plt.title('Songs by source system tab')\n",
    "plt.ylabel('songs')\n",
    "plt.show()"
   ]
  },
  {
   "cell_type": "code",
   "execution_count": 4,
   "metadata": {},
   "outputs": [
    {
     "name": "stdout",
     "output_type": "stream",
     "text": [
      "<class 'pandas.core.frame.DataFrame'>\n",
      "RangeIndex: 7377418 entries, 0 to 7377417\n",
      "Data columns (total 6 columns):\n",
      "msno                  object\n",
      "song_id               object\n",
      "source_system_tab     object\n",
      "source_screen_name    object\n",
      "source_type           object\n",
      "target                int64\n",
      "dtypes: int64(1), object(5)\n",
      "memory usage: 337.7+ MB\n"
     ]
    }
   ],
   "source": [
    "train.info()"
   ]
  },
  {
   "cell_type": "code",
   "execution_count": 5,
   "metadata": {},
   "outputs": [
    {
     "name": "stdout",
     "output_type": "stream",
     "text": [
      "<class 'pandas.core.frame.DataFrame'>\n",
      "RangeIndex: 7377418 entries, 0 to 7377417\n",
      "Data columns (total 6 columns):\n",
      "msno                  object\n",
      "song_id               object\n",
      "source_system_tab     category\n",
      "source_screen_name    category\n",
      "source_type           category\n",
      "target                int64\n",
      "dtypes: category(3), int64(1), object(2)\n",
      "memory usage: 190.0+ MB\n"
     ]
    }
   ],
   "source": [
    "#Make source_system_tab, source_screen_name and source_type categorical variables\n",
    "train['source_system_tab']=train['source_system_tab'].astype('category')\n",
    "train['source_screen_name']=train['source_screen_name'].astype('category')\n",
    "train['source_type']=train['source_type'].astype('category')\n",
    "#Print train info to verify changes\n",
    "train.info()"
   ]
  },
  {
   "cell_type": "code",
   "execution_count": 6,
   "metadata": {},
   "outputs": [
    {
     "data": {
      "text/plain": [
       "1    3714656\n",
       "0    3662762\n",
       "Name: target, dtype: int64"
      ]
     },
     "execution_count": 6,
     "metadata": {},
     "output_type": "execute_result"
    }
   ],
   "source": [
    "#Make sure the target column is correct (only 0 or 1 values) and that the sample is well distributed\n",
    "train.target.value_counts(dropna=False)"
   ]
  },
  {
   "cell_type": "code",
   "execution_count": 9,
   "metadata": {},
   "outputs": [
    {
     "data": {
      "image/png": "[encoded data removed]",
      "text/plain": [
       "<Figure size 432x288 with 1 Axes>"
      ]
     },
     "metadata": {},
     "output_type": "display_data"
    }
   ],
   "source": [
    "(train.target.value_counts(dropna=False)).plot(kind='bar')\n",
    "plt.title('Target')\n",
    "plt.ylabel('songs')\n",
    "plt.show()"
   ]
  },
  {
   "cell_type": "code",
   "execution_count": 7,
   "metadata": {},
   "outputs": [
    {
     "data": {
      "text/plain": [
       "msno                       0\n",
       "song_id                    0\n",
       "source_system_tab      24849\n",
       "source_screen_name    468974\n",
       "source_type            21539\n",
       "target                     0\n",
       "dtype: int64"
      ]
     },
     "execution_count": 7,
     "metadata": {},
     "output_type": "execute_result"
    }
   ],
   "source": [
    "#Check amount of NaN in train.csv by column\n",
    "train.isnull().sum()"
   ]
  },
  {
   "cell_type": "code",
   "execution_count": 8,
   "metadata": {
    "scrolled": true
   },
   "outputs": [
    {
     "data": {
      "text/html": [
       "<div>\n",
       "<style scoped>\n",
       "    .dataframe tbody tr th:only-of-type {\n",
       "        vertical-align: middle;\n",
       "    }\n",
       "\n",
       "    .dataframe tbody tr th {\n",
       "        vertical-align: top;\n",
       "    }\n",
       "\n",
       "    .dataframe thead th {\n",
       "        text-align: right;\n",
       "    }\n",
       "</style>\n",
       "<table border=\"1\" class=\"dataframe\">\n",
       "  <thead>\n",
       "    <tr style=\"text-align: right;\">\n",
       "      <th></th>\n",
       "      <th>msno</th>\n",
       "      <th>song_id</th>\n",
       "      <th>source_system_tab</th>\n",
       "      <th>source_screen_name</th>\n",
       "      <th>source_type</th>\n",
       "      <th>target</th>\n",
       "    </tr>\n",
       "  </thead>\n",
       "  <tbody>\n",
       "    <tr>\n",
       "      <th>86</th>\n",
       "      <td>rAI+tZ85/S4CEHBEhUkHDLO1afqVLArCu0nsBmORwfQ=</td>\n",
       "      <td>U03If8ekFQ69MIodnGZOgaFV9vbFpwDQZQYCf5To5fo=</td>\n",
       "      <td>NaN</td>\n",
       "      <td>NaN</td>\n",
       "      <td>NaN</td>\n",
       "      <td>0</td>\n",
       "    </tr>\n",
       "    <tr>\n",
       "      <th>88</th>\n",
       "      <td>rAI+tZ85/S4CEHBEhUkHDLO1afqVLArCu0nsBmORwfQ=</td>\n",
       "      <td>yv4Nasbw8r06KtMHzaEMF/SrpYPv+V73JrwFClUoRQ0=</td>\n",
       "      <td>NaN</td>\n",
       "      <td>NaN</td>\n",
       "      <td>NaN</td>\n",
       "      <td>0</td>\n",
       "    </tr>\n",
       "    <tr>\n",
       "      <th>89</th>\n",
       "      <td>rAI+tZ85/S4CEHBEhUkHDLO1afqVLArCu0nsBmORwfQ=</td>\n",
       "      <td>0cHV60MVnGOKMb/GRHWEExfpahkCwIZQ0wxdYBJfoqE=</td>\n",
       "      <td>NaN</td>\n",
       "      <td>NaN</td>\n",
       "      <td>NaN</td>\n",
       "      <td>0</td>\n",
       "    </tr>\n",
       "    <tr>\n",
       "      <th>653</th>\n",
       "      <td>1Gpomlljwhogv1K2O2qUdgZ5L43AyFswy9sau03mot8=</td>\n",
       "      <td>zx4aCmk+b/uPmvESsG8ekvi7qWmifSPNMXg1i8wyG8Q=</td>\n",
       "      <td>NaN</td>\n",
       "      <td>NaN</td>\n",
       "      <td>NaN</td>\n",
       "      <td>1</td>\n",
       "    </tr>\n",
       "    <tr>\n",
       "      <th>655</th>\n",
       "      <td>1Gpomlljwhogv1K2O2qUdgZ5L43AyFswy9sau03mot8=</td>\n",
       "      <td>reXuGcEWDDCnL0K3Th//3DFG4S1ACSpJMzA+CFipo1g=</td>\n",
       "      <td>NaN</td>\n",
       "      <td>NaN</td>\n",
       "      <td>NaN</td>\n",
       "      <td>1</td>\n",
       "    </tr>\n",
       "    <tr>\n",
       "      <th>656</th>\n",
       "      <td>1Gpomlljwhogv1K2O2qUdgZ5L43AyFswy9sau03mot8=</td>\n",
       "      <td>IIPVkO6EB8ymcuxkuxkum1N5gowLdTzy9sYF9luyhVk=</td>\n",
       "      <td>NaN</td>\n",
       "      <td>NaN</td>\n",
       "      <td>NaN</td>\n",
       "      <td>1</td>\n",
       "    </tr>\n",
       "    <tr>\n",
       "      <th>3745</th>\n",
       "      <td>1Gpomlljwhogv1K2O2qUdgZ5L43AyFswy9sau03mot8=</td>\n",
       "      <td>VodwEvJB2FUoIPAZhpqI+ml/3yzxl/fuw9xATZV1BIU=</td>\n",
       "      <td>NaN</td>\n",
       "      <td>NaN</td>\n",
       "      <td>NaN</td>\n",
       "      <td>1</td>\n",
       "    </tr>\n",
       "    <tr>\n",
       "      <th>3747</th>\n",
       "      <td>1Gpomlljwhogv1K2O2qUdgZ5L43AyFswy9sau03mot8=</td>\n",
       "      <td>JRa3KgSwWDyY17usXoi6jN8O6v6t6Tq4xcwjbUkbQFQ=</td>\n",
       "      <td>NaN</td>\n",
       "      <td>NaN</td>\n",
       "      <td>NaN</td>\n",
       "      <td>1</td>\n",
       "    </tr>\n",
       "    <tr>\n",
       "      <th>3748</th>\n",
       "      <td>1Gpomlljwhogv1K2O2qUdgZ5L43AyFswy9sau03mot8=</td>\n",
       "      <td>/GgZUQhPI/FEfpetN79CmK0gig4V2d0wiYQDGRbQ0Eg=</td>\n",
       "      <td>NaN</td>\n",
       "      <td>NaN</td>\n",
       "      <td>NaN</td>\n",
       "      <td>1</td>\n",
       "    </tr>\n",
       "    <tr>\n",
       "      <th>3749</th>\n",
       "      <td>1Gpomlljwhogv1K2O2qUdgZ5L43AyFswy9sau03mot8=</td>\n",
       "      <td>WsVr4mozaIQq9Tp8Ks0Iir3HIFTQQSpEDO1AmUIzdsc=</td>\n",
       "      <td>NaN</td>\n",
       "      <td>NaN</td>\n",
       "      <td>NaN</td>\n",
       "      <td>1</td>\n",
       "    </tr>\n",
       "    <tr>\n",
       "      <th>4702</th>\n",
       "      <td>p/hZuEXU9ExH9LKkBfIueZUaNVX9SXQC3JXA8MiNWi4=</td>\n",
       "      <td>9zVQUtq/Uzlxk3X7BwI28CSY7FomzpmtsRc8f2bRyJE=</td>\n",
       "      <td>NaN</td>\n",
       "      <td>NaN</td>\n",
       "      <td>NaN</td>\n",
       "      <td>1</td>\n",
       "    </tr>\n",
       "    <tr>\n",
       "      <th>4705</th>\n",
       "      <td>p/hZuEXU9ExH9LKkBfIueZUaNVX9SXQC3JXA8MiNWi4=</td>\n",
       "      <td>IXP1a2o3NL8WU4WK1X0WJAKaSW+LgGRpPDn4Gt1HrV8=</td>\n",
       "      <td>NaN</td>\n",
       "      <td>NaN</td>\n",
       "      <td>NaN</td>\n",
       "      <td>1</td>\n",
       "    </tr>\n",
       "    <tr>\n",
       "      <th>4706</th>\n",
       "      <td>p/hZuEXU9ExH9LKkBfIueZUaNVX9SXQC3JXA8MiNWi4=</td>\n",
       "      <td>oTGg75yjTAP0grXmGld3EUD0b/b9u7lW2JyUX/mBiXI=</td>\n",
       "      <td>NaN</td>\n",
       "      <td>NaN</td>\n",
       "      <td>NaN</td>\n",
       "      <td>1</td>\n",
       "    </tr>\n",
       "    <tr>\n",
       "      <th>4707</th>\n",
       "      <td>p/hZuEXU9ExH9LKkBfIueZUaNVX9SXQC3JXA8MiNWi4=</td>\n",
       "      <td>A7Z2nDVASy04EpmfzOL9PRMN3hFVbWQ7ah4J+o9sLnE=</td>\n",
       "      <td>NaN</td>\n",
       "      <td>NaN</td>\n",
       "      <td>NaN</td>\n",
       "      <td>1</td>\n",
       "    </tr>\n",
       "    <tr>\n",
       "      <th>7804</th>\n",
       "      <td>p/hZuEXU9ExH9LKkBfIueZUaNVX9SXQC3JXA8MiNWi4=</td>\n",
       "      <td>BwDDym6Tp7EnGudWBGJyjONZeX0/4ndu5PETiPWzav8=</td>\n",
       "      <td>NaN</td>\n",
       "      <td>NaN</td>\n",
       "      <td>NaN</td>\n",
       "      <td>1</td>\n",
       "    </tr>\n",
       "    <tr>\n",
       "      <th>7806</th>\n",
       "      <td>p/hZuEXU9ExH9LKkBfIueZUaNVX9SXQC3JXA8MiNWi4=</td>\n",
       "      <td>HzCFc9gU/AuYNF1ld1ZlyeCpQvVLTonc8+ZrUAidmmY=</td>\n",
       "      <td>NaN</td>\n",
       "      <td>NaN</td>\n",
       "      <td>NaN</td>\n",
       "      <td>1</td>\n",
       "    </tr>\n",
       "    <tr>\n",
       "      <th>7808</th>\n",
       "      <td>p/hZuEXU9ExH9LKkBfIueZUaNVX9SXQC3JXA8MiNWi4=</td>\n",
       "      <td>eBme/h4Z4eP7BZY3tifu5Lr/dRB9NQJVIl36jZ5DZGQ=</td>\n",
       "      <td>NaN</td>\n",
       "      <td>NaN</td>\n",
       "      <td>NaN</td>\n",
       "      <td>1</td>\n",
       "    </tr>\n",
       "    <tr>\n",
       "      <th>7810</th>\n",
       "      <td>p/hZuEXU9ExH9LKkBfIueZUaNVX9SXQC3JXA8MiNWi4=</td>\n",
       "      <td>1PR/lVwL4VeYcZjexwBJ2NOSTfgh8JoVxWCunnbJO/8=</td>\n",
       "      <td>NaN</td>\n",
       "      <td>NaN</td>\n",
       "      <td>NaN</td>\n",
       "      <td>1</td>\n",
       "    </tr>\n",
       "    <tr>\n",
       "      <th>7965</th>\n",
       "      <td>z27xJQmVRtXwq8ZBSeGGy7OUxwmgVlm8dRPix/JNFac=</td>\n",
       "      <td>osgK8gJWpbXRJGyiFiRmFoCRdcL/Z0VKA3b4rM6JSY8=</td>\n",
       "      <td>NaN</td>\n",
       "      <td>NaN</td>\n",
       "      <td>NaN</td>\n",
       "      <td>0</td>\n",
       "    </tr>\n",
       "    <tr>\n",
       "      <th>7967</th>\n",
       "      <td>z27xJQmVRtXwq8ZBSeGGy7OUxwmgVlm8dRPix/JNFac=</td>\n",
       "      <td>tPuFgbwPtgVB/NIkVvTyOVdbfuD802dw6DiIxcXf2fo=</td>\n",
       "      <td>NaN</td>\n",
       "      <td>NaN</td>\n",
       "      <td>NaN</td>\n",
       "      <td>0</td>\n",
       "    </tr>\n",
       "    <tr>\n",
       "      <th>10298</th>\n",
       "      <td>HDcLTCGI5Z3ZMZuZ24SIRhoIWCFhCGN98B4DNcxfKkE=</td>\n",
       "      <td>wrVyieNp7YQuoJCcC4Dfra2fFF3VbsbR4jnxeZpBxkA=</td>\n",
       "      <td>NaN</td>\n",
       "      <td>NaN</td>\n",
       "      <td>NaN</td>\n",
       "      <td>1</td>\n",
       "    </tr>\n",
       "    <tr>\n",
       "      <th>10307</th>\n",
       "      <td>HDcLTCGI5Z3ZMZuZ24SIRhoIWCFhCGN98B4DNcxfKkE=</td>\n",
       "      <td>AagU1o3YQ2blHGfH5uF2dmwXCYZawhW4rFsGUGYCH3k=</td>\n",
       "      <td>NaN</td>\n",
       "      <td>NaN</td>\n",
       "      <td>NaN</td>\n",
       "      <td>1</td>\n",
       "    </tr>\n",
       "    <tr>\n",
       "      <th>11804</th>\n",
       "      <td>isppOR2I0PS42eDcZu3jB5i9cnaiKJjpxdrcv1Ituac=</td>\n",
       "      <td>/SHESXpFXRXTICRKbTln1e8ffzmghPixS09mMK7rpoY=</td>\n",
       "      <td>NaN</td>\n",
       "      <td>NaN</td>\n",
       "      <td>NaN</td>\n",
       "      <td>1</td>\n",
       "    </tr>\n",
       "    <tr>\n",
       "      <th>12745</th>\n",
       "      <td>GBBS6+nNnHFbRnHpPclzg6jcrOvsccZxRNhslGWUlIs=</td>\n",
       "      <td>dOTnwB19FAgLjsMwYhEZNfy5hiTYYwEo/DBGRjjvC6c=</td>\n",
       "      <td>NaN</td>\n",
       "      <td>NaN</td>\n",
       "      <td>NaN</td>\n",
       "      <td>0</td>\n",
       "    </tr>\n",
       "    <tr>\n",
       "      <th>12746</th>\n",
       "      <td>GBBS6+nNnHFbRnHpPclzg6jcrOvsccZxRNhslGWUlIs=</td>\n",
       "      <td>Kig7JKdAv6U5B8PRYib4FwgIYTii7xkszn4+aJrRVfQ=</td>\n",
       "      <td>NaN</td>\n",
       "      <td>NaN</td>\n",
       "      <td>NaN</td>\n",
       "      <td>0</td>\n",
       "    </tr>\n",
       "    <tr>\n",
       "      <th>12747</th>\n",
       "      <td>GBBS6+nNnHFbRnHpPclzg6jcrOvsccZxRNhslGWUlIs=</td>\n",
       "      <td>06hXi4WXR2i/hFi7v11B5jLMjcmdjY8Xtw47jcSFsdo=</td>\n",
       "      <td>NaN</td>\n",
       "      <td>NaN</td>\n",
       "      <td>NaN</td>\n",
       "      <td>0</td>\n",
       "    </tr>\n",
       "    <tr>\n",
       "      <th>12748</th>\n",
       "      <td>GBBS6+nNnHFbRnHpPclzg6jcrOvsccZxRNhslGWUlIs=</td>\n",
       "      <td>plAm0qudegn6ayW9PGM4ZxNS/DBx/5ekOKpUDSrPuVc=</td>\n",
       "      <td>NaN</td>\n",
       "      <td>NaN</td>\n",
       "      <td>NaN</td>\n",
       "      <td>0</td>\n",
       "    </tr>\n",
       "    <tr>\n",
       "      <th>12749</th>\n",
       "      <td>GBBS6+nNnHFbRnHpPclzg6jcrOvsccZxRNhslGWUlIs=</td>\n",
       "      <td>r918Tutfx0ADBiR7FHX0aJFE6IvN6wQBNlaJCCTKA1I=</td>\n",
       "      <td>NaN</td>\n",
       "      <td>NaN</td>\n",
       "      <td>NaN</td>\n",
       "      <td>1</td>\n",
       "    </tr>\n",
       "    <tr>\n",
       "      <th>12750</th>\n",
       "      <td>GBBS6+nNnHFbRnHpPclzg6jcrOvsccZxRNhslGWUlIs=</td>\n",
       "      <td>sYYlhMsBdmvUJvPAcgvpxgjw9BHoZBRcALiteWXoRJU=</td>\n",
       "      <td>NaN</td>\n",
       "      <td>NaN</td>\n",
       "      <td>NaN</td>\n",
       "      <td>1</td>\n",
       "    </tr>\n",
       "    <tr>\n",
       "      <th>12754</th>\n",
       "      <td>GBBS6+nNnHFbRnHpPclzg6jcrOvsccZxRNhslGWUlIs=</td>\n",
       "      <td>OyeCl/ZZb9+US0lyMWlbvoF8bGALGT6HuGbrajzsnJc=</td>\n",
       "      <td>NaN</td>\n",
       "      <td>NaN</td>\n",
       "      <td>NaN</td>\n",
       "      <td>1</td>\n",
       "    </tr>\n",
       "    <tr>\n",
       "      <th>...</th>\n",
       "      <td>...</td>\n",
       "      <td>...</td>\n",
       "      <td>...</td>\n",
       "      <td>...</td>\n",
       "      <td>...</td>\n",
       "      <td>...</td>\n",
       "    </tr>\n",
       "    <tr>\n",
       "      <th>7360411</th>\n",
       "      <td>Cl7poEppPmU+habIK5KDoDvJ+bwQF77FmLOIPRFB4d4=</td>\n",
       "      <td>93tr/kVy+41Qe500hoxy2F09bDuP3tFgziCyuhiz+qQ=</td>\n",
       "      <td>NaN</td>\n",
       "      <td>my library</td>\n",
       "      <td>local-library</td>\n",
       "      <td>1</td>\n",
       "    </tr>\n",
       "    <tr>\n",
       "      <th>7362422</th>\n",
       "      <td>06H0QMTwLP4MF/u7lyieZjdU+l/qlzEr2KBLgJ49eeY=</td>\n",
       "      <td>uGgtiS4WNEGSVQUAx9bybmTztobu6ysT+NAZ3ff2ItY=</td>\n",
       "      <td>NaN</td>\n",
       "      <td>NaN</td>\n",
       "      <td>NaN</td>\n",
       "      <td>0</td>\n",
       "    </tr>\n",
       "    <tr>\n",
       "      <th>7362423</th>\n",
       "      <td>06H0QMTwLP4MF/u7lyieZjdU+l/qlzEr2KBLgJ49eeY=</td>\n",
       "      <td>4PWcbUj9zdL8blto2jNeeSXUKmN9r+ivLpK8N926jdQ=</td>\n",
       "      <td>NaN</td>\n",
       "      <td>NaN</td>\n",
       "      <td>NaN</td>\n",
       "      <td>0</td>\n",
       "    </tr>\n",
       "    <tr>\n",
       "      <th>7362424</th>\n",
       "      <td>06H0QMTwLP4MF/u7lyieZjdU+l/qlzEr2KBLgJ49eeY=</td>\n",
       "      <td>YrOLxBhd2odexTYx+O6PUtecnVApUtGmwuFrY/qZDQY=</td>\n",
       "      <td>NaN</td>\n",
       "      <td>NaN</td>\n",
       "      <td>NaN</td>\n",
       "      <td>0</td>\n",
       "    </tr>\n",
       "    <tr>\n",
       "      <th>7364214</th>\n",
       "      <td>pxX1jZKzM/GWopw467GKw9caw3DudoIPcP3HPbykxMU=</td>\n",
       "      <td>t6zVOqzBHo8n+nYlnK2P+7Sw1hVrYXr0vM1ErCr+ihw=</td>\n",
       "      <td>NaN</td>\n",
       "      <td>NaN</td>\n",
       "      <td>NaN</td>\n",
       "      <td>0</td>\n",
       "    </tr>\n",
       "    <tr>\n",
       "      <th>7364215</th>\n",
       "      <td>pxX1jZKzM/GWopw467GKw9caw3DudoIPcP3HPbykxMU=</td>\n",
       "      <td>pqbG2OdgDn8lI1+o4WjGXVWFbVZpIW84ppVcPTwQIvI=</td>\n",
       "      <td>NaN</td>\n",
       "      <td>NaN</td>\n",
       "      <td>NaN</td>\n",
       "      <td>0</td>\n",
       "    </tr>\n",
       "    <tr>\n",
       "      <th>7367708</th>\n",
       "      <td>5vni3z2GZK5d3oEOJRjBwuH0UDD/JrI2Elqg5Bix198=</td>\n",
       "      <td>AZ7mY2NA72CL3yX3XhzZIvorH3gFXO0xl3hlc6eqsu8=</td>\n",
       "      <td>NaN</td>\n",
       "      <td>NaN</td>\n",
       "      <td>NaN</td>\n",
       "      <td>0</td>\n",
       "    </tr>\n",
       "    <tr>\n",
       "      <th>7369726</th>\n",
       "      <td>TUxdi/GpynorUAD6kHyoK2UHVOEsrqdpBfspBAZPTLY=</td>\n",
       "      <td>7ggGURvck1sgD6FZQp+BT8/u+RSJCvaLGaoGnxQKM/A=</td>\n",
       "      <td>NaN</td>\n",
       "      <td>NaN</td>\n",
       "      <td>NaN</td>\n",
       "      <td>1</td>\n",
       "    </tr>\n",
       "    <tr>\n",
       "      <th>7372119</th>\n",
       "      <td>2pa+IYlc+8QlMExGsvMY8DT21h6E7TgsRLnAjc8tVX8=</td>\n",
       "      <td>bYShoI0CynM+KsGcPL6+5DdwZSyL+X0Fk074Nac7kC0=</td>\n",
       "      <td>NaN</td>\n",
       "      <td>NaN</td>\n",
       "      <td>NaN</td>\n",
       "      <td>0</td>\n",
       "    </tr>\n",
       "    <tr>\n",
       "      <th>7372120</th>\n",
       "      <td>2pa+IYlc+8QlMExGsvMY8DT21h6E7TgsRLnAjc8tVX8=</td>\n",
       "      <td>mnjh3ShY/o3l5pCpOl3LKCVhP2zRbDfArjm4WB0ND9Q=</td>\n",
       "      <td>NaN</td>\n",
       "      <td>NaN</td>\n",
       "      <td>NaN</td>\n",
       "      <td>0</td>\n",
       "    </tr>\n",
       "    <tr>\n",
       "      <th>7372121</th>\n",
       "      <td>2pa+IYlc+8QlMExGsvMY8DT21h6E7TgsRLnAjc8tVX8=</td>\n",
       "      <td>FPMqVDziAlO7hb1QWpcxmqx1qYsfgoITEFAognxwh9E=</td>\n",
       "      <td>NaN</td>\n",
       "      <td>NaN</td>\n",
       "      <td>NaN</td>\n",
       "      <td>0</td>\n",
       "    </tr>\n",
       "    <tr>\n",
       "      <th>7375603</th>\n",
       "      <td>lh+NF7RgitNdhZzbh7Ou4rESXfmKAS4zTjDbjlF6hek=</td>\n",
       "      <td>WFV0iLuSOltmMfaMJHB6j1u27KYnqJ+/ZxJ/kYaTSyA=</td>\n",
       "      <td>NaN</td>\n",
       "      <td>NaN</td>\n",
       "      <td>NaN</td>\n",
       "      <td>0</td>\n",
       "    </tr>\n",
       "    <tr>\n",
       "      <th>7375697</th>\n",
       "      <td>2pa+IYlc+8QlMExGsvMY8DT21h6E7TgsRLnAjc8tVX8=</td>\n",
       "      <td>D3NDkAmZU9ggQbpqajlWNqqtUY3UIq+ah3h0z/vrASk=</td>\n",
       "      <td>NaN</td>\n",
       "      <td>NaN</td>\n",
       "      <td>NaN</td>\n",
       "      <td>0</td>\n",
       "    </tr>\n",
       "    <tr>\n",
       "      <th>7375698</th>\n",
       "      <td>2pa+IYlc+8QlMExGsvMY8DT21h6E7TgsRLnAjc8tVX8=</td>\n",
       "      <td>pQ3L46lV7UohoPFoG+UK9AmtZluGsbkSsh56H3RFclY=</td>\n",
       "      <td>NaN</td>\n",
       "      <td>NaN</td>\n",
       "      <td>NaN</td>\n",
       "      <td>0</td>\n",
       "    </tr>\n",
       "    <tr>\n",
       "      <th>7375699</th>\n",
       "      <td>2pa+IYlc+8QlMExGsvMY8DT21h6E7TgsRLnAjc8tVX8=</td>\n",
       "      <td>N4jT44nHRftCUPmjlQ4PEqac49FtVBKtYzk6ZmER2aM=</td>\n",
       "      <td>NaN</td>\n",
       "      <td>NaN</td>\n",
       "      <td>NaN</td>\n",
       "      <td>0</td>\n",
       "    </tr>\n",
       "    <tr>\n",
       "      <th>7375700</th>\n",
       "      <td>2pa+IYlc+8QlMExGsvMY8DT21h6E7TgsRLnAjc8tVX8=</td>\n",
       "      <td>CvURGgmANSs3j1gzyuB+qmChO/0kGQJJZEnmlHpT2e4=</td>\n",
       "      <td>NaN</td>\n",
       "      <td>NaN</td>\n",
       "      <td>NaN</td>\n",
       "      <td>0</td>\n",
       "    </tr>\n",
       "    <tr>\n",
       "      <th>7375701</th>\n",
       "      <td>2pa+IYlc+8QlMExGsvMY8DT21h6E7TgsRLnAjc8tVX8=</td>\n",
       "      <td>6pVz3eeNFdAagc4Zx7bD9cOW/OFgm7CMoLR+ot31Qxs=</td>\n",
       "      <td>NaN</td>\n",
       "      <td>NaN</td>\n",
       "      <td>NaN</td>\n",
       "      <td>0</td>\n",
       "    </tr>\n",
       "    <tr>\n",
       "      <th>7375702</th>\n",
       "      <td>2pa+IYlc+8QlMExGsvMY8DT21h6E7TgsRLnAjc8tVX8=</td>\n",
       "      <td>qImLyhYo/IbnORf3Lu7bfBKUJiSsRHTWQluGxqqY2lA=</td>\n",
       "      <td>NaN</td>\n",
       "      <td>NaN</td>\n",
       "      <td>NaN</td>\n",
       "      <td>0</td>\n",
       "    </tr>\n",
       "    <tr>\n",
       "      <th>7375703</th>\n",
       "      <td>2pa+IYlc+8QlMExGsvMY8DT21h6E7TgsRLnAjc8tVX8=</td>\n",
       "      <td>3GnfVWaZjwQ6y5nf31kOb0x6vcoCmzC8JOx8Q0gSXnc=</td>\n",
       "      <td>NaN</td>\n",
       "      <td>NaN</td>\n",
       "      <td>NaN</td>\n",
       "      <td>1</td>\n",
       "    </tr>\n",
       "    <tr>\n",
       "      <th>7375954</th>\n",
       "      <td>4Rd2VZxXBkzy5r2Wo2hG8GnYOUW7bjpIF24OKYTTGDo=</td>\n",
       "      <td>mzQ4vvtkFwzbWZxWARguWC3sZ+ujPjg4PAbvQoaeWfo=</td>\n",
       "      <td>NaN</td>\n",
       "      <td>NaN</td>\n",
       "      <td>NaN</td>\n",
       "      <td>0</td>\n",
       "    </tr>\n",
       "    <tr>\n",
       "      <th>7375955</th>\n",
       "      <td>4Rd2VZxXBkzy5r2Wo2hG8GnYOUW7bjpIF24OKYTTGDo=</td>\n",
       "      <td>InNESpQNc6sYaS6LD0mc4vtuIeUbfIqX2wM+8QgKxS4=</td>\n",
       "      <td>NaN</td>\n",
       "      <td>NaN</td>\n",
       "      <td>NaN</td>\n",
       "      <td>1</td>\n",
       "    </tr>\n",
       "    <tr>\n",
       "      <th>7375956</th>\n",
       "      <td>4Rd2VZxXBkzy5r2Wo2hG8GnYOUW7bjpIF24OKYTTGDo=</td>\n",
       "      <td>wSzRaebjTjaNU/2I7dzgP7BLqjGDuq7v2IJdYZEMCH8=</td>\n",
       "      <td>NaN</td>\n",
       "      <td>NaN</td>\n",
       "      <td>NaN</td>\n",
       "      <td>1</td>\n",
       "    </tr>\n",
       "    <tr>\n",
       "      <th>7375957</th>\n",
       "      <td>4Rd2VZxXBkzy5r2Wo2hG8GnYOUW7bjpIF24OKYTTGDo=</td>\n",
       "      <td>CDYpiKyRhHz6bJJsCBWv4z3wrqOkf1XhJ6AJFjD3vyQ=</td>\n",
       "      <td>NaN</td>\n",
       "      <td>NaN</td>\n",
       "      <td>NaN</td>\n",
       "      <td>1</td>\n",
       "    </tr>\n",
       "    <tr>\n",
       "      <th>7375958</th>\n",
       "      <td>4Rd2VZxXBkzy5r2Wo2hG8GnYOUW7bjpIF24OKYTTGDo=</td>\n",
       "      <td>KnNPuXCvhpBA4L6baLLiQnVi6RMEN0EoHN6gwqMkxh8=</td>\n",
       "      <td>NaN</td>\n",
       "      <td>NaN</td>\n",
       "      <td>NaN</td>\n",
       "      <td>1</td>\n",
       "    </tr>\n",
       "    <tr>\n",
       "      <th>7375959</th>\n",
       "      <td>4Rd2VZxXBkzy5r2Wo2hG8GnYOUW7bjpIF24OKYTTGDo=</td>\n",
       "      <td>okTGoeQeCDEMBiWgCYc37qYp4kEvMtQWJCNsPI/Szz4=</td>\n",
       "      <td>NaN</td>\n",
       "      <td>NaN</td>\n",
       "      <td>NaN</td>\n",
       "      <td>0</td>\n",
       "    </tr>\n",
       "    <tr>\n",
       "      <th>7375960</th>\n",
       "      <td>4Rd2VZxXBkzy5r2Wo2hG8GnYOUW7bjpIF24OKYTTGDo=</td>\n",
       "      <td>isKfgVu5jBgwzeoV0tFd7ZLenNgzl0zrErvMkLk0WX8=</td>\n",
       "      <td>NaN</td>\n",
       "      <td>NaN</td>\n",
       "      <td>NaN</td>\n",
       "      <td>1</td>\n",
       "    </tr>\n",
       "    <tr>\n",
       "      <th>7376015</th>\n",
       "      <td>2pa+IYlc+8QlMExGsvMY8DT21h6E7TgsRLnAjc8tVX8=</td>\n",
       "      <td>3VCLLYDxNxOGXDjUAO87faoyIpbZRQNQUwKw/GDkqf8=</td>\n",
       "      <td>NaN</td>\n",
       "      <td>NaN</td>\n",
       "      <td>NaN</td>\n",
       "      <td>1</td>\n",
       "    </tr>\n",
       "    <tr>\n",
       "      <th>7376213</th>\n",
       "      <td>4Rd2VZxXBkzy5r2Wo2hG8GnYOUW7bjpIF24OKYTTGDo=</td>\n",
       "      <td>lKV2qEntCrxtD4IJXyFGGLh7Cvix8NRy20UscQRpb6A=</td>\n",
       "      <td>NaN</td>\n",
       "      <td>NaN</td>\n",
       "      <td>NaN</td>\n",
       "      <td>1</td>\n",
       "    </tr>\n",
       "    <tr>\n",
       "      <th>7376338</th>\n",
       "      <td>4N9yZKANKrn3HQIBhoVhcTEhyyRceozpTcnnqsQ+gss=</td>\n",
       "      <td>0m0HHeb33rsWnLA3N13G2GKPYx3pgBN2JLoutqR8Mi0=</td>\n",
       "      <td>NaN</td>\n",
       "      <td>NaN</td>\n",
       "      <td>NaN</td>\n",
       "      <td>1</td>\n",
       "    </tr>\n",
       "    <tr>\n",
       "      <th>7376339</th>\n",
       "      <td>4N9yZKANKrn3HQIBhoVhcTEhyyRceozpTcnnqsQ+gss=</td>\n",
       "      <td>5veDaknFWh0v1vD1hYS6ormlAuz4lcqgp2QtXnU5jFw=</td>\n",
       "      <td>NaN</td>\n",
       "      <td>NaN</td>\n",
       "      <td>NaN</td>\n",
       "      <td>1</td>\n",
       "    </tr>\n",
       "  </tbody>\n",
       "</table>\n",
       "<p>24849 rows × 6 columns</p>\n",
       "</div>"
      ],
      "text/plain": [
       "                                                 msno  \\\n",
       "86       rAI+tZ85/S4CEHBEhUkHDLO1afqVLArCu0nsBmORwfQ=   \n",
       "88       rAI+tZ85/S4CEHBEhUkHDLO1afqVLArCu0nsBmORwfQ=   \n",
       "89       rAI+tZ85/S4CEHBEhUkHDLO1afqVLArCu0nsBmORwfQ=   \n",
       "653      1Gpomlljwhogv1K2O2qUdgZ5L43AyFswy9sau03mot8=   \n",
       "655      1Gpomlljwhogv1K2O2qUdgZ5L43AyFswy9sau03mot8=   \n",
       "656      1Gpomlljwhogv1K2O2qUdgZ5L43AyFswy9sau03mot8=   \n",
       "3745     1Gpomlljwhogv1K2O2qUdgZ5L43AyFswy9sau03mot8=   \n",
       "3747     1Gpomlljwhogv1K2O2qUdgZ5L43AyFswy9sau03mot8=   \n",
       "3748     1Gpomlljwhogv1K2O2qUdgZ5L43AyFswy9sau03mot8=   \n",
       "3749     1Gpomlljwhogv1K2O2qUdgZ5L43AyFswy9sau03mot8=   \n",
       "4702     p/hZuEXU9ExH9LKkBfIueZUaNVX9SXQC3JXA8MiNWi4=   \n",
       "4705     p/hZuEXU9ExH9LKkBfIueZUaNVX9SXQC3JXA8MiNWi4=   \n",
       "4706     p/hZuEXU9ExH9LKkBfIueZUaNVX9SXQC3JXA8MiNWi4=   \n",
       "4707     p/hZuEXU9ExH9LKkBfIueZUaNVX9SXQC3JXA8MiNWi4=   \n",
       "7804     p/hZuEXU9ExH9LKkBfIueZUaNVX9SXQC3JXA8MiNWi4=   \n",
       "7806     p/hZuEXU9ExH9LKkBfIueZUaNVX9SXQC3JXA8MiNWi4=   \n",
       "7808     p/hZuEXU9ExH9LKkBfIueZUaNVX9SXQC3JXA8MiNWi4=   \n",
       "7810     p/hZuEXU9ExH9LKkBfIueZUaNVX9SXQC3JXA8MiNWi4=   \n",
       "7965     z27xJQmVRtXwq8ZBSeGGy7OUxwmgVlm8dRPix/JNFac=   \n",
       "7967     z27xJQmVRtXwq8ZBSeGGy7OUxwmgVlm8dRPix/JNFac=   \n",
       "10298    HDcLTCGI5Z3ZMZuZ24SIRhoIWCFhCGN98B4DNcxfKkE=   \n",
       "10307    HDcLTCGI5Z3ZMZuZ24SIRhoIWCFhCGN98B4DNcxfKkE=   \n",
       "11804    isppOR2I0PS42eDcZu3jB5i9cnaiKJjpxdrcv1Ituac=   \n",
       "12745    GBBS6+nNnHFbRnHpPclzg6jcrOvsccZxRNhslGWUlIs=   \n",
       "12746    GBBS6+nNnHFbRnHpPclzg6jcrOvsccZxRNhslGWUlIs=   \n",
       "12747    GBBS6+nNnHFbRnHpPclzg6jcrOvsccZxRNhslGWUlIs=   \n",
       "12748    GBBS6+nNnHFbRnHpPclzg6jcrOvsccZxRNhslGWUlIs=   \n",
       "12749    GBBS6+nNnHFbRnHpPclzg6jcrOvsccZxRNhslGWUlIs=   \n",
       "12750    GBBS6+nNnHFbRnHpPclzg6jcrOvsccZxRNhslGWUlIs=   \n",
       "12754    GBBS6+nNnHFbRnHpPclzg6jcrOvsccZxRNhslGWUlIs=   \n",
       "...                                               ...   \n",
       "7360411  Cl7poEppPmU+habIK5KDoDvJ+bwQF77FmLOIPRFB4d4=   \n",
       "7362422  06H0QMTwLP4MF/u7lyieZjdU+l/qlzEr2KBLgJ49eeY=   \n",
       "7362423  06H0QMTwLP4MF/u7lyieZjdU+l/qlzEr2KBLgJ49eeY=   \n",
       "7362424  06H0QMTwLP4MF/u7lyieZjdU+l/qlzEr2KBLgJ49eeY=   \n",
       "7364214  pxX1jZKzM/GWopw467GKw9caw3DudoIPcP3HPbykxMU=   \n",
       "7364215  pxX1jZKzM/GWopw467GKw9caw3DudoIPcP3HPbykxMU=   \n",
       "7367708  5vni3z2GZK5d3oEOJRjBwuH0UDD/JrI2Elqg5Bix198=   \n",
       "7369726  TUxdi/GpynorUAD6kHyoK2UHVOEsrqdpBfspBAZPTLY=   \n",
       "7372119  2pa+IYlc+8QlMExGsvMY8DT21h6E7TgsRLnAjc8tVX8=   \n",
       "7372120  2pa+IYlc+8QlMExGsvMY8DT21h6E7TgsRLnAjc8tVX8=   \n",
       "7372121  2pa+IYlc+8QlMExGsvMY8DT21h6E7TgsRLnAjc8tVX8=   \n",
       "7375603  lh+NF7RgitNdhZzbh7Ou4rESXfmKAS4zTjDbjlF6hek=   \n",
       "7375697  2pa+IYlc+8QlMExGsvMY8DT21h6E7TgsRLnAjc8tVX8=   \n",
       "7375698  2pa+IYlc+8QlMExGsvMY8DT21h6E7TgsRLnAjc8tVX8=   \n",
       "7375699  2pa+IYlc+8QlMExGsvMY8DT21h6E7TgsRLnAjc8tVX8=   \n",
       "7375700  2pa+IYlc+8QlMExGsvMY8DT21h6E7TgsRLnAjc8tVX8=   \n",
       "7375701  2pa+IYlc+8QlMExGsvMY8DT21h6E7TgsRLnAjc8tVX8=   \n",
       "7375702  2pa+IYlc+8QlMExGsvMY8DT21h6E7TgsRLnAjc8tVX8=   \n",
       "7375703  2pa+IYlc+8QlMExGsvMY8DT21h6E7TgsRLnAjc8tVX8=   \n",
       "7375954  4Rd2VZxXBkzy5r2Wo2hG8GnYOUW7bjpIF24OKYTTGDo=   \n",
       "7375955  4Rd2VZxXBkzy5r2Wo2hG8GnYOUW7bjpIF24OKYTTGDo=   \n",
       "7375956  4Rd2VZxXBkzy5r2Wo2hG8GnYOUW7bjpIF24OKYTTGDo=   \n",
       "7375957  4Rd2VZxXBkzy5r2Wo2hG8GnYOUW7bjpIF24OKYTTGDo=   \n",
       "7375958  4Rd2VZxXBkzy5r2Wo2hG8GnYOUW7bjpIF24OKYTTGDo=   \n",
       "7375959  4Rd2VZxXBkzy5r2Wo2hG8GnYOUW7bjpIF24OKYTTGDo=   \n",
       "7375960  4Rd2VZxXBkzy5r2Wo2hG8GnYOUW7bjpIF24OKYTTGDo=   \n",
       "7376015  2pa+IYlc+8QlMExGsvMY8DT21h6E7TgsRLnAjc8tVX8=   \n",
       "7376213  4Rd2VZxXBkzy5r2Wo2hG8GnYOUW7bjpIF24OKYTTGDo=   \n",
       "7376338  4N9yZKANKrn3HQIBhoVhcTEhyyRceozpTcnnqsQ+gss=   \n",
       "7376339  4N9yZKANKrn3HQIBhoVhcTEhyyRceozpTcnnqsQ+gss=   \n",
       "\n",
       "                                              song_id source_system_tab  \\\n",
       "86       U03If8ekFQ69MIodnGZOgaFV9vbFpwDQZQYCf5To5fo=               NaN   \n",
       "88       yv4Nasbw8r06KtMHzaEMF/SrpYPv+V73JrwFClUoRQ0=               NaN   \n",
       "89       0cHV60MVnGOKMb/GRHWEExfpahkCwIZQ0wxdYBJfoqE=               NaN   \n",
       "653      zx4aCmk+b/uPmvESsG8ekvi7qWmifSPNMXg1i8wyG8Q=               NaN   \n",
       "655      reXuGcEWDDCnL0K3Th//3DFG4S1ACSpJMzA+CFipo1g=               NaN   \n",
       "656      IIPVkO6EB8ymcuxkuxkum1N5gowLdTzy9sYF9luyhVk=               NaN   \n",
       "3745     VodwEvJB2FUoIPAZhpqI+ml/3yzxl/fuw9xATZV1BIU=               NaN   \n",
       "3747     JRa3KgSwWDyY17usXoi6jN8O6v6t6Tq4xcwjbUkbQFQ=               NaN   \n",
       "3748     /GgZUQhPI/FEfpetN79CmK0gig4V2d0wiYQDGRbQ0Eg=               NaN   \n",
       "3749     WsVr4mozaIQq9Tp8Ks0Iir3HIFTQQSpEDO1AmUIzdsc=               NaN   \n",
       "4702     9zVQUtq/Uzlxk3X7BwI28CSY7FomzpmtsRc8f2bRyJE=               NaN   \n",
       "4705     IXP1a2o3NL8WU4WK1X0WJAKaSW+LgGRpPDn4Gt1HrV8=               NaN   \n",
       "4706     oTGg75yjTAP0grXmGld3EUD0b/b9u7lW2JyUX/mBiXI=               NaN   \n",
       "4707     A7Z2nDVASy04EpmfzOL9PRMN3hFVbWQ7ah4J+o9sLnE=               NaN   \n",
       "7804     BwDDym6Tp7EnGudWBGJyjONZeX0/4ndu5PETiPWzav8=               NaN   \n",
       "7806     HzCFc9gU/AuYNF1ld1ZlyeCpQvVLTonc8+ZrUAidmmY=               NaN   \n",
       "7808     eBme/h4Z4eP7BZY3tifu5Lr/dRB9NQJVIl36jZ5DZGQ=               NaN   \n",
       "7810     1PR/lVwL4VeYcZjexwBJ2NOSTfgh8JoVxWCunnbJO/8=               NaN   \n",
       "7965     osgK8gJWpbXRJGyiFiRmFoCRdcL/Z0VKA3b4rM6JSY8=               NaN   \n",
       "7967     tPuFgbwPtgVB/NIkVvTyOVdbfuD802dw6DiIxcXf2fo=               NaN   \n",
       "10298    wrVyieNp7YQuoJCcC4Dfra2fFF3VbsbR4jnxeZpBxkA=               NaN   \n",
       "10307    AagU1o3YQ2blHGfH5uF2dmwXCYZawhW4rFsGUGYCH3k=               NaN   \n",
       "11804    /SHESXpFXRXTICRKbTln1e8ffzmghPixS09mMK7rpoY=               NaN   \n",
       "12745    dOTnwB19FAgLjsMwYhEZNfy5hiTYYwEo/DBGRjjvC6c=               NaN   \n",
       "12746    Kig7JKdAv6U5B8PRYib4FwgIYTii7xkszn4+aJrRVfQ=               NaN   \n",
       "12747    06hXi4WXR2i/hFi7v11B5jLMjcmdjY8Xtw47jcSFsdo=               NaN   \n",
       "12748    plAm0qudegn6ayW9PGM4ZxNS/DBx/5ekOKpUDSrPuVc=               NaN   \n",
       "12749    r918Tutfx0ADBiR7FHX0aJFE6IvN6wQBNlaJCCTKA1I=               NaN   \n",
       "12750    sYYlhMsBdmvUJvPAcgvpxgjw9BHoZBRcALiteWXoRJU=               NaN   \n",
       "12754    OyeCl/ZZb9+US0lyMWlbvoF8bGALGT6HuGbrajzsnJc=               NaN   \n",
       "...                                               ...               ...   \n",
       "7360411  93tr/kVy+41Qe500hoxy2F09bDuP3tFgziCyuhiz+qQ=               NaN   \n",
       "7362422  uGgtiS4WNEGSVQUAx9bybmTztobu6ysT+NAZ3ff2ItY=               NaN   \n",
       "7362423  4PWcbUj9zdL8blto2jNeeSXUKmN9r+ivLpK8N926jdQ=               NaN   \n",
       "7362424  YrOLxBhd2odexTYx+O6PUtecnVApUtGmwuFrY/qZDQY=               NaN   \n",
       "7364214  t6zVOqzBHo8n+nYlnK2P+7Sw1hVrYXr0vM1ErCr+ihw=               NaN   \n",
       "7364215  pqbG2OdgDn8lI1+o4WjGXVWFbVZpIW84ppVcPTwQIvI=               NaN   \n",
       "7367708  AZ7mY2NA72CL3yX3XhzZIvorH3gFXO0xl3hlc6eqsu8=               NaN   \n",
       "7369726  7ggGURvck1sgD6FZQp+BT8/u+RSJCvaLGaoGnxQKM/A=               NaN   \n",
       "7372119  bYShoI0CynM+KsGcPL6+5DdwZSyL+X0Fk074Nac7kC0=               NaN   \n",
       "7372120  mnjh3ShY/o3l5pCpOl3LKCVhP2zRbDfArjm4WB0ND9Q=               NaN   \n",
       "7372121  FPMqVDziAlO7hb1QWpcxmqx1qYsfgoITEFAognxwh9E=               NaN   \n",
       "7375603  WFV0iLuSOltmMfaMJHB6j1u27KYnqJ+/ZxJ/kYaTSyA=               NaN   \n",
       "7375697  D3NDkAmZU9ggQbpqajlWNqqtUY3UIq+ah3h0z/vrASk=               NaN   \n",
       "7375698  pQ3L46lV7UohoPFoG+UK9AmtZluGsbkSsh56H3RFclY=               NaN   \n",
       "7375699  N4jT44nHRftCUPmjlQ4PEqac49FtVBKtYzk6ZmER2aM=               NaN   \n",
       "7375700  CvURGgmANSs3j1gzyuB+qmChO/0kGQJJZEnmlHpT2e4=               NaN   \n",
       "7375701  6pVz3eeNFdAagc4Zx7bD9cOW/OFgm7CMoLR+ot31Qxs=               NaN   \n",
       "7375702  qImLyhYo/IbnORf3Lu7bfBKUJiSsRHTWQluGxqqY2lA=               NaN   \n",
       "7375703  3GnfVWaZjwQ6y5nf31kOb0x6vcoCmzC8JOx8Q0gSXnc=               NaN   \n",
       "7375954  mzQ4vvtkFwzbWZxWARguWC3sZ+ujPjg4PAbvQoaeWfo=               NaN   \n",
       "7375955  InNESpQNc6sYaS6LD0mc4vtuIeUbfIqX2wM+8QgKxS4=               NaN   \n",
       "7375956  wSzRaebjTjaNU/2I7dzgP7BLqjGDuq7v2IJdYZEMCH8=               NaN   \n",
       "7375957  CDYpiKyRhHz6bJJsCBWv4z3wrqOkf1XhJ6AJFjD3vyQ=               NaN   \n",
       "7375958  KnNPuXCvhpBA4L6baLLiQnVi6RMEN0EoHN6gwqMkxh8=               NaN   \n",
       "7375959  okTGoeQeCDEMBiWgCYc37qYp4kEvMtQWJCNsPI/Szz4=               NaN   \n",
       "7375960  isKfgVu5jBgwzeoV0tFd7ZLenNgzl0zrErvMkLk0WX8=               NaN   \n",
       "7376015  3VCLLYDxNxOGXDjUAO87faoyIpbZRQNQUwKw/GDkqf8=               NaN   \n",
       "7376213  lKV2qEntCrxtD4IJXyFGGLh7Cvix8NRy20UscQRpb6A=               NaN   \n",
       "7376338  0m0HHeb33rsWnLA3N13G2GKPYx3pgBN2JLoutqR8Mi0=               NaN   \n",
       "7376339  5veDaknFWh0v1vD1hYS6ormlAuz4lcqgp2QtXnU5jFw=               NaN   \n",
       "\n",
       "        source_screen_name    source_type  target  \n",
       "86                     NaN            NaN       0  \n",
       "88                     NaN            NaN       0  \n",
       "89                     NaN            NaN       0  \n",
       "653                    NaN            NaN       1  \n",
       "655                    NaN            NaN       1  \n",
       "656                    NaN            NaN       1  \n",
       "3745                   NaN            NaN       1  \n",
       "3747                   NaN            NaN       1  \n",
       "3748                   NaN            NaN       1  \n",
       "3749                   NaN            NaN       1  \n",
       "4702                   NaN            NaN       1  \n",
       "4705                   NaN            NaN       1  \n",
       "4706                   NaN            NaN       1  \n",
       "4707                   NaN            NaN       1  \n",
       "7804                   NaN            NaN       1  \n",
       "7806                   NaN            NaN       1  \n",
       "7808                   NaN            NaN       1  \n",
       "7810                   NaN            NaN       1  \n",
       "7965                   NaN            NaN       0  \n",
       "7967                   NaN            NaN       0  \n",
       "10298                  NaN            NaN       1  \n",
       "10307                  NaN            NaN       1  \n",
       "11804                  NaN            NaN       1  \n",
       "12745                  NaN            NaN       0  \n",
       "12746                  NaN            NaN       0  \n",
       "12747                  NaN            NaN       0  \n",
       "12748                  NaN            NaN       0  \n",
       "12749                  NaN            NaN       1  \n",
       "12750                  NaN            NaN       1  \n",
       "12754                  NaN            NaN       1  \n",
       "...                    ...            ...     ...  \n",
       "7360411         my library  local-library       1  \n",
       "7362422                NaN            NaN       0  \n",
       "7362423                NaN            NaN       0  \n",
       "7362424                NaN            NaN       0  \n",
       "7364214                NaN            NaN       0  \n",
       "7364215                NaN            NaN       0  \n",
       "7367708                NaN            NaN       0  \n",
       "7369726                NaN            NaN       1  \n",
       "7372119                NaN            NaN       0  \n",
       "7372120                NaN            NaN       0  \n",
       "7372121                NaN            NaN       0  \n",
       "7375603                NaN            NaN       0  \n",
       "7375697                NaN            NaN       0  \n",
       "7375698                NaN            NaN       0  \n",
       "7375699                NaN            NaN       0  \n",
       "7375700                NaN            NaN       0  \n",
       "7375701                NaN            NaN       0  \n",
       "7375702                NaN            NaN       0  \n",
       "7375703                NaN            NaN       1  \n",
       "7375954                NaN            NaN       0  \n",
       "7375955                NaN            NaN       1  \n",
       "7375956                NaN            NaN       1  \n",
       "7375957                NaN            NaN       1  \n",
       "7375958                NaN            NaN       1  \n",
       "7375959                NaN            NaN       0  \n",
       "7375960                NaN            NaN       1  \n",
       "7376015                NaN            NaN       1  \n",
       "7376213                NaN            NaN       1  \n",
       "7376338                NaN            NaN       1  \n",
       "7376339                NaN            NaN       1  \n",
       "\n",
       "[24849 rows x 6 columns]"
      ]
     },
     "execution_count": 8,
     "metadata": {},
     "output_type": "execute_result"
    }
   ],
   "source": [
    "#Explore data when source_system_tab is NaN\n",
    "train[train.source_system_tab.isnull()]"
   ]
  },
  {
   "cell_type": "code",
   "execution_count": 9,
   "metadata": {},
   "outputs": [
    {
     "data": {
      "text/plain": [
       "msno                      0\n",
       "song_id                   0\n",
       "source_system_tab     24849\n",
       "source_screen_name    22327\n",
       "source_type           18204\n",
       "target                    0\n",
       "dtype: int64"
      ]
     },
     "execution_count": 9,
     "metadata": {},
     "output_type": "execute_result"
    }
   ],
   "source": [
    "#Check how many NaN there are in other columns when source_system_tab is NaN\n",
    "train[train.source_system_tab.isnull()].isnull().sum()"
   ]
  },
  {
   "cell_type": "code",
   "execution_count": 10,
   "metadata": {
    "scrolled": true
   },
   "outputs": [
    {
     "data": {
      "text/plain": [
       "msno                      0\n",
       "song_id                   0\n",
       "source_system_tab     18204\n",
       "source_screen_name    20744\n",
       "source_type           21539\n",
       "target                    0\n",
       "dtype: int64"
      ]
     },
     "execution_count": 10,
     "metadata": {},
     "output_type": "execute_result"
    }
   ],
   "source": [
    "#Check how many NaN there are in other columns when source_type is NaN\n",
    "train[train.source_type.isnull()].isnull().sum()"
   ]
  },
  {
   "cell_type": "markdown",
   "metadata": {},
   "source": [
    "It looks like there around 18k rows that have missing values for source related information columns. Before exploring further the data, we will drop all rows where all these three columns have missing values. \n",
    "This does not represent a big amount of the data, so it is fine to delete these rows."
   ]
  },
  {
   "cell_type": "code",
   "execution_count": 11,
   "metadata": {},
   "outputs": [
    {
     "data": {
      "text/plain": [
       "msno                       0\n",
       "song_id                    0\n",
       "source_system_tab       6645\n",
       "source_screen_name    450770\n",
       "source_type             3335\n",
       "target                     0\n",
       "dtype: int64"
      ]
     },
     "execution_count": 11,
     "metadata": {},
     "output_type": "execute_result"
    }
   ],
   "source": [
    "train_clean=train.dropna(subset=['source_system_tab','source_screen_name','source_type'], how='all')\n",
    "train_clean.isnull().sum()"
   ]
  },
  {
   "cell_type": "markdown",
   "metadata": {},
   "source": [
    "After dropping rows with all source related information columns missing, let's to check if we can remove the rest of the rows with missing values in source_system_tab. \n",
    "For that purpose, we will try to answer the following questions:\n",
    "- Are rows with source_system_tab NaN values concentrated in one/few types of source_type? Do they represent more than 5% of the data?\n",
    "- Are rows with source_system_tab NaN values concentrated in one/few types of source_screen_name? Do they represent more than 5% of the data?"
   ]
  },
  {
   "cell_type": "code",
   "execution_count": 12,
   "metadata": {
    "scrolled": false
   },
   "outputs": [
    {
     "name": "stdout",
     "output_type": "stream",
     "text": [
      "                        count missing  count total  %missing\n",
      "source_type                                                 \n",
      "album                             140       477344  0.029329\n",
      "artist                              0         3038  0.000000\n",
      "listen-with                        35       192842  0.018150\n",
      "local-library                    1769      2261399  0.078226\n",
      "local-playlist                    617      1079503  0.057156\n",
      "my-daily-playlist                   0          663  0.000000\n",
      "online-playlist                  3349      1967924  0.170179\n",
      "radio                             428       483109  0.088593\n",
      "song                               29       244722  0.011850\n",
      "song-based-playlist                93       210527  0.044175\n",
      "top-hits-for-artist               185       423614  0.043672\n",
      "topic-article-playlist              0        11194  0.000000\n"
     ]
    }
   ],
   "source": [
    "#Are rows with source_system_tab NaN values concentrated in one type of source_type?\n",
    "#Count missing source_system_tab values depending on the source_type: df11\n",
    "df11=train_clean[train_clean.source_system_tab.isnull()].groupby(['source_type']).msno.count()\n",
    "#Count entries by source type: df12\n",
    "df12=train_clean.groupby(['source_type']).msno.count()\n",
    "#Concatenate df11 and df12 to perform calculations: df13\n",
    "df13=pd.concat([df11,df12],axis=1,sort=True)\n",
    "#Rename columns in df13\n",
    "df13.columns=['count missing','count total']\n",
    "#Compute % missing values with respect to total number of entries per source_type\n",
    "df13['%missing']=df13['count missing']/df13['count total']*100\n",
    "print(df13)"
   ]
  },
  {
   "cell_type": "code",
   "execution_count": 13,
   "metadata": {},
   "outputs": [
    {
     "data": {
      "text/plain": [
       "Text(0.5,1,'% source_system_tab NaN depending on the source_type')"
      ]
     },
     "execution_count": 13,
     "metadata": {},
     "output_type": "execute_result"
    },
    {
     "data": {
      "image/png": "[encoded data removed]",
      "text/plain": [
       "<Figure size 432x288 with 1 Axes>"
      ]
     },
     "metadata": {},
     "output_type": "display_data"
    }
   ],
   "source": [
    "#Plot % of missing source_system_tab values depending on the source_type\n",
    "df13['%missing'].plot(kind='bar')\n",
    "plt.ylabel('% source_system_tab missing values')\n",
    "plt.xlabel('source_type')\n",
    "plt.title('% source_system_tab NaN depending on the source_type')"
   ]
  },
  {
   "cell_type": "code",
   "execution_count": 14,
   "metadata": {},
   "outputs": [
    {
     "name": "stdout",
     "output_type": "stream",
     "text": [
      "                      count missing  count total  %missing\n",
      "source_screen_name                                        \n",
      "album more                      113       420156  0.026895\n",
      "artist more                       2       252429  0.000792\n",
      "concert                           0           47  0.000000\n",
      "discover chart                   88       213658  0.041187\n",
      "discover feature                267       244246  0.109316\n",
      "discover genre                    1        82202  0.001217\n",
      "discover new                      0        15955  0.000000\n",
      "explore                          65        72342  0.089851\n",
      "local playlist more             501      3228202  0.015519\n",
      "my library                     1151        75980  1.514872\n",
      "my library_search                 0         6451  0.000000\n",
      "online playlist more            276      1294689  0.021318\n",
      "others profile more               0       201795  0.000000\n",
      "payment                           0           12  0.000000\n",
      "radio                            15       474467  0.003161\n",
      "search                           27       298487  0.009046\n",
      "search home                       5        13482  0.037086\n",
      "search trends                    11        13632  0.080692\n",
      "self profile more                 0          212  0.000000\n"
     ]
    }
   ],
   "source": [
    "#Are rows with source_system_tab NaN values concentrated in one type of source_screen_name?\n",
    "#Count missing source_system_tab values depending on the source_screen_name: df21\n",
    "df21=train_clean[train_clean.source_system_tab.isnull()].groupby(['source_screen_name']).msno.count()\n",
    "#Count entries by source_screen_name: df22\n",
    "df22=train_clean.groupby(['source_screen_name']).msno.count()\n",
    "#Concatenate df21 and df22 to perform calculations: df23\n",
    "df23=pd.concat([df21,df22],axis=1,sort=True)\n",
    "#Rename columns in df23\n",
    "df23.columns=['count missing','count total']\n",
    "#Compute % missing values with respect to total number of entries per source_type\n",
    "df23['%missing']=df23['count missing']/df23['count total']*100\n",
    "print(df23)"
   ]
  },
  {
   "cell_type": "code",
   "execution_count": 15,
   "metadata": {},
   "outputs": [
    {
     "data": {
      "text/plain": [
       "Text(0.5,1,'% source_system_tab NaN depending on the source_screen_name')"
      ]
     },
     "execution_count": 15,
     "metadata": {},
     "output_type": "execute_result"
    },
    {
     "data": {
      "image/png": "[encoded data removed]",
      "text/plain": [
       "<Figure size 432x288 with 1 Axes>"
      ]
     },
     "metadata": {},
     "output_type": "display_data"
    }
   ],
   "source": [
    "#Plot % of missing source_system_tab values depending on the source_screen_name\n",
    "df23['%missing'].plot(kind='bar')\n",
    "plt.ylabel('% source_system_tab missing values')\n",
    "plt.xlabel('source_type')\n",
    "plt.title('% source_system_tab NaN depending on the source_screen_name')"
   ]
  },
  {
   "cell_type": "markdown",
   "metadata": {},
   "source": [
    "Missing values in source_system_tab will be dropped since in none of the source_screen_name or source_type categories represent more than 5% of the data."
   ]
  },
  {
   "cell_type": "markdown",
   "metadata": {},
   "source": [
    "Let's check if we can remove the rest of the rows with missing values in source_type. For that purpose, we will try to answer the following questions:\n",
    "- Are rows with source_type NaN values concentrated in one/few types of source_system_tab? Do they represent more than 5% of the data?\n",
    "- Are rows with source_type NaN values concentrated in one/few types of source_screen_name? Do they represent more than 5% of the data?\n"
   ]
  },
  {
   "cell_type": "code",
   "execution_count": 16,
   "metadata": {},
   "outputs": [
    {
     "name": "stdout",
     "output_type": "stream",
     "text": [
      "                   count missing  count total  %missing\n",
      "source_system_tab                                      \n",
      "discover                     913      2179252  0.041895\n",
      "explore                      613       167949  0.364992\n",
      "listen with                    4       212266  0.001884\n",
      "my library                  1723      3684730  0.046761\n",
      "notification                  11         6185  0.177850\n",
      "radio                          2       476701  0.000420\n",
      "search                        69       623286  0.011070\n",
      "settings                       0         2200  0.000000\n"
     ]
    }
   ],
   "source": [
    "#Are rows with source_type NaN values concentrated in one type of source_system_tab?\n",
    "#Count missing source_type values depending on the source_system_tab: df31\n",
    "df31=train_clean[train_clean.source_type.isnull()].groupby(['source_system_tab']).msno.count()\n",
    "#Count entries by source type: df32\n",
    "df32=train_clean.groupby(['source_system_tab']).msno.count()\n",
    "#Concatenate df31 and df32 to perform calculations: df33\n",
    "df33=pd.concat([df31,df32],axis=1,sort=True)\n",
    "#Rename columns in df33\n",
    "df33.columns=['count missing','count total']\n",
    "#Compute % missing values with respect to total number of entries per source_type\n",
    "df33['%missing']=df33['count missing']/df33['count total']*100\n",
    "print(df33)"
   ]
  },
  {
   "cell_type": "code",
   "execution_count": 17,
   "metadata": {},
   "outputs": [
    {
     "data": {
      "text/plain": [
       "Text(0.5,1,'% source_type NaN depending on the source_system_tab')"
      ]
     },
     "execution_count": 17,
     "metadata": {},
     "output_type": "execute_result"
    },
    {
     "data": {
      "image/png": "[encoded data removed]",
      "text/plain": [
       "<Figure size 432x288 with 1 Axes>"
      ]
     },
     "metadata": {},
     "output_type": "display_data"
    }
   ],
   "source": [
    "#Plot % of missing source_type values depending on the source_system_tab\n",
    "df33['%missing'].plot(kind='bar')\n",
    "plt.ylabel('% source_type missing values')\n",
    "plt.xlabel('source_system_tab')\n",
    "plt.title('% source_type NaN depending on the source_system_tab')"
   ]
  },
  {
   "cell_type": "code",
   "execution_count": 18,
   "metadata": {},
   "outputs": [
    {
     "name": "stdout",
     "output_type": "stream",
     "text": [
      "                      count missing  count total  %missing\n",
      "source_screen_name                                        \n",
      "album more                      774       420156  0.184217\n",
      "artist more                       0       252429  0.000000\n",
      "concert                           0           47  0.000000\n",
      "discover chart                    0       213658  0.000000\n",
      "discover feature                  0       244246  0.000000\n",
      "discover genre                    0        82202  0.000000\n",
      "discover new                      0        15955  0.000000\n",
      "explore                          18        72342  0.024882\n",
      "local playlist more               3      3228202  0.000093\n",
      "my library                        0        75980  0.000000\n",
      "my library_search                 0         6451  0.000000\n",
      "online playlist more              0      1294689  0.000000\n",
      "others profile more               0       201795  0.000000\n",
      "payment                           0           12  0.000000\n",
      "radio                             0       474467  0.000000\n",
      "search                            0       298487  0.000000\n",
      "search home                       0        13482  0.000000\n",
      "search trends                     0        13632  0.000000\n",
      "self profile more                 0          212  0.000000\n"
     ]
    }
   ],
   "source": [
    "#Are rows with source_type NaN values concentrated in one type of source_screen_name?\n",
    "#Count missing source_type values depending on the source_screen_name: df41\n",
    "df41=train_clean[train_clean.source_type.isnull()].groupby(['source_screen_name']).msno.count()\n",
    "#Count entries by source type: df42\n",
    "df42=train_clean.groupby(['source_screen_name']).msno.count()\n",
    "#Concatenate df41 and df42 to perform calculations: df43\n",
    "df43=pd.concat([df41,df42],axis=1,sort=True)\n",
    "#Rename columns in df43\n",
    "df43.columns=['count missing','count total']\n",
    "#Compute % missing values with respect to total number of entries per source_type\n",
    "df43['%missing']=df43['count missing']/df43['count total']*100\n",
    "print(df43)"
   ]
  },
  {
   "cell_type": "code",
   "execution_count": 19,
   "metadata": {},
   "outputs": [
    {
     "data": {
      "text/plain": [
       "Text(0.5,1,'% source_type NaN depending on the source_screen_name')"
      ]
     },
     "execution_count": 19,
     "metadata": {},
     "output_type": "execute_result"
    },
    {
     "data": {
      "image/png": "[encoded data removed]",
      "text/plain": [
       "<Figure size 432x288 with 1 Axes>"
      ]
     },
     "metadata": {},
     "output_type": "display_data"
    }
   ],
   "source": [
    "#Plot % of missing source_type values depending on the source_screen_name\n",
    "df43['%missing'].plot(kind='bar')\n",
    "plt.ylabel('% source_type missing values')\n",
    "plt.xlabel('source_screen_name')\n",
    "plt.title('% source_type NaN depending on the source_screen_name')"
   ]
  },
  {
   "cell_type": "markdown",
   "metadata": {},
   "source": [
    "Missing values in source_type will be dropped since in none of the source_screen_name or source_system_tab categories represent more than 5% of the data."
   ]
  },
  {
   "cell_type": "code",
   "execution_count": 20,
   "metadata": {},
   "outputs": [
    {
     "data": {
      "text/plain": [
       "msno                       0\n",
       "song_id                    0\n",
       "source_system_tab          0\n",
       "source_screen_name    444107\n",
       "source_type                0\n",
       "target                     0\n",
       "dtype: int64"
      ]
     },
     "execution_count": 20,
     "metadata": {},
     "output_type": "execute_result"
    }
   ],
   "source": [
    "#Drop raws missing values in source_system_tab and source_type columns\n",
    "train_clean_2=train.dropna(subset=['source_system_tab','source_type'], how='any')\n",
    "train_clean_2.isnull().sum()"
   ]
  },
  {
   "cell_type": "code",
   "execution_count": 21,
   "metadata": {},
   "outputs": [
    {
     "name": "stdout",
     "output_type": "stream",
     "text": [
      "<class 'pandas.core.frame.DataFrame'>\n",
      "Int64Index: 7349234 entries, 0 to 7377417\n",
      "Data columns (total 6 columns):\n",
      "msno                  object\n",
      "song_id               object\n",
      "source_system_tab     category\n",
      "source_screen_name    category\n",
      "source_type           category\n",
      "target                int64\n",
      "dtypes: category(3), int64(1), object(2)\n",
      "memory usage: 245.3+ MB\n"
     ]
    }
   ],
   "source": [
    "train_clean_2.info()"
   ]
  },
  {
   "cell_type": "markdown",
   "metadata": {},
   "source": [
    "Let's check how the source_screen_name NaN values are distributed."
   ]
  },
  {
   "cell_type": "code",
   "execution_count": 22,
   "metadata": {},
   "outputs": [
    {
     "name": "stdout",
     "output_type": "stream",
     "text": [
      "                   count missing  count total   %missing\n",
      "source_system_tab                                       \n",
      "discover                  266050      2178339  12.213434\n",
      "explore                    21702       167336  12.969116\n",
      "listen with                 7396       212262   3.484373\n",
      "my library                141080      3683007   3.830566\n",
      "notification                 355         6174   5.749919\n",
      "radio                       6047       476699   1.268515\n",
      "search                       127       623217   0.020378\n",
      "settings                    1350         2200  61.363636\n"
     ]
    }
   ],
   "source": [
    "#Are rows with source_screen_name NaN values concentrated in one type of source_system_tab?\n",
    "#Count missing source_screen_name values depending on the source_system_tab: df51\n",
    "df51=train_clean_2[train_clean_2.source_screen_name.isnull()].groupby(['source_system_tab']).msno.count()\n",
    "#Count entries by source type: df52\n",
    "df52=train_clean_2.groupby(['source_system_tab']).msno.count()\n",
    "#Concatenate df51 and df52 to perform calculations: df53\n",
    "df53=pd.concat([df51,df52],axis=1,sort=True)\n",
    "#Rename columns in df53\n",
    "df53.columns=['count missing','count total']\n",
    "#Compute % missing values with respect to total number of entries per source_type\n",
    "df53['%missing']=df53['count missing']/df53['count total']*100\n",
    "print(df53)"
   ]
  },
  {
   "cell_type": "code",
   "execution_count": 23,
   "metadata": {},
   "outputs": [
    {
     "data": {
      "text/plain": [
       "Text(0.5,1,'% source_screen_name NaN depending on the source_system_tab')"
      ]
     },
     "execution_count": 23,
     "metadata": {},
     "output_type": "execute_result"
    },
    {
     "data": {
      "image/png": "[encoded data removed]",
      "text/plain": [
       "<Figure size 432x288 with 1 Axes>"
      ]
     },
     "metadata": {},
     "output_type": "display_data"
    }
   ],
   "source": [
    "#Plot % of missing source_screen_name values depending on the source_system_tab in train_clean_2\n",
    "df53['%missing'].plot(kind='bar')\n",
    "plt.ylabel('% source_screen_name missing values')\n",
    "plt.xlabel('source_system_tab')\n",
    "plt.title('% source_screen_name NaN depending on the source_system_tab')"
   ]
  },
  {
   "cell_type": "markdown",
   "metadata": {},
   "source": [
    "Missing values in source_screen_name can't be dropped. In the case of source_system_tab=settings missing values represent more than 50% of rows. "
   ]
  },
  {
   "cell_type": "code",
   "execution_count": 24,
   "metadata": {},
   "outputs": [
    {
     "name": "stdout",
     "output_type": "stream",
     "text": [
      "                        count missing  count total   %missing\n",
      "source_type                                                  \n",
      "album                            5269       477204   1.104140\n",
      "artist                             86         3038   2.830810\n",
      "listen-with                      5758       192807   2.986406\n",
      "local-library                   44393      2259630   1.964614\n",
      "local-playlist                  20200      1078886   1.872302\n",
      "my-daily-playlist                 285          663  42.986425\n",
      "online-playlist                119807      1964575   6.098367\n",
      "radio                            5123       482681   1.061364\n",
      "song                            28528       244693  11.658691\n",
      "song-based-playlist             48543       210434  23.068040\n",
      "top-hits-for-artist            164306       423429  38.803672\n",
      "topic-article-playlist           1809        11194  16.160443\n"
     ]
    }
   ],
   "source": [
    "#Are rows with source_screen_name NaN values concentrated in one type of source_type?\n",
    "#Count missing source_screen_name values depending on the source_type: df61\n",
    "df61=train_clean_2[train_clean_2.source_screen_name.isnull()].groupby(['source_type']).msno.count()\n",
    "#Count entries by source type: df62\n",
    "df62=train_clean_2.groupby(['source_type']).msno.count()\n",
    "#Concatenate df61 and df62 to perform calculations: df53\n",
    "df63=pd.concat([df61,df62],axis=1,sort=True)\n",
    "#Rename columns in df63\n",
    "df63.columns=['count missing','count total']\n",
    "#Compute % missing values with respect to total number of entries per source_type\n",
    "df63['%missing']=df63['count missing']/df63['count total']*100\n",
    "print(df63)"
   ]
  },
  {
   "cell_type": "code",
   "execution_count": 25,
   "metadata": {},
   "outputs": [
    {
     "data": {
      "text/plain": [
       "Text(0.5,1,'% source_screen_name NaN depending on the source_type')"
      ]
     },
     "execution_count": 25,
     "metadata": {},
     "output_type": "execute_result"
    },
    {
     "data": {
      "image/png": "[encoded data removed]",
      "text/plain": [
       "<Figure size 432x288 with 1 Axes>"
      ]
     },
     "metadata": {},
     "output_type": "display_data"
    }
   ],
   "source": [
    "#Plot % of missing source_screen_name values depending on the source_type in train_clean_2\n",
    "df63['%missing'].plot(kind='bar')\n",
    "plt.ylabel('% source_screen_name missing values')\n",
    "plt.xlabel('source_type')\n",
    "plt.title('% source_screen_name NaN depending on the source_type')"
   ]
  },
  {
   "cell_type": "markdown",
   "metadata": {},
   "source": [
    "As stated before, percentages of missing source_screen_name values are very high for some source_type categories. This missing values need to be kept to avoid introducing bias. \n",
    "Most likely column source_screen_name won't be use later on to drive conclusions."
   ]
  },
  {
   "cell_type": "code",
   "execution_count": 26,
   "metadata": {},
   "outputs": [
    {
     "data": {
      "text/plain": [
       "msno                                          song_id                                     \n",
       "zzzRi5ek1YCKTGns8C77xwAutE05PAPmz8T/pIIQhzE=  wBTWuHbjdjxnG1lQcbqnK4FddV24rUhuyrYLd9c/hmk=    1\n",
       "JlclbZ87Se0GRiCBvoyWzAhSKdj/TPee2qC2KnJBcyQ=  rG9ZNLzZjEAI06bHg5jNbG7KptynQvEVQiHo+YLdT8k=    1\n",
       "                                              wBTWuHbjdjxnG1lQcbqnK4FddV24rUhuyrYLd9c/hmk=    1\n",
       "                                              wJdog4OHtULqly94aQ/X2uud6ya+juDh25ay4sqoxuI=    1\n",
       "                                              wSzDoYx37ySD3tRiQrOs17vjwi1KQj3TLtb3p6VY+2A=    1\n",
       "Name: target, dtype: int64"
      ]
     },
     "execution_count": 26,
     "metadata": {},
     "output_type": "execute_result"
    }
   ],
   "source": [
    "#Check if the relationship users-song_id is 1 to 1 as stated in the documentation\n",
    "train.groupby(['msno','song_id'])['target'].count().sort_values(ascending=False).head()"
   ]
  },
  {
   "cell_type": "code",
   "execution_count": 28,
   "metadata": {},
   "outputs": [],
   "source": [
    "#Export clean file as train_clean.csv\n",
    "train_clean_2.to_csv('data/train_clean.csv', index=False)"
   ]
  },
  {
   "cell_type": "code",
   "execution_count": null,
   "metadata": {},
   "outputs": [],
   "source": []
  }
 ],
 "metadata": {
  "kernelspec": {
   "display_name": "Python 3",
   "language": "python",
   "name": "python3"
  },
  "language_info": {
   "codemirror_mode": {
    "name": "ipython",
    "version": 3
   },
   "file_extension": ".py",
   "mimetype": "text/x-python",
   "name": "python",
   "nbconvert_exporter": "python",
   "pygments_lexer": "ipython3",
   "version": "3.6.5"
  }
 },
 "nbformat": 4,
 "nbformat_minor": 2
}
