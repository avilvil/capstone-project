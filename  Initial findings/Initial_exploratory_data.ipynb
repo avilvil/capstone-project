{
 "cells": [
  {
   "cell_type": "markdown",
   "metadata": {},
   "source": [
    "# Examining KKBox data to look for initial findings and trends\n",
    "\n",
    "### Questions\n",
    "1. Do users who listen to more songs have higher chances to replay songs in general? Basically, is there any pattern for users who are more engaged?\n",
    "2. Are there more chances that a user plays again a song if it is accessed from a specific screen or section in the aplication?\n",
    "3. Based on song attributes, can we tell that some songs have more possibilites to be listened again?\n",
    "    - Do users like (listen again) more long songs or short songs?\n",
    "    - Do songs who belong to more than one genre have more possibilities to be listened again?\n",
    "    - Are songs in one language listened more than others in other languages?\n",
    "4. Do users who registered before have higher probability to listen songs again?\n",
    "\n",
    "\n",
    "### Data\n",
    "The dataset that is investigation has several data tables.\n",
    "\n",
    "#### train.csv\n",
    "- msno: user id\n",
    "- song_id: song id\n",
    "- source_system_tab: the name of the tab where the event was triggered. System tabs are used to - categorize KKBOX mobile apps functions. For example, tab my library contains functions to -manipulate the local storage, and tab search contains functions relating to search.\n",
    "- source_screen_name: name of the layout a user sees.\n",
    "- source_type: an entry point a user first plays music on mobile apps. An entry point could be album, online-playlist, song .. etc.\n",
    "- target: this is the target variable. target=1 means there are recurring listening event(s) triggered within a month after the user’s very first observable listening event, target=0 otherwise .\n",
    "\n",
    "#### songs.csv\n",
    "The songs. Note that data is in unicode.\n",
    "\n",
    "- song_id\n",
    "- song_length: in ms\n",
    "- genre_ids: genre category. Some songs have multiple genres and they are separated by |\n",
    "- artist_name\n",
    "- composer\n",
    "- lyricist\n",
    "- language\n",
    "\n",
    "#### members.csv\n",
    "user information.\n",
    "\n",
    "- msno\n",
    "- city\n",
    "- bd: age. Note: this column has outlier values, please use your judgement.\n",
    "- gender\n",
    "- registered_via: registration method\n",
    "- registration_init_time: format %Y%m%d\n",
    "- expiration_date: format %Y%m%d"
   ]
  },
  {
   "cell_type": "code",
   "execution_count": 1,
   "metadata": {},
   "outputs": [],
   "source": [
    "import pandas as pd\n",
    "import matplotlib.pyplot as plt\n",
    "from matplotlib.colors import LogNorm\n",
    "import seaborn as sns\n",
    "import math\n",
    "import numpy as np"
   ]
  },
  {
   "cell_type": "code",
   "execution_count": null,
   "metadata": {
    "scrolled": false
   },
   "outputs": [],
   "source": [
    "#Loading clean train document\n",
    "train=pd.read_csv('data/train_clean.csv')\n",
    "print(train.head())"
   ]
  },
  {
   "cell_type": "code",
   "execution_count": 3,
   "metadata": {},
   "outputs": [
    {
     "name": "stdout",
     "output_type": "stream",
     "text": [
      "<class 'pandas.core.frame.DataFrame'>\n",
      "RangeIndex: 7349234 entries, 0 to 7349233\n",
      "Data columns (total 6 columns):\n",
      "msno                  object\n",
      "song_id               object\n",
      "source_system_tab     object\n",
      "source_screen_name    object\n",
      "source_type           object\n",
      "target                int64\n",
      "dtypes: int64(1), object(5)\n",
      "memory usage: 336.4+ MB\n"
     ]
    }
   ],
   "source": [
    "train.info()"
   ]
  },
  {
   "cell_type": "code",
   "execution_count": 4,
   "metadata": {},
   "outputs": [
    {
     "data": {
      "text/plain": [
       "array(['explore', 'my library', 'search', 'discover', 'radio',\n",
       "       'listen with', 'notification', 'settings'], dtype=object)"
      ]
     },
     "execution_count": 4,
     "metadata": {},
     "output_type": "execute_result"
    }
   ],
   "source": [
    "#List unique values in source_system_tab column\n",
    "train.source_system_tab.unique()"
   ]
  },
  {
   "cell_type": "code",
   "execution_count": 5,
   "metadata": {
    "scrolled": true
   },
   "outputs": [],
   "source": [
    "#Count entries of each type of source_system_tab\n",
    "songs_by_source_system_tab=train.source_system_tab.value_counts(dropna=False)"
   ]
  },
  {
   "cell_type": "code",
   "execution_count": 6,
   "metadata": {},
   "outputs": [
    {
     "data": {
      "image/png": "[encoded data removed]",
      "text/plain": [
       "<Figure size 432x288 with 1 Axes>"
      ]
     },
     "metadata": {},
     "output_type": "display_data"
    }
   ],
   "source": [
    "songs_by_source_system_tab.plot(kind='bar')\n",
    "plt.ylabel('songs')\n",
    "plt.xlabel('source_system_tab')\n",
    "plt.show()"
   ]
  },
  {
   "cell_type": "markdown",
   "metadata": {},
   "source": [
    "#Comments about source_system_tab column in train doc\n",
    "- The most popular/accesible system tabs are 'my library' and 'discover'"
   ]
  },
  {
   "cell_type": "code",
   "execution_count": 7,
   "metadata": {
    "scrolled": true
   },
   "outputs": [],
   "source": [
    "#Count entries of each type of source_type\n",
    "songs_by_source_type=train.source_type.value_counts(dropna=False)"
   ]
  },
  {
   "cell_type": "code",
   "execution_count": 8,
   "metadata": {},
   "outputs": [
    {
     "data": {
      "image/png": "[encoded data removed]",
      "text/plain": [
       "<Figure size 432x288 with 1 Axes>"
      ]
     },
     "metadata": {},
     "output_type": "display_data"
    }
   ],
   "source": [
    "songs_by_source_type.plot(kind='bar')\n",
    "plt.ylabel('songs')\n",
    "plt.xlabel('source_type')\n",
    "plt.show()"
   ]
  },
  {
   "cell_type": "markdown",
   "metadata": {},
   "source": [
    "### Question 1\n",
    "Do users who listen to more songs have higher chances to replay songs in general? Basically, is there any pattern for users who are more engaged?"
   ]
  },
  {
   "cell_type": "code",
   "execution_count": 9,
   "metadata": {},
   "outputs": [
    {
     "data": {
      "text/plain": [
       "(30640,)"
      ]
     },
     "execution_count": 9,
     "metadata": {},
     "output_type": "execute_result"
    }
   ],
   "source": [
    "#Number of unique users in the train data\n",
    "train.msno.unique().shape"
   ]
  },
  {
   "cell_type": "code",
   "execution_count": 10,
   "metadata": {},
   "outputs": [
    {
     "data": {
      "text/plain": [
       "(359415,)"
      ]
     },
     "execution_count": 10,
     "metadata": {},
     "output_type": "execute_result"
    }
   ],
   "source": [
    "#Number of unique songs in the train data\n",
    "train.song_id.unique().shape"
   ]
  },
  {
   "cell_type": "markdown",
   "metadata": {},
   "source": [
    "There are 30755 unique users and 359966 unique songs in the train document."
   ]
  },
  {
   "cell_type": "code",
   "execution_count": 11,
   "metadata": {},
   "outputs": [
    {
     "data": {
      "image/png": "[encoded data removed]",
      "text/plain": [
       "<Figure size 432x288 with 1 Axes>"
      ]
     },
     "metadata": {},
     "output_type": "display_data"
    }
   ],
   "source": [
    "#Compute number of unique songs listened by user: songs_by_user\n",
    "unique_songs_by_user=train.groupby('msno')['song_id'].count()\n",
    "unique_songs_by_user.head()\n",
    "#Plot histogram of number of unique songs listened by user\n",
    "unique_songs_by_user.plot(kind='hist',bins=100)\n",
    "plt.ylabel('users')\n",
    "plt.xlabel('no. of unique songs')\n",
    "plt.title('No. of unique songs listened')\n",
    "plt.show()"
   ]
  },
  {
   "cell_type": "code",
   "execution_count": 12,
   "metadata": {},
   "outputs": [
    {
     "data": {
      "text/plain": [
       "Text(0,0.5,'no. of songs listened')"
      ]
     },
     "execution_count": 12,
     "metadata": {},
     "output_type": "execute_result"
    },
    {
     "data": {
      "image/png": "[encoded data removed]",
      "text/plain": [
       "<Figure size 432x288 with 1 Axes>"
      ]
     },
     "metadata": {},
     "output_type": "display_data"
    }
   ],
   "source": [
    "#Boxplot of number of unique songs listened by user\n",
    "unique_songs_by_user.plot(kind='box')\n",
    "plt.ylabel('no. of songs listened')"
   ]
  },
  {
   "cell_type": "code",
   "execution_count": 13,
   "metadata": {},
   "outputs": [
    {
     "data": {
      "text/plain": [
       "count    30640.000000\n",
       "mean       239.857507\n",
       "std        313.424707\n",
       "min          1.000000\n",
       "25%         28.000000\n",
       "50%        128.000000\n",
       "75%        340.000000\n",
       "max       5819.000000\n",
       "Name: song_id, dtype: float64"
      ]
     },
     "execution_count": 13,
     "metadata": {},
     "output_type": "execute_result"
    }
   ],
   "source": [
    "#Describe number of unique songs listened by users: songs_by_user\n",
    "unique_songs_by_user.describe()"
   ]
  },
  {
   "cell_type": "markdown",
   "metadata": {},
   "source": [
    "The median of unique songs listened by user is 128. There are many outliers in the graph that present the amount of songs listened by each user. These probably are highly engaged users, so it is interesting to investigate further how these users are interacting with the platform.\n",
    "\n",
    "5819 is the maximum number of unique songs listened by a particular user. "
   ]
  },
  {
   "cell_type": "code",
   "execution_count": 14,
   "metadata": {},
   "outputs": [
    {
     "data": {
      "text/html": [
       "<div>\n",
       "<style scoped>\n",
       "    .dataframe tbody tr th:only-of-type {\n",
       "        vertical-align: middle;\n",
       "    }\n",
       "\n",
       "    .dataframe tbody tr th {\n",
       "        vertical-align: top;\n",
       "    }\n",
       "\n",
       "    .dataframe thead th {\n",
       "        text-align: right;\n",
       "    }\n",
       "</style>\n",
       "<table border=\"1\" class=\"dataframe\">\n",
       "  <thead>\n",
       "    <tr style=\"text-align: right;\">\n",
       "      <th></th>\n",
       "      <th>total_songs</th>\n",
       "    </tr>\n",
       "    <tr>\n",
       "      <th>msno</th>\n",
       "      <th></th>\n",
       "    </tr>\n",
       "  </thead>\n",
       "  <tbody>\n",
       "    <tr>\n",
       "      <th>++5wYjoMgQHoRuD3GbbvmphZbBBwymzv5Q4l8sywtuU=</th>\n",
       "      <td>589</td>\n",
       "    </tr>\n",
       "    <tr>\n",
       "      <th>++AH7m/EQ4iKe6wSlfO/xXAJx50p+fCeTyF90GoE9Pg=</th>\n",
       "      <td>220</td>\n",
       "    </tr>\n",
       "    <tr>\n",
       "      <th>++e+jsxuQ8UEnmW40od9Rq3rW7+wAum4wooXyZTKJpk=</th>\n",
       "      <td>108</td>\n",
       "    </tr>\n",
       "    <tr>\n",
       "      <th>++xWL5Pbi2CpG4uUugigQahauM0J/sBIRloTNPBybIU=</th>\n",
       "      <td>16</td>\n",
       "    </tr>\n",
       "    <tr>\n",
       "      <th>+/SKX44s4ryWQzYzuV7ZKMXqIKQMN1cPz3M8CJ8CFKU=</th>\n",
       "      <td>222</td>\n",
       "    </tr>\n",
       "  </tbody>\n",
       "</table>\n",
       "</div>"
      ],
      "text/plain": [
       "                                              total_songs\n",
       "msno                                                     \n",
       "++5wYjoMgQHoRuD3GbbvmphZbBBwymzv5Q4l8sywtuU=          589\n",
       "++AH7m/EQ4iKe6wSlfO/xXAJx50p+fCeTyF90GoE9Pg=          220\n",
       "++e+jsxuQ8UEnmW40od9Rq3rW7+wAum4wooXyZTKJpk=          108\n",
       "++xWL5Pbi2CpG4uUugigQahauM0J/sBIRloTNPBybIU=           16\n",
       "+/SKX44s4ryWQzYzuV7ZKMXqIKQMN1cPz3M8CJ8CFKU=          222"
      ]
     },
     "execution_count": 14,
     "metadata": {},
     "output_type": "execute_result"
    }
   ],
   "source": [
    "#Convert songs_by_user into a dataframe: songs_by_user_df\n",
    "unique_songs_by_user_df=unique_songs_by_user.to_frame()\n",
    "#Rename column: total_songs\n",
    "unique_songs_by_user_df.columns=['total_songs']\n",
    "unique_songs_by_user_df.head()"
   ]
  },
  {
   "cell_type": "code",
   "execution_count": 15,
   "metadata": {},
   "outputs": [
    {
     "data": {
      "text/html": [
       "<div>\n",
       "<style scoped>\n",
       "    .dataframe tbody tr th:only-of-type {\n",
       "        vertical-align: middle;\n",
       "    }\n",
       "\n",
       "    .dataframe tbody tr th {\n",
       "        vertical-align: top;\n",
       "    }\n",
       "\n",
       "    .dataframe thead th {\n",
       "        text-align: right;\n",
       "    }\n",
       "</style>\n",
       "<table border=\"1\" class=\"dataframe\">\n",
       "  <thead>\n",
       "    <tr style=\"text-align: right;\">\n",
       "      <th></th>\n",
       "      <th>msno</th>\n",
       "      <th>song_id</th>\n",
       "      <th>source_system_tab</th>\n",
       "      <th>source_screen_name</th>\n",
       "      <th>source_type</th>\n",
       "      <th>target</th>\n",
       "      <th>total_songs</th>\n",
       "    </tr>\n",
       "  </thead>\n",
       "  <tbody>\n",
       "    <tr>\n",
       "      <th>0</th>\n",
       "      <td>FGtllVqz18RPiwJj/edr2gV78zirAiY/9SmYvia+kCg=</td>\n",
       "      <td>BBzumQNXUHKdEBOB7mAJuzok+IJA1c2Ryg/yzTF6tik=</td>\n",
       "      <td>explore</td>\n",
       "      <td>explore</td>\n",
       "      <td>online-playlist</td>\n",
       "      <td>1</td>\n",
       "      <td>5511</td>\n",
       "    </tr>\n",
       "    <tr>\n",
       "      <th>4</th>\n",
       "      <td>FGtllVqz18RPiwJj/edr2gV78zirAiY/9SmYvia+kCg=</td>\n",
       "      <td>3qm6XTZ6MOCU11x8FIVbAGH5l5uMkT3/ZalWG1oo2Gc=</td>\n",
       "      <td>explore</td>\n",
       "      <td>explore</td>\n",
       "      <td>online-playlist</td>\n",
       "      <td>1</td>\n",
       "      <td>5511</td>\n",
       "    </tr>\n",
       "    <tr>\n",
       "      <th>5</th>\n",
       "      <td>FGtllVqz18RPiwJj/edr2gV78zirAiY/9SmYvia+kCg=</td>\n",
       "      <td>3Hg5kugV1S0wzEVLAEfqjIV5UHzb7bCrdBRQlGygLvU=</td>\n",
       "      <td>explore</td>\n",
       "      <td>explore</td>\n",
       "      <td>online-playlist</td>\n",
       "      <td>1</td>\n",
       "      <td>5511</td>\n",
       "    </tr>\n",
       "    <tr>\n",
       "      <th>7</th>\n",
       "      <td>FGtllVqz18RPiwJj/edr2gV78zirAiY/9SmYvia+kCg=</td>\n",
       "      <td>bPIvRTzfHxH5LgHrStll+tYwSQNVV8PySgA3M1PfTgc=</td>\n",
       "      <td>explore</td>\n",
       "      <td>explore</td>\n",
       "      <td>online-playlist</td>\n",
       "      <td>1</td>\n",
       "      <td>5511</td>\n",
       "    </tr>\n",
       "    <tr>\n",
       "      <th>6707</th>\n",
       "      <td>FGtllVqz18RPiwJj/edr2gV78zirAiY/9SmYvia+kCg=</td>\n",
       "      <td>XUz4Z4wPPChz+OIwkwj7HJ8teIjW3rEMdEATM80rDxM=</td>\n",
       "      <td>explore</td>\n",
       "      <td>explore</td>\n",
       "      <td>online-playlist</td>\n",
       "      <td>1</td>\n",
       "      <td>5511</td>\n",
       "    </tr>\n",
       "  </tbody>\n",
       "</table>\n",
       "</div>"
      ],
      "text/plain": [
       "                                              msno  \\\n",
       "0     FGtllVqz18RPiwJj/edr2gV78zirAiY/9SmYvia+kCg=   \n",
       "4     FGtllVqz18RPiwJj/edr2gV78zirAiY/9SmYvia+kCg=   \n",
       "5     FGtllVqz18RPiwJj/edr2gV78zirAiY/9SmYvia+kCg=   \n",
       "7     FGtllVqz18RPiwJj/edr2gV78zirAiY/9SmYvia+kCg=   \n",
       "6707  FGtllVqz18RPiwJj/edr2gV78zirAiY/9SmYvia+kCg=   \n",
       "\n",
       "                                           song_id source_system_tab  \\\n",
       "0     BBzumQNXUHKdEBOB7mAJuzok+IJA1c2Ryg/yzTF6tik=           explore   \n",
       "4     3qm6XTZ6MOCU11x8FIVbAGH5l5uMkT3/ZalWG1oo2Gc=           explore   \n",
       "5     3Hg5kugV1S0wzEVLAEfqjIV5UHzb7bCrdBRQlGygLvU=           explore   \n",
       "7     bPIvRTzfHxH5LgHrStll+tYwSQNVV8PySgA3M1PfTgc=           explore   \n",
       "6707  XUz4Z4wPPChz+OIwkwj7HJ8teIjW3rEMdEATM80rDxM=           explore   \n",
       "\n",
       "     source_screen_name      source_type  target  total_songs  \n",
       "0               explore  online-playlist       1         5511  \n",
       "4               explore  online-playlist       1         5511  \n",
       "5               explore  online-playlist       1         5511  \n",
       "7               explore  online-playlist       1         5511  \n",
       "6707            explore  online-playlist       1         5511  "
      ]
     },
     "execution_count": 15,
     "metadata": {},
     "output_type": "execute_result"
    }
   ],
   "source": [
    "#Merge train data with unique songs by user: train_2\n",
    "train_2=pd.merge(train,unique_songs_by_user_df,left_on='msno',right_index=True)\n",
    "train_2.head()"
   ]
  },
  {
   "cell_type": "code",
   "execution_count": 16,
   "metadata": {},
   "outputs": [
    {
     "data": {
      "text/html": [
       "<div>\n",
       "<style scoped>\n",
       "    .dataframe tbody tr th:only-of-type {\n",
       "        vertical-align: middle;\n",
       "    }\n",
       "\n",
       "    .dataframe tbody tr th {\n",
       "        vertical-align: top;\n",
       "    }\n",
       "\n",
       "    .dataframe thead th {\n",
       "        text-align: right;\n",
       "    }\n",
       "</style>\n",
       "<table border=\"1\" class=\"dataframe\">\n",
       "  <thead>\n",
       "    <tr style=\"text-align: right;\">\n",
       "      <th></th>\n",
       "      <th>total_replayed_songs</th>\n",
       "    </tr>\n",
       "    <tr>\n",
       "      <th>msno</th>\n",
       "      <th></th>\n",
       "    </tr>\n",
       "  </thead>\n",
       "  <tbody>\n",
       "    <tr>\n",
       "      <th>++5wYjoMgQHoRuD3GbbvmphZbBBwymzv5Q4l8sywtuU=</th>\n",
       "      <td>293</td>\n",
       "    </tr>\n",
       "    <tr>\n",
       "      <th>++AH7m/EQ4iKe6wSlfO/xXAJx50p+fCeTyF90GoE9Pg=</th>\n",
       "      <td>141</td>\n",
       "    </tr>\n",
       "    <tr>\n",
       "      <th>++e+jsxuQ8UEnmW40od9Rq3rW7+wAum4wooXyZTKJpk=</th>\n",
       "      <td>76</td>\n",
       "    </tr>\n",
       "    <tr>\n",
       "      <th>++xWL5Pbi2CpG4uUugigQahauM0J/sBIRloTNPBybIU=</th>\n",
       "      <td>1</td>\n",
       "    </tr>\n",
       "    <tr>\n",
       "      <th>+/SKX44s4ryWQzYzuV7ZKMXqIKQMN1cPz3M8CJ8CFKU=</th>\n",
       "      <td>82</td>\n",
       "    </tr>\n",
       "  </tbody>\n",
       "</table>\n",
       "</div>"
      ],
      "text/plain": [
       "                                              total_replayed_songs\n",
       "msno                                                              \n",
       "++5wYjoMgQHoRuD3GbbvmphZbBBwymzv5Q4l8sywtuU=                   293\n",
       "++AH7m/EQ4iKe6wSlfO/xXAJx50p+fCeTyF90GoE9Pg=                   141\n",
       "++e+jsxuQ8UEnmW40od9Rq3rW7+wAum4wooXyZTKJpk=                    76\n",
       "++xWL5Pbi2CpG4uUugigQahauM0J/sBIRloTNPBybIU=                     1\n",
       "+/SKX44s4ryWQzYzuV7ZKMXqIKQMN1cPz3M8CJ8CFKU=                    82"
      ]
     },
     "execution_count": 16,
     "metadata": {},
     "output_type": "execute_result"
    }
   ],
   "source": [
    "#Compute total number of unique songs that have been replayed by each user: songs_replayed_by_user\n",
    "songs_replayed_by_user=train.groupby('msno')['target'].sum().to_frame()\n",
    "songs_replayed_by_user.columns=['total_replayed_songs']\n",
    "songs_replayed_by_user.head()"
   ]
  },
  {
   "cell_type": "code",
   "execution_count": 18,
   "metadata": {},
   "outputs": [
    {
     "data": {
      "text/html": [
       "<div>\n",
       "<style scoped>\n",
       "    .dataframe tbody tr th:only-of-type {\n",
       "        vertical-align: middle;\n",
       "    }\n",
       "\n",
       "    .dataframe tbody tr th {\n",
       "        vertical-align: top;\n",
       "    }\n",
       "\n",
       "    .dataframe thead th {\n",
       "        text-align: right;\n",
       "    }\n",
       "</style>\n",
       "<table border=\"1\" class=\"dataframe\">\n",
       "  <thead>\n",
       "    <tr style=\"text-align: right;\">\n",
       "      <th></th>\n",
       "      <th>total_songs</th>\n",
       "      <th>total_replayed_songs</th>\n",
       "      <th>replay_probability</th>\n",
       "    </tr>\n",
       "    <tr>\n",
       "      <th>msno</th>\n",
       "      <th></th>\n",
       "      <th></th>\n",
       "      <th></th>\n",
       "    </tr>\n",
       "  </thead>\n",
       "  <tbody>\n",
       "    <tr>\n",
       "      <th>++5wYjoMgQHoRuD3GbbvmphZbBBwymzv5Q4l8sywtuU=</th>\n",
       "      <td>589</td>\n",
       "      <td>293</td>\n",
       "      <td>0.497453</td>\n",
       "    </tr>\n",
       "    <tr>\n",
       "      <th>++AH7m/EQ4iKe6wSlfO/xXAJx50p+fCeTyF90GoE9Pg=</th>\n",
       "      <td>220</td>\n",
       "      <td>141</td>\n",
       "      <td>0.640909</td>\n",
       "    </tr>\n",
       "    <tr>\n",
       "      <th>++e+jsxuQ8UEnmW40od9Rq3rW7+wAum4wooXyZTKJpk=</th>\n",
       "      <td>108</td>\n",
       "      <td>76</td>\n",
       "      <td>0.703704</td>\n",
       "    </tr>\n",
       "    <tr>\n",
       "      <th>++xWL5Pbi2CpG4uUugigQahauM0J/sBIRloTNPBybIU=</th>\n",
       "      <td>16</td>\n",
       "      <td>1</td>\n",
       "      <td>0.062500</td>\n",
       "    </tr>\n",
       "    <tr>\n",
       "      <th>+/SKX44s4ryWQzYzuV7ZKMXqIKQMN1cPz3M8CJ8CFKU=</th>\n",
       "      <td>222</td>\n",
       "      <td>82</td>\n",
       "      <td>0.369369</td>\n",
       "    </tr>\n",
       "  </tbody>\n",
       "</table>\n",
       "</div>"
      ],
      "text/plain": [
       "                                              total_songs  \\\n",
       "msno                                                        \n",
       "++5wYjoMgQHoRuD3GbbvmphZbBBwymzv5Q4l8sywtuU=          589   \n",
       "++AH7m/EQ4iKe6wSlfO/xXAJx50p+fCeTyF90GoE9Pg=          220   \n",
       "++e+jsxuQ8UEnmW40od9Rq3rW7+wAum4wooXyZTKJpk=          108   \n",
       "++xWL5Pbi2CpG4uUugigQahauM0J/sBIRloTNPBybIU=           16   \n",
       "+/SKX44s4ryWQzYzuV7ZKMXqIKQMN1cPz3M8CJ8CFKU=          222   \n",
       "\n",
       "                                              total_replayed_songs  \\\n",
       "msno                                                                 \n",
       "++5wYjoMgQHoRuD3GbbvmphZbBBwymzv5Q4l8sywtuU=                   293   \n",
       "++AH7m/EQ4iKe6wSlfO/xXAJx50p+fCeTyF90GoE9Pg=                   141   \n",
       "++e+jsxuQ8UEnmW40od9Rq3rW7+wAum4wooXyZTKJpk=                    76   \n",
       "++xWL5Pbi2CpG4uUugigQahauM0J/sBIRloTNPBybIU=                     1   \n",
       "+/SKX44s4ryWQzYzuV7ZKMXqIKQMN1cPz3M8CJ8CFKU=                    82   \n",
       "\n",
       "                                              replay_probability  \n",
       "msno                                                              \n",
       "++5wYjoMgQHoRuD3GbbvmphZbBBwymzv5Q4l8sywtuU=            0.497453  \n",
       "++AH7m/EQ4iKe6wSlfO/xXAJx50p+fCeTyF90GoE9Pg=            0.640909  \n",
       "++e+jsxuQ8UEnmW40od9Rq3rW7+wAum4wooXyZTKJpk=            0.703704  \n",
       "++xWL5Pbi2CpG4uUugigQahauM0J/sBIRloTNPBybIU=            0.062500  \n",
       "+/SKX44s4ryWQzYzuV7ZKMXqIKQMN1cPz3M8CJ8CFKU=            0.369369  "
      ]
     },
     "execution_count": 18,
     "metadata": {},
     "output_type": "execute_result"
    }
   ],
   "source": [
    "#Total songs and replayed songs: total_songs_study\n",
    "total_songs_study=unique_songs_by_user_df.join(songs_replayed_by_user)\n",
    "#Compute probability of replaying songs by user in replay_probability column\n",
    "total_songs_study['replay_probability']=total_songs_study['total_replayed_songs']/total_songs_study['total_songs']\n",
    "total_songs_study.head()"
   ]
  },
  {
   "cell_type": "code",
   "execution_count": 19,
   "metadata": {},
   "outputs": [
    {
     "data": {
      "text/plain": [
       "<matplotlib.axes._subplots.AxesSubplot at 0x117bb5e48>"
      ]
     },
     "execution_count": 19,
     "metadata": {},
     "output_type": "execute_result"
    },
    {
     "data": {
      "image/png": "[encoded data removed]",
      "text/plain": [
       "<Figure size 432x288 with 1 Axes>"
      ]
     },
     "metadata": {},
     "output_type": "display_data"
    }
   ],
   "source": [
    "#Avg probability of replaying songs by user depending on the total unique songs listened\n",
    "total_songs_study.plot.scatter(x='total_songs',y='replay_probability')"
   ]
  },
  {
   "cell_type": "markdown",
   "metadata": {},
   "source": [
    "#### Conclusion\n",
    "There is no correlation between the probability of listening again to a song and the amount of songs that a user has listened. \n",
    "\n",
    "It does not seem that highly engaged users will have higher chances to replay songs."
   ]
  },
  {
   "cell_type": "markdown",
   "metadata": {},
   "source": [
    "### Question 2\n",
    "Are there more chances that a user plays again a song if it is accessed from a specific screen or section in the aplication?"
   ]
  },
  {
   "cell_type": "code",
   "execution_count": 20,
   "metadata": {},
   "outputs": [
    {
     "data": {
      "text/plain": [
       "local playlist more     3227698\n",
       "online playlist more    1294413\n",
       "radio                    474452\n",
       "NaN                      444107\n",
       "album more               419269\n",
       "search                   298460\n",
       "artist more              252427\n",
       "discover feature         243979\n",
       "discover chart           213570\n",
       "others profile more      201795\n",
       "discover genre            82201\n",
       "my library                74829\n",
       "explore                   72259\n",
       "discover new              15955\n",
       "search trends             13621\n",
       "search home               13477\n",
       "my library_search          6451\n",
       "self profile more           212\n",
       "concert                      47\n",
       "payment                      12\n",
       "Name: source_screen_name, dtype: int64"
      ]
     },
     "execution_count": 20,
     "metadata": {},
     "output_type": "execute_result"
    }
   ],
   "source": [
    "#List how many entries there are of each type in source_screen_name\n",
    "train.source_screen_name.value_counts(dropna=False)"
   ]
  },
  {
   "cell_type": "markdown",
   "metadata": {},
   "source": [
    "#Notes\n",
    "- Unknown values have been replaced by NAN, so they are tagged under NAN in the previous list\n",
    "- The amount of NAN values cannot be neglected (around 6.4%)\n",
    "- 'Local playlist more' and 'Online playlist more' are the most popular/accesible source screens "
   ]
  },
  {
   "cell_type": "code",
   "execution_count": 21,
   "metadata": {},
   "outputs": [
    {
     "data": {
      "image/png": "[encoded data removed]",
      "text/plain": [
       "<Figure size 432x288 with 1 Axes>"
      ]
     },
     "metadata": {},
     "output_type": "display_data"
    }
   ],
   "source": [
    "#Probability of a song to be played again depending on the source_system_tab\n",
    "prob_by_source_system_tab=train.groupby(['source_system_tab'])['target'].mean().sort_values(ascending=False)\n",
    "prob_by_source_system_tab.plot(kind='bar')\n",
    "plt.ylabel('replay probability')\n",
    "plt.show()"
   ]
  },
  {
   "cell_type": "markdown",
   "metadata": {},
   "source": [
    "- It is more likely that a song will be played again if it was launched from 'my library' than if it was played from another tab. Although settings seems to have a high probability, there are very few users launching songs from this tab so it not representative.\n",
    "- On the other hand, it is not very likely that a song will be played again if it was listened from radio tab."
   ]
  },
  {
   "cell_type": "code",
   "execution_count": 22,
   "metadata": {},
   "outputs": [
    {
     "data": {
      "image/png": "[encoded data removed]",
      "text/plain": [
       "<Figure size 432x288 with 1 Axes>"
      ]
     },
     "metadata": {},
     "output_type": "display_data"
    }
   ],
   "source": [
    "#Probability of a song to be played again depending on the source_type\n",
    "prob_by_source_system_tab=train.groupby(['source_type'])['target'].mean().sort_values(ascending=False)\n",
    "prob_by_source_system_tab.plot(kind='bar')\n",
    "plt.ylabel('replay probability')\n",
    "plt.show()"
   ]
  },
  {
   "cell_type": "markdown",
   "metadata": {},
   "source": [
    "- It is more likely that a song will be played again if it was launched from 'local-playlist' or 'local-library' than if it was played from another type of source.\n",
    "- On the other hand, as seen before it is not very likely that a song will be played again if it was listened from radio source_type."
   ]
  },
  {
   "cell_type": "code",
   "execution_count": 23,
   "metadata": {},
   "outputs": [
    {
     "data": {
      "image/png": "[encoded data removed]",
      "text/plain": [
       "<Figure size 432x288 with 1 Axes>"
      ]
     },
     "metadata": {},
     "output_type": "display_data"
    }
   ],
   "source": [
    "#Probability of a song to be played again depending on the source_screen_name\n",
    "prob_by_source_system_tab=train.groupby(['source_screen_name'])['target'].mean().sort_values(ascending=False)\n",
    "prob_by_source_system_tab.plot(kind='bar')\n",
    "plt.ylabel('replay probability')\n",
    "plt.show()"
   ]
  },
  {
   "cell_type": "markdown",
   "metadata": {},
   "source": [
    "- It is more likely that a song will be played again if it was launched from 'my library', 'local playlist more' or 'my library_search' screens. \n",
    "- Payment screen has few observation so we can't draw conclusions from there. \n",
    "- On the other hand, it is not very likely that a song will be played again if it was listened from radio tab. "
   ]
  },
  {
   "cell_type": "code",
   "execution_count": 24,
   "metadata": {},
   "outputs": [
    {
     "data": {
      "text/html": [
       "<div>\n",
       "<style scoped>\n",
       "    .dataframe tbody tr th:only-of-type {\n",
       "        vertical-align: middle;\n",
       "    }\n",
       "\n",
       "    .dataframe tbody tr th {\n",
       "        vertical-align: top;\n",
       "    }\n",
       "\n",
       "    .dataframe thead th {\n",
       "        text-align: right;\n",
       "    }\n",
       "</style>\n",
       "<table border=\"1\" class=\"dataframe\">\n",
       "  <thead>\n",
       "    <tr style=\"text-align: right;\">\n",
       "      <th>source_type</th>\n",
       "      <th>album</th>\n",
       "      <th>artist</th>\n",
       "      <th>listen-with</th>\n",
       "      <th>local-library</th>\n",
       "      <th>local-playlist</th>\n",
       "      <th>my-daily-playlist</th>\n",
       "      <th>online-playlist</th>\n",
       "      <th>radio</th>\n",
       "      <th>song</th>\n",
       "      <th>song-based-playlist</th>\n",
       "      <th>top-hits-for-artist</th>\n",
       "      <th>topic-article-playlist</th>\n",
       "    </tr>\n",
       "    <tr>\n",
       "      <th>source_screen_name</th>\n",
       "      <th></th>\n",
       "      <th></th>\n",
       "      <th></th>\n",
       "      <th></th>\n",
       "      <th></th>\n",
       "      <th></th>\n",
       "      <th></th>\n",
       "      <th></th>\n",
       "      <th></th>\n",
       "      <th></th>\n",
       "      <th></th>\n",
       "      <th></th>\n",
       "    </tr>\n",
       "  </thead>\n",
       "  <tbody>\n",
       "    <tr>\n",
       "      <th>album more</th>\n",
       "      <td>0.390245</td>\n",
       "      <td>0.000000</td>\n",
       "      <td>0.000000</td>\n",
       "      <td>0.661784</td>\n",
       "      <td>0.757033</td>\n",
       "      <td>0.000000</td>\n",
       "      <td>0.507042</td>\n",
       "      <td>0.171488</td>\n",
       "      <td>0.444444</td>\n",
       "      <td>0.000000</td>\n",
       "      <td>0.000000</td>\n",
       "      <td>0.000000</td>\n",
       "    </tr>\n",
       "    <tr>\n",
       "      <th>artist more</th>\n",
       "      <td>0.216667</td>\n",
       "      <td>0.000000</td>\n",
       "      <td>0.000000</td>\n",
       "      <td>1.000000</td>\n",
       "      <td>0.000000</td>\n",
       "      <td>0.000000</td>\n",
       "      <td>0.427410</td>\n",
       "      <td>0.815166</td>\n",
       "      <td>0.444444</td>\n",
       "      <td>0.000000</td>\n",
       "      <td>0.416623</td>\n",
       "      <td>0.000000</td>\n",
       "    </tr>\n",
       "    <tr>\n",
       "      <th>concert</th>\n",
       "      <td>0.000000</td>\n",
       "      <td>0.000000</td>\n",
       "      <td>0.000000</td>\n",
       "      <td>0.000000</td>\n",
       "      <td>0.000000</td>\n",
       "      <td>0.000000</td>\n",
       "      <td>0.510638</td>\n",
       "      <td>0.000000</td>\n",
       "      <td>0.000000</td>\n",
       "      <td>0.000000</td>\n",
       "      <td>0.000000</td>\n",
       "      <td>0.000000</td>\n",
       "    </tr>\n",
       "    <tr>\n",
       "      <th>discover chart</th>\n",
       "      <td>0.052632</td>\n",
       "      <td>0.000000</td>\n",
       "      <td>0.250000</td>\n",
       "      <td>0.291667</td>\n",
       "      <td>0.000000</td>\n",
       "      <td>0.000000</td>\n",
       "      <td>0.517406</td>\n",
       "      <td>0.232143</td>\n",
       "      <td>1.000000</td>\n",
       "      <td>0.282609</td>\n",
       "      <td>0.000000</td>\n",
       "      <td>0.000000</td>\n",
       "    </tr>\n",
       "    <tr>\n",
       "      <th>discover feature</th>\n",
       "      <td>0.327134</td>\n",
       "      <td>0.000000</td>\n",
       "      <td>0.185379</td>\n",
       "      <td>0.582609</td>\n",
       "      <td>0.695473</td>\n",
       "      <td>0.344729</td>\n",
       "      <td>0.368433</td>\n",
       "      <td>0.506770</td>\n",
       "      <td>0.364444</td>\n",
       "      <td>0.357589</td>\n",
       "      <td>0.376812</td>\n",
       "      <td>0.000000</td>\n",
       "    </tr>\n",
       "    <tr>\n",
       "      <th>discover genre</th>\n",
       "      <td>0.280127</td>\n",
       "      <td>0.000000</td>\n",
       "      <td>0.000000</td>\n",
       "      <td>0.577778</td>\n",
       "      <td>1.000000</td>\n",
       "      <td>0.000000</td>\n",
       "      <td>0.353274</td>\n",
       "      <td>0.000000</td>\n",
       "      <td>0.500000</td>\n",
       "      <td>0.160714</td>\n",
       "      <td>0.000000</td>\n",
       "      <td>0.000000</td>\n",
       "    </tr>\n",
       "    <tr>\n",
       "      <th>discover new</th>\n",
       "      <td>0.271249</td>\n",
       "      <td>0.000000</td>\n",
       "      <td>0.000000</td>\n",
       "      <td>0.000000</td>\n",
       "      <td>1.000000</td>\n",
       "      <td>0.000000</td>\n",
       "      <td>0.480736</td>\n",
       "      <td>0.076923</td>\n",
       "      <td>0.666667</td>\n",
       "      <td>0.222222</td>\n",
       "      <td>0.000000</td>\n",
       "      <td>0.000000</td>\n",
       "    </tr>\n",
       "    <tr>\n",
       "      <th>explore</th>\n",
       "      <td>0.393513</td>\n",
       "      <td>0.000000</td>\n",
       "      <td>0.085271</td>\n",
       "      <td>0.435644</td>\n",
       "      <td>0.588710</td>\n",
       "      <td>0.000000</td>\n",
       "      <td>0.451428</td>\n",
       "      <td>0.066667</td>\n",
       "      <td>0.423105</td>\n",
       "      <td>0.916667</td>\n",
       "      <td>0.286735</td>\n",
       "      <td>0.558715</td>\n",
       "    </tr>\n",
       "    <tr>\n",
       "      <th>local playlist more</th>\n",
       "      <td>0.524102</td>\n",
       "      <td>0.563751</td>\n",
       "      <td>0.257732</td>\n",
       "      <td>0.630543</td>\n",
       "      <td>0.655580</td>\n",
       "      <td>0.576923</td>\n",
       "      <td>0.418799</td>\n",
       "      <td>0.282939</td>\n",
       "      <td>0.571429</td>\n",
       "      <td>0.374885</td>\n",
       "      <td>0.459293</td>\n",
       "      <td>0.000000</td>\n",
       "    </tr>\n",
       "    <tr>\n",
       "      <th>my library</th>\n",
       "      <td>0.464774</td>\n",
       "      <td>0.733333</td>\n",
       "      <td>0.258667</td>\n",
       "      <td>0.665364</td>\n",
       "      <td>0.692958</td>\n",
       "      <td>0.000000</td>\n",
       "      <td>0.491233</td>\n",
       "      <td>0.297101</td>\n",
       "      <td>0.585308</td>\n",
       "      <td>0.432304</td>\n",
       "      <td>0.561830</td>\n",
       "      <td>0.000000</td>\n",
       "    </tr>\n",
       "    <tr>\n",
       "      <th>my library_search</th>\n",
       "      <td>0.000000</td>\n",
       "      <td>0.000000</td>\n",
       "      <td>0.000000</td>\n",
       "      <td>0.611223</td>\n",
       "      <td>0.000000</td>\n",
       "      <td>0.000000</td>\n",
       "      <td>0.000000</td>\n",
       "      <td>0.000000</td>\n",
       "      <td>0.000000</td>\n",
       "      <td>0.000000</td>\n",
       "      <td>0.000000</td>\n",
       "      <td>0.000000</td>\n",
       "    </tr>\n",
       "    <tr>\n",
       "      <th>online playlist more</th>\n",
       "      <td>0.485714</td>\n",
       "      <td>0.000000</td>\n",
       "      <td>0.241379</td>\n",
       "      <td>0.672593</td>\n",
       "      <td>0.646154</td>\n",
       "      <td>0.000000</td>\n",
       "      <td>0.416432</td>\n",
       "      <td>0.110497</td>\n",
       "      <td>0.300000</td>\n",
       "      <td>0.388010</td>\n",
       "      <td>0.200000</td>\n",
       "      <td>0.455231</td>\n",
       "    </tr>\n",
       "    <tr>\n",
       "      <th>others profile more</th>\n",
       "      <td>0.367589</td>\n",
       "      <td>0.000000</td>\n",
       "      <td>0.315284</td>\n",
       "      <td>0.000000</td>\n",
       "      <td>0.000000</td>\n",
       "      <td>0.000000</td>\n",
       "      <td>0.268683</td>\n",
       "      <td>0.666667</td>\n",
       "      <td>0.282716</td>\n",
       "      <td>0.000000</td>\n",
       "      <td>0.000000</td>\n",
       "      <td>0.000000</td>\n",
       "    </tr>\n",
       "    <tr>\n",
       "      <th>payment</th>\n",
       "      <td>0.000000</td>\n",
       "      <td>0.000000</td>\n",
       "      <td>0.000000</td>\n",
       "      <td>0.857143</td>\n",
       "      <td>1.000000</td>\n",
       "      <td>0.000000</td>\n",
       "      <td>0.250000</td>\n",
       "      <td>0.000000</td>\n",
       "      <td>0.000000</td>\n",
       "      <td>0.000000</td>\n",
       "      <td>0.000000</td>\n",
       "      <td>0.000000</td>\n",
       "    </tr>\n",
       "    <tr>\n",
       "      <th>radio</th>\n",
       "      <td>0.000000</td>\n",
       "      <td>0.000000</td>\n",
       "      <td>0.000000</td>\n",
       "      <td>0.333333</td>\n",
       "      <td>0.000000</td>\n",
       "      <td>0.000000</td>\n",
       "      <td>0.137931</td>\n",
       "      <td>0.217267</td>\n",
       "      <td>0.000000</td>\n",
       "      <td>0.000000</td>\n",
       "      <td>0.000000</td>\n",
       "      <td>0.000000</td>\n",
       "    </tr>\n",
       "    <tr>\n",
       "      <th>search</th>\n",
       "      <td>0.424901</td>\n",
       "      <td>0.000000</td>\n",
       "      <td>0.153846</td>\n",
       "      <td>0.718121</td>\n",
       "      <td>0.854031</td>\n",
       "      <td>1.000000</td>\n",
       "      <td>0.486102</td>\n",
       "      <td>0.199288</td>\n",
       "      <td>0.464407</td>\n",
       "      <td>0.000000</td>\n",
       "      <td>0.461705</td>\n",
       "      <td>0.000000</td>\n",
       "    </tr>\n",
       "    <tr>\n",
       "      <th>search home</th>\n",
       "      <td>0.000000</td>\n",
       "      <td>0.000000</td>\n",
       "      <td>0.000000</td>\n",
       "      <td>0.000000</td>\n",
       "      <td>0.000000</td>\n",
       "      <td>0.000000</td>\n",
       "      <td>0.353634</td>\n",
       "      <td>0.000000</td>\n",
       "      <td>0.355049</td>\n",
       "      <td>0.000000</td>\n",
       "      <td>0.000000</td>\n",
       "      <td>0.000000</td>\n",
       "    </tr>\n",
       "    <tr>\n",
       "      <th>search trends</th>\n",
       "      <td>0.256410</td>\n",
       "      <td>0.000000</td>\n",
       "      <td>0.470588</td>\n",
       "      <td>0.629073</td>\n",
       "      <td>0.859649</td>\n",
       "      <td>0.000000</td>\n",
       "      <td>0.421488</td>\n",
       "      <td>0.076923</td>\n",
       "      <td>0.366072</td>\n",
       "      <td>0.272727</td>\n",
       "      <td>0.649351</td>\n",
       "      <td>0.000000</td>\n",
       "    </tr>\n",
       "    <tr>\n",
       "      <th>self profile more</th>\n",
       "      <td>0.349206</td>\n",
       "      <td>0.000000</td>\n",
       "      <td>0.666667</td>\n",
       "      <td>0.882353</td>\n",
       "      <td>0.000000</td>\n",
       "      <td>0.000000</td>\n",
       "      <td>0.393701</td>\n",
       "      <td>0.000000</td>\n",
       "      <td>0.500000</td>\n",
       "      <td>0.000000</td>\n",
       "      <td>0.000000</td>\n",
       "      <td>0.000000</td>\n",
       "    </tr>\n",
       "  </tbody>\n",
       "</table>\n",
       "</div>"
      ],
      "text/plain": [
       "source_type              album    artist  listen-with  local-library  \\\n",
       "source_screen_name                                                     \n",
       "album more            0.390245  0.000000     0.000000       0.661784   \n",
       "artist more           0.216667  0.000000     0.000000       1.000000   \n",
       "concert               0.000000  0.000000     0.000000       0.000000   \n",
       "discover chart        0.052632  0.000000     0.250000       0.291667   \n",
       "discover feature      0.327134  0.000000     0.185379       0.582609   \n",
       "discover genre        0.280127  0.000000     0.000000       0.577778   \n",
       "discover new          0.271249  0.000000     0.000000       0.000000   \n",
       "explore               0.393513  0.000000     0.085271       0.435644   \n",
       "local playlist more   0.524102  0.563751     0.257732       0.630543   \n",
       "my library            0.464774  0.733333     0.258667       0.665364   \n",
       "my library_search     0.000000  0.000000     0.000000       0.611223   \n",
       "online playlist more  0.485714  0.000000     0.241379       0.672593   \n",
       "others profile more   0.367589  0.000000     0.315284       0.000000   \n",
       "payment               0.000000  0.000000     0.000000       0.857143   \n",
       "radio                 0.000000  0.000000     0.000000       0.333333   \n",
       "search                0.424901  0.000000     0.153846       0.718121   \n",
       "search home           0.000000  0.000000     0.000000       0.000000   \n",
       "search trends         0.256410  0.000000     0.470588       0.629073   \n",
       "self profile more     0.349206  0.000000     0.666667       0.882353   \n",
       "\n",
       "source_type           local-playlist  my-daily-playlist  online-playlist  \\\n",
       "source_screen_name                                                         \n",
       "album more                  0.757033           0.000000         0.507042   \n",
       "artist more                 0.000000           0.000000         0.427410   \n",
       "concert                     0.000000           0.000000         0.510638   \n",
       "discover chart              0.000000           0.000000         0.517406   \n",
       "discover feature            0.695473           0.344729         0.368433   \n",
       "discover genre              1.000000           0.000000         0.353274   \n",
       "discover new                1.000000           0.000000         0.480736   \n",
       "explore                     0.588710           0.000000         0.451428   \n",
       "local playlist more         0.655580           0.576923         0.418799   \n",
       "my library                  0.692958           0.000000         0.491233   \n",
       "my library_search           0.000000           0.000000         0.000000   \n",
       "online playlist more        0.646154           0.000000         0.416432   \n",
       "others profile more         0.000000           0.000000         0.268683   \n",
       "payment                     1.000000           0.000000         0.250000   \n",
       "radio                       0.000000           0.000000         0.137931   \n",
       "search                      0.854031           1.000000         0.486102   \n",
       "search home                 0.000000           0.000000         0.353634   \n",
       "search trends               0.859649           0.000000         0.421488   \n",
       "self profile more           0.000000           0.000000         0.393701   \n",
       "\n",
       "source_type              radio      song  song-based-playlist  \\\n",
       "source_screen_name                                              \n",
       "album more            0.171488  0.444444             0.000000   \n",
       "artist more           0.815166  0.444444             0.000000   \n",
       "concert               0.000000  0.000000             0.000000   \n",
       "discover chart        0.232143  1.000000             0.282609   \n",
       "discover feature      0.506770  0.364444             0.357589   \n",
       "discover genre        0.000000  0.500000             0.160714   \n",
       "discover new          0.076923  0.666667             0.222222   \n",
       "explore               0.066667  0.423105             0.916667   \n",
       "local playlist more   0.282939  0.571429             0.374885   \n",
       "my library            0.297101  0.585308             0.432304   \n",
       "my library_search     0.000000  0.000000             0.000000   \n",
       "online playlist more  0.110497  0.300000             0.388010   \n",
       "others profile more   0.666667  0.282716             0.000000   \n",
       "payment               0.000000  0.000000             0.000000   \n",
       "radio                 0.217267  0.000000             0.000000   \n",
       "search                0.199288  0.464407             0.000000   \n",
       "search home           0.000000  0.355049             0.000000   \n",
       "search trends         0.076923  0.366072             0.272727   \n",
       "self profile more     0.000000  0.500000             0.000000   \n",
       "\n",
       "source_type           top-hits-for-artist  topic-article-playlist  \n",
       "source_screen_name                                                 \n",
       "album more                       0.000000                0.000000  \n",
       "artist more                      0.416623                0.000000  \n",
       "concert                          0.000000                0.000000  \n",
       "discover chart                   0.000000                0.000000  \n",
       "discover feature                 0.376812                0.000000  \n",
       "discover genre                   0.000000                0.000000  \n",
       "discover new                     0.000000                0.000000  \n",
       "explore                          0.286735                0.558715  \n",
       "local playlist more              0.459293                0.000000  \n",
       "my library                       0.561830                0.000000  \n",
       "my library_search                0.000000                0.000000  \n",
       "online playlist more             0.200000                0.455231  \n",
       "others profile more              0.000000                0.000000  \n",
       "payment                          0.000000                0.000000  \n",
       "radio                            0.000000                0.000000  \n",
       "search                           0.461705                0.000000  \n",
       "search home                      0.000000                0.000000  \n",
       "search trends                    0.649351                0.000000  \n",
       "self profile more                0.000000                0.000000  "
      ]
     },
     "execution_count": 24,
     "metadata": {},
     "output_type": "execute_result"
    }
   ],
   "source": [
    "#Show probabily of a song to be played again based on the source-type/source_screen combination\n",
    "screen_type=train.groupby(['source_screen_name','source_type'])['target'].mean()\n",
    "#Display source_type in columns and source_screen_name in rows\n",
    "screen_type=screen_type.unstack()\n",
    "#In order to plot data, NAN will be replaced by zeros\n",
    "screen_type.fillna(0)"
   ]
  },
  {
   "cell_type": "code",
   "execution_count": 25,
   "metadata": {},
   "outputs": [
    {
     "data": {
      "text/plain": [
       "<matplotlib.axes._subplots.AxesSubplot at 0x1185b4ba8>"
      ]
     },
     "execution_count": 25,
     "metadata": {},
     "output_type": "execute_result"
    },
    {
     "data": {
      "image/png": "[encoded data removed]",
      "text/plain": [
       "<Figure size 432x288 with 2 Axes>"
      ]
     },
     "metadata": {},
     "output_type": "display_data"
    }
   ],
   "source": [
    "#Plot heatmap showing probability of re-play song based on the source-type/source_screen combination\n",
    "sns.heatmap(screen_type, cmap=\"YlGnBu\")"
   ]
  },
  {
   "cell_type": "markdown",
   "metadata": {},
   "source": [
    "Songs that were accessed from Local-library and local-playlist source types have high chances to be re-played. These 2 types are the 1st and 3rd most popular among users. \n",
    "\n",
    "In this more detailed view, we can see that these 2 source types are performing good for most of the source screens."
   ]
  },
  {
   "cell_type": "code",
   "execution_count": 26,
   "metadata": {},
   "outputs": [
    {
     "data": {
      "text/html": [
       "<div>\n",
       "<style scoped>\n",
       "    .dataframe tbody tr th:only-of-type {\n",
       "        vertical-align: middle;\n",
       "    }\n",
       "\n",
       "    .dataframe tbody tr th {\n",
       "        vertical-align: top;\n",
       "    }\n",
       "\n",
       "    .dataframe thead th {\n",
       "        text-align: right;\n",
       "    }\n",
       "</style>\n",
       "<table border=\"1\" class=\"dataframe\">\n",
       "  <thead>\n",
       "    <tr style=\"text-align: right;\">\n",
       "      <th>source_screen_name</th>\n",
       "      <th>album more</th>\n",
       "      <th>artist more</th>\n",
       "      <th>concert</th>\n",
       "      <th>discover chart</th>\n",
       "      <th>discover feature</th>\n",
       "      <th>discover genre</th>\n",
       "      <th>discover new</th>\n",
       "      <th>explore</th>\n",
       "      <th>local playlist more</th>\n",
       "      <th>my library</th>\n",
       "      <th>my library_search</th>\n",
       "      <th>online playlist more</th>\n",
       "      <th>others profile more</th>\n",
       "      <th>payment</th>\n",
       "      <th>radio</th>\n",
       "      <th>search</th>\n",
       "      <th>search home</th>\n",
       "      <th>search trends</th>\n",
       "      <th>self profile more</th>\n",
       "    </tr>\n",
       "    <tr>\n",
       "      <th>source_system_tab</th>\n",
       "      <th></th>\n",
       "      <th></th>\n",
       "      <th></th>\n",
       "      <th></th>\n",
       "      <th></th>\n",
       "      <th></th>\n",
       "      <th></th>\n",
       "      <th></th>\n",
       "      <th></th>\n",
       "      <th></th>\n",
       "      <th></th>\n",
       "      <th></th>\n",
       "      <th></th>\n",
       "      <th></th>\n",
       "      <th></th>\n",
       "      <th></th>\n",
       "      <th></th>\n",
       "      <th></th>\n",
       "      <th></th>\n",
       "    </tr>\n",
       "  </thead>\n",
       "  <tbody>\n",
       "    <tr>\n",
       "      <th>discover</th>\n",
       "      <td>0.356544</td>\n",
       "      <td>0.371375</td>\n",
       "      <td>0.000000</td>\n",
       "      <td>0.516998</td>\n",
       "      <td>0.363363</td>\n",
       "      <td>0.347306</td>\n",
       "      <td>0.455031</td>\n",
       "      <td>0.142857</td>\n",
       "      <td>0.455486</td>\n",
       "      <td>0.324111</td>\n",
       "      <td>0.000000</td>\n",
       "      <td>0.421039</td>\n",
       "      <td>0.200507</td>\n",
       "      <td>0.500000</td>\n",
       "      <td>0.113656</td>\n",
       "      <td>0.431037</td>\n",
       "      <td>0.000000</td>\n",
       "      <td>0.347136</td>\n",
       "      <td>0.333333</td>\n",
       "    </tr>\n",
       "    <tr>\n",
       "      <th>explore</th>\n",
       "      <td>0.372320</td>\n",
       "      <td>0.361618</td>\n",
       "      <td>0.000000</td>\n",
       "      <td>0.000000</td>\n",
       "      <td>0.000000</td>\n",
       "      <td>0.000000</td>\n",
       "      <td>0.000000</td>\n",
       "      <td>0.448255</td>\n",
       "      <td>0.387884</td>\n",
       "      <td>0.000000</td>\n",
       "      <td>0.000000</td>\n",
       "      <td>0.409667</td>\n",
       "      <td>0.352273</td>\n",
       "      <td>0.000000</td>\n",
       "      <td>0.161240</td>\n",
       "      <td>0.421274</td>\n",
       "      <td>0.253012</td>\n",
       "      <td>0.310345</td>\n",
       "      <td>0.000000</td>\n",
       "    </tr>\n",
       "    <tr>\n",
       "      <th>listen with</th>\n",
       "      <td>0.360000</td>\n",
       "      <td>0.352500</td>\n",
       "      <td>0.465116</td>\n",
       "      <td>0.517647</td>\n",
       "      <td>0.205607</td>\n",
       "      <td>0.000000</td>\n",
       "      <td>0.857143</td>\n",
       "      <td>0.172414</td>\n",
       "      <td>0.528919</td>\n",
       "      <td>0.000000</td>\n",
       "      <td>0.000000</td>\n",
       "      <td>0.399881</td>\n",
       "      <td>0.314497</td>\n",
       "      <td>0.000000</td>\n",
       "      <td>0.443750</td>\n",
       "      <td>0.414258</td>\n",
       "      <td>0.000000</td>\n",
       "      <td>0.361446</td>\n",
       "      <td>0.522388</td>\n",
       "    </tr>\n",
       "    <tr>\n",
       "      <th>my library</th>\n",
       "      <td>0.423292</td>\n",
       "      <td>0.439718</td>\n",
       "      <td>1.000000</td>\n",
       "      <td>0.500000</td>\n",
       "      <td>0.458738</td>\n",
       "      <td>0.313253</td>\n",
       "      <td>0.761905</td>\n",
       "      <td>0.501229</td>\n",
       "      <td>0.640319</td>\n",
       "      <td>0.658295</td>\n",
       "      <td>0.611223</td>\n",
       "      <td>0.389315</td>\n",
       "      <td>0.331055</td>\n",
       "      <td>1.000000</td>\n",
       "      <td>0.219050</td>\n",
       "      <td>0.490570</td>\n",
       "      <td>0.318182</td>\n",
       "      <td>0.394853</td>\n",
       "      <td>0.381295</td>\n",
       "    </tr>\n",
       "    <tr>\n",
       "      <th>notification</th>\n",
       "      <td>0.410314</td>\n",
       "      <td>0.388889</td>\n",
       "      <td>0.000000</td>\n",
       "      <td>0.315789</td>\n",
       "      <td>0.137255</td>\n",
       "      <td>0.807692</td>\n",
       "      <td>0.500000</td>\n",
       "      <td>0.000000</td>\n",
       "      <td>0.452663</td>\n",
       "      <td>0.000000</td>\n",
       "      <td>0.000000</td>\n",
       "      <td>0.281341</td>\n",
       "      <td>0.392248</td>\n",
       "      <td>0.000000</td>\n",
       "      <td>0.000000</td>\n",
       "      <td>0.493333</td>\n",
       "      <td>0.000000</td>\n",
       "      <td>0.343750</td>\n",
       "      <td>0.000000</td>\n",
       "    </tr>\n",
       "    <tr>\n",
       "      <th>radio</th>\n",
       "      <td>0.320128</td>\n",
       "      <td>0.339339</td>\n",
       "      <td>0.000000</td>\n",
       "      <td>0.750000</td>\n",
       "      <td>0.652055</td>\n",
       "      <td>0.000000</td>\n",
       "      <td>0.000000</td>\n",
       "      <td>0.333333</td>\n",
       "      <td>0.386538</td>\n",
       "      <td>0.000000</td>\n",
       "      <td>0.000000</td>\n",
       "      <td>0.309839</td>\n",
       "      <td>0.404706</td>\n",
       "      <td>0.000000</td>\n",
       "      <td>0.217438</td>\n",
       "      <td>0.441667</td>\n",
       "      <td>0.000000</td>\n",
       "      <td>0.391892</td>\n",
       "      <td>0.000000</td>\n",
       "    </tr>\n",
       "    <tr>\n",
       "      <th>search</th>\n",
       "      <td>0.401083</td>\n",
       "      <td>0.422800</td>\n",
       "      <td>0.000000</td>\n",
       "      <td>0.650000</td>\n",
       "      <td>0.500000</td>\n",
       "      <td>0.000000</td>\n",
       "      <td>0.000000</td>\n",
       "      <td>0.377323</td>\n",
       "      <td>0.478897</td>\n",
       "      <td>0.000000</td>\n",
       "      <td>0.000000</td>\n",
       "      <td>0.365063</td>\n",
       "      <td>0.209967</td>\n",
       "      <td>0.000000</td>\n",
       "      <td>0.251524</td>\n",
       "      <td>0.474966</td>\n",
       "      <td>0.354810</td>\n",
       "      <td>0.000000</td>\n",
       "      <td>0.000000</td>\n",
       "    </tr>\n",
       "    <tr>\n",
       "      <th>settings</th>\n",
       "      <td>0.322148</td>\n",
       "      <td>0.000000</td>\n",
       "      <td>0.000000</td>\n",
       "      <td>0.631579</td>\n",
       "      <td>0.370370</td>\n",
       "      <td>0.533333</td>\n",
       "      <td>0.000000</td>\n",
       "      <td>0.000000</td>\n",
       "      <td>0.520305</td>\n",
       "      <td>0.000000</td>\n",
       "      <td>0.000000</td>\n",
       "      <td>0.322148</td>\n",
       "      <td>1.000000</td>\n",
       "      <td>0.571429</td>\n",
       "      <td>0.000000</td>\n",
       "      <td>0.355556</td>\n",
       "      <td>0.000000</td>\n",
       "      <td>0.333333</td>\n",
       "      <td>0.000000</td>\n",
       "    </tr>\n",
       "  </tbody>\n",
       "</table>\n",
       "</div>"
      ],
      "text/plain": [
       "source_screen_name  album more  artist more   concert  discover chart  \\\n",
       "source_system_tab                                                       \n",
       "discover              0.356544     0.371375  0.000000        0.516998   \n",
       "explore               0.372320     0.361618  0.000000        0.000000   \n",
       "listen with           0.360000     0.352500  0.465116        0.517647   \n",
       "my library            0.423292     0.439718  1.000000        0.500000   \n",
       "notification          0.410314     0.388889  0.000000        0.315789   \n",
       "radio                 0.320128     0.339339  0.000000        0.750000   \n",
       "search                0.401083     0.422800  0.000000        0.650000   \n",
       "settings              0.322148     0.000000  0.000000        0.631579   \n",
       "\n",
       "source_screen_name  discover feature  discover genre  discover new   explore  \\\n",
       "source_system_tab                                                              \n",
       "discover                    0.363363        0.347306      0.455031  0.142857   \n",
       "explore                     0.000000        0.000000      0.000000  0.448255   \n",
       "listen with                 0.205607        0.000000      0.857143  0.172414   \n",
       "my library                  0.458738        0.313253      0.761905  0.501229   \n",
       "notification                0.137255        0.807692      0.500000  0.000000   \n",
       "radio                       0.652055        0.000000      0.000000  0.333333   \n",
       "search                      0.500000        0.000000      0.000000  0.377323   \n",
       "settings                    0.370370        0.533333      0.000000  0.000000   \n",
       "\n",
       "source_screen_name  local playlist more  my library  my library_search  \\\n",
       "source_system_tab                                                        \n",
       "discover                       0.455486    0.324111           0.000000   \n",
       "explore                        0.387884    0.000000           0.000000   \n",
       "listen with                    0.528919    0.000000           0.000000   \n",
       "my library                     0.640319    0.658295           0.611223   \n",
       "notification                   0.452663    0.000000           0.000000   \n",
       "radio                          0.386538    0.000000           0.000000   \n",
       "search                         0.478897    0.000000           0.000000   \n",
       "settings                       0.520305    0.000000           0.000000   \n",
       "\n",
       "source_screen_name  online playlist more  others profile more   payment  \\\n",
       "source_system_tab                                                         \n",
       "discover                        0.421039             0.200507  0.500000   \n",
       "explore                         0.409667             0.352273  0.000000   \n",
       "listen with                     0.399881             0.314497  0.000000   \n",
       "my library                      0.389315             0.331055  1.000000   \n",
       "notification                    0.281341             0.392248  0.000000   \n",
       "radio                           0.309839             0.404706  0.000000   \n",
       "search                          0.365063             0.209967  0.000000   \n",
       "settings                        0.322148             1.000000  0.571429   \n",
       "\n",
       "source_screen_name     radio    search  search home  search trends  \\\n",
       "source_system_tab                                                    \n",
       "discover            0.113656  0.431037     0.000000       0.347136   \n",
       "explore             0.161240  0.421274     0.253012       0.310345   \n",
       "listen with         0.443750  0.414258     0.000000       0.361446   \n",
       "my library          0.219050  0.490570     0.318182       0.394853   \n",
       "notification        0.000000  0.493333     0.000000       0.343750   \n",
       "radio               0.217438  0.441667     0.000000       0.391892   \n",
       "search              0.251524  0.474966     0.354810       0.000000   \n",
       "settings            0.000000  0.355556     0.000000       0.333333   \n",
       "\n",
       "source_screen_name  self profile more  \n",
       "source_system_tab                      \n",
       "discover                     0.333333  \n",
       "explore                      0.000000  \n",
       "listen with                  0.522388  \n",
       "my library                   0.381295  \n",
       "notification                 0.000000  \n",
       "radio                        0.000000  \n",
       "search                       0.000000  \n",
       "settings                     0.000000  "
      ]
     },
     "execution_count": 26,
     "metadata": {},
     "output_type": "execute_result"
    }
   ],
   "source": [
    "#Show probabily of a song to be played again based on the source-system_tab/source_screen combination\n",
    "system_screen=train.groupby(['source_system_tab','source_screen_name'])['target'].mean()\n",
    "system_screen=system_screen.unstack()\n",
    "system_screen.fillna(0)"
   ]
  },
  {
   "cell_type": "code",
   "execution_count": 27,
   "metadata": {},
   "outputs": [
    {
     "data": {
      "text/plain": [
       "<matplotlib.axes._subplots.AxesSubplot at 0x118e629e8>"
      ]
     },
     "execution_count": 27,
     "metadata": {},
     "output_type": "execute_result"
    },
    {
     "data": {
      "image/png": "[encoded data removed]",
      "text/plain": [
       "<Figure size 432x288 with 2 Axes>"
      ]
     },
     "metadata": {},
     "output_type": "display_data"
    }
   ],
   "source": [
    "#Plot heatmap showing probability of re-play song based on the source-type/source_screen combination\n",
    "sns.heatmap(system_screen, cmap=\"YlGnBu\")"
   ]
  },
  {
   "cell_type": "markdown",
   "metadata": {},
   "source": [
    "Before we already saw that my library was the source_system_tab with higher replay probability. Here we can see in which source screen names is higher. \n",
    "\n",
    "There are some system_tab, source_screen couples that are worth exploring further, to see if the high probability is driven by a low volumen or it can be a real driver for a song to be re-play."
   ]
  },
  {
   "cell_type": "code",
   "execution_count": 28,
   "metadata": {
    "scrolled": true
   },
   "outputs": [
    {
     "name": "stdout",
     "output_type": "stream",
     "text": [
      "source_screen_name  album more  artist more  concert  discover chart  \\\n",
      "source_system_tab                                                      \n",
      "discover              141820.0      33314.0      NaN        213084.0   \n",
      "explore                10029.0       1261.0      NaN             NaN   \n",
      "listen with             1275.0        400.0     43.0            85.0   \n",
      "my library            111800.0      27081.0      4.0           308.0   \n",
      "notification            3122.0         54.0      NaN            19.0   \n",
      "radio                   1868.0       1665.0      NaN            16.0   \n",
      "search                149206.0     188652.0      NaN            20.0   \n",
      "settings                 149.0          NaN      NaN            38.0   \n",
      "\n",
      "source_screen_name  discover feature  discover genre  discover new  explore  \\\n",
      "source_system_tab                                                             \n",
      "discover                    243005.0         81899.0       15922.0      7.0   \n",
      "explore                          8.0             NaN           NaN  71263.0   \n",
      "listen with                    107.0             NaN           7.0     29.0   \n",
      "my library                     412.0           166.0          21.0    407.0   \n",
      "notification                    51.0           104.0           2.0      3.0   \n",
      "radio                          365.0             2.0           3.0     12.0   \n",
      "search                           4.0             NaN           NaN    538.0   \n",
      "settings                        27.0            30.0           NaN      NaN   \n",
      "\n",
      "source_screen_name  local playlist more  my library  my library_search  \\\n",
      "source_system_tab                                                        \n",
      "discover                        44772.0       253.0                NaN   \n",
      "explore                          2212.0         NaN                NaN   \n",
      "listen with                      1193.0         NaN                NaN   \n",
      "my library                    3169576.0     74576.0             6451.0   \n",
      "notification                      338.0         NaN                NaN   \n",
      "radio                            1560.0         NaN                NaN   \n",
      "search                           7653.0         NaN                NaN   \n",
      "settings                          394.0         NaN                NaN   \n",
      "\n",
      "source_screen_name  online playlist more  others profile more  payment  \\\n",
      "source_system_tab                                                        \n",
      "discover                       1082557.0               3945.0      2.0   \n",
      "explore                          56690.0                176.0      NaN   \n",
      "listen with                      11806.0             189086.0      NaN   \n",
      "my library                       53065.0               6292.0      3.0   \n",
      "notification                      1372.0                645.0      NaN   \n",
      "radio                             1433.0                425.0      NaN   \n",
      "search                           87341.0               1224.0      NaN   \n",
      "settings                           149.0                  2.0      7.0   \n",
      "\n",
      "source_screen_name     radio    search  search home  search trends  \\\n",
      "source_system_tab                                                    \n",
      "discover              2314.0   44727.0          1.0         4661.0   \n",
      "explore                645.0    3093.0         83.0          174.0   \n",
      "listen with            160.0     519.0          6.0           83.0   \n",
      "my library            4273.0   78633.0        132.0         8588.0   \n",
      "notification             2.0      75.0          NaN           32.0   \n",
      "radio               462629.0     600.0          NaN           74.0   \n",
      "search                4429.0  170768.0      13255.0            NaN   \n",
      "settings                 NaN      45.0          NaN            9.0   \n",
      "\n",
      "source_screen_name  self profile more  \n",
      "source_system_tab                      \n",
      "discover                          6.0  \n",
      "explore                           NaN  \n",
      "listen with                      67.0  \n",
      "my library                      139.0  \n",
      "notification                      NaN  \n",
      "radio                             NaN  \n",
      "search                            NaN  \n",
      "settings                          NaN  \n"
     ]
    }
   ],
   "source": [
    "#Show counts of source-system_tab/source_screen combinations\n",
    "system_screen_counts=train.groupby(['source_system_tab','source_screen_name'])['target'].count()\n",
    "system_screen_counts=system_screen_counts.unstack()\n",
    "print(system_screen_counts)"
   ]
  },
  {
   "cell_type": "markdown",
   "metadata": {},
   "source": [
    "The following source-system_tab/source_screen combination show high probability:\n",
    "    - My library, Concert\n",
    "    - Listen with, Discover New\n",
    "    - Notification, Discover Genre\n",
    "    - My library, Discover New\n",
    "    - My library, Payment\n",
    "    - Payment, Settings\n",
    "    \n",
    "But the number of occurrences it is very low for any of the combinations. The maximum number is observed for Notification, Discover Genre with 104.\n",
    "No meaningful insights can be driven from here. "
   ]
  },
  {
   "cell_type": "markdown",
   "metadata": {},
   "source": [
    "The combinations that show a relatively high probability with significant volumen are:\n",
    "    - My library, local playlist more\n",
    "    - My library, my library\n",
    "    - My library, my library search"
   ]
  },
  {
   "cell_type": "code",
   "execution_count": 29,
   "metadata": {},
   "outputs": [
    {
     "data": {
      "text/html": [
       "<div>\n",
       "<style scoped>\n",
       "    .dataframe tbody tr th:only-of-type {\n",
       "        vertical-align: middle;\n",
       "    }\n",
       "\n",
       "    .dataframe tbody tr th {\n",
       "        vertical-align: top;\n",
       "    }\n",
       "\n",
       "    .dataframe thead th {\n",
       "        text-align: right;\n",
       "    }\n",
       "</style>\n",
       "<table border=\"1\" class=\"dataframe\">\n",
       "  <thead>\n",
       "    <tr style=\"text-align: right;\">\n",
       "      <th>source_type</th>\n",
       "      <th>album</th>\n",
       "      <th>artist</th>\n",
       "      <th>listen-with</th>\n",
       "      <th>local-library</th>\n",
       "      <th>local-playlist</th>\n",
       "      <th>my-daily-playlist</th>\n",
       "      <th>online-playlist</th>\n",
       "      <th>radio</th>\n",
       "      <th>song</th>\n",
       "      <th>song-based-playlist</th>\n",
       "      <th>top-hits-for-artist</th>\n",
       "      <th>topic-article-playlist</th>\n",
       "    </tr>\n",
       "    <tr>\n",
       "      <th>source_system_tab</th>\n",
       "      <th></th>\n",
       "      <th></th>\n",
       "      <th></th>\n",
       "      <th></th>\n",
       "      <th></th>\n",
       "      <th></th>\n",
       "      <th></th>\n",
       "      <th></th>\n",
       "      <th></th>\n",
       "      <th></th>\n",
       "      <th></th>\n",
       "      <th></th>\n",
       "    </tr>\n",
       "  </thead>\n",
       "  <tbody>\n",
       "    <tr>\n",
       "      <th>discover</th>\n",
       "      <td>0.352418</td>\n",
       "      <td>0.891892</td>\n",
       "      <td>0.193109</td>\n",
       "      <td>0.507436</td>\n",
       "      <td>0.656369</td>\n",
       "      <td>0.375566</td>\n",
       "      <td>0.427084</td>\n",
       "      <td>0.142400</td>\n",
       "      <td>0.348064</td>\n",
       "      <td>0.380117</td>\n",
       "      <td>0.398697</td>\n",
       "      <td>0.209091</td>\n",
       "    </tr>\n",
       "    <tr>\n",
       "      <th>explore</th>\n",
       "      <td>0.382789</td>\n",
       "      <td>0.000000</td>\n",
       "      <td>0.267913</td>\n",
       "      <td>0.372453</td>\n",
       "      <td>0.707510</td>\n",
       "      <td>0.000000</td>\n",
       "      <td>0.427767</td>\n",
       "      <td>0.133333</td>\n",
       "      <td>0.339503</td>\n",
       "      <td>0.846154</td>\n",
       "      <td>0.389034</td>\n",
       "      <td>0.500973</td>\n",
       "    </tr>\n",
       "    <tr>\n",
       "      <th>listen with</th>\n",
       "      <td>0.362267</td>\n",
       "      <td>0.666667</td>\n",
       "      <td>0.321941</td>\n",
       "      <td>0.559693</td>\n",
       "      <td>0.601562</td>\n",
       "      <td>0.000000</td>\n",
       "      <td>0.395845</td>\n",
       "      <td>0.365854</td>\n",
       "      <td>0.281300</td>\n",
       "      <td>0.160920</td>\n",
       "      <td>0.385203</td>\n",
       "      <td>0.086957</td>\n",
       "    </tr>\n",
       "    <tr>\n",
       "      <th>my library</th>\n",
       "      <td>0.437544</td>\n",
       "      <td>0.568425</td>\n",
       "      <td>0.313898</td>\n",
       "      <td>0.635424</td>\n",
       "      <td>0.657703</td>\n",
       "      <td>0.000000</td>\n",
       "      <td>0.454019</td>\n",
       "      <td>0.227532</td>\n",
       "      <td>0.403690</td>\n",
       "      <td>0.470443</td>\n",
       "      <td>0.437672</td>\n",
       "      <td>0.649123</td>\n",
       "    </tr>\n",
       "    <tr>\n",
       "      <th>notification</th>\n",
       "      <td>0.409265</td>\n",
       "      <td>0.000000</td>\n",
       "      <td>0.400000</td>\n",
       "      <td>0.466216</td>\n",
       "      <td>0.500000</td>\n",
       "      <td>0.000000</td>\n",
       "      <td>0.312362</td>\n",
       "      <td>0.181818</td>\n",
       "      <td>0.381443</td>\n",
       "      <td>0.068966</td>\n",
       "      <td>0.333333</td>\n",
       "      <td>0.000000</td>\n",
       "    </tr>\n",
       "    <tr>\n",
       "      <th>radio</th>\n",
       "      <td>0.320128</td>\n",
       "      <td>1.000000</td>\n",
       "      <td>0.396270</td>\n",
       "      <td>0.375533</td>\n",
       "      <td>0.621951</td>\n",
       "      <td>0.000000</td>\n",
       "      <td>0.377599</td>\n",
       "      <td>0.219829</td>\n",
       "      <td>0.367123</td>\n",
       "      <td>0.700000</td>\n",
       "      <td>0.357790</td>\n",
       "      <td>0.222222</td>\n",
       "    </tr>\n",
       "    <tr>\n",
       "      <th>search</th>\n",
       "      <td>0.402182</td>\n",
       "      <td>0.000000</td>\n",
       "      <td>0.203777</td>\n",
       "      <td>0.474405</td>\n",
       "      <td>0.780161</td>\n",
       "      <td>0.000000</td>\n",
       "      <td>0.366803</td>\n",
       "      <td>0.277394</td>\n",
       "      <td>0.477586</td>\n",
       "      <td>0.666667</td>\n",
       "      <td>0.423450</td>\n",
       "      <td>0.423913</td>\n",
       "    </tr>\n",
       "    <tr>\n",
       "      <th>settings</th>\n",
       "      <td>0.329032</td>\n",
       "      <td>0.000000</td>\n",
       "      <td>0.000000</td>\n",
       "      <td>0.712000</td>\n",
       "      <td>0.750000</td>\n",
       "      <td>0.000000</td>\n",
       "      <td>0.368132</td>\n",
       "      <td>0.181818</td>\n",
       "      <td>0.250000</td>\n",
       "      <td>0.305556</td>\n",
       "      <td>0.379487</td>\n",
       "      <td>0.000000</td>\n",
       "    </tr>\n",
       "  </tbody>\n",
       "</table>\n",
       "</div>"
      ],
      "text/plain": [
       "source_type           album    artist  listen-with  local-library  \\\n",
       "source_system_tab                                                   \n",
       "discover           0.352418  0.891892     0.193109       0.507436   \n",
       "explore            0.382789  0.000000     0.267913       0.372453   \n",
       "listen with        0.362267  0.666667     0.321941       0.559693   \n",
       "my library         0.437544  0.568425     0.313898       0.635424   \n",
       "notification       0.409265  0.000000     0.400000       0.466216   \n",
       "radio              0.320128  1.000000     0.396270       0.375533   \n",
       "search             0.402182  0.000000     0.203777       0.474405   \n",
       "settings           0.329032  0.000000     0.000000       0.712000   \n",
       "\n",
       "source_type        local-playlist  my-daily-playlist  online-playlist  \\\n",
       "source_system_tab                                                       \n",
       "discover                 0.656369           0.375566         0.427084   \n",
       "explore                  0.707510           0.000000         0.427767   \n",
       "listen with              0.601562           0.000000         0.395845   \n",
       "my library               0.657703           0.000000         0.454019   \n",
       "notification             0.500000           0.000000         0.312362   \n",
       "radio                    0.621951           0.000000         0.377599   \n",
       "search                   0.780161           0.000000         0.366803   \n",
       "settings                 0.750000           0.000000         0.368132   \n",
       "\n",
       "source_type           radio      song  song-based-playlist  \\\n",
       "source_system_tab                                            \n",
       "discover           0.142400  0.348064             0.380117   \n",
       "explore            0.133333  0.339503             0.846154   \n",
       "listen with        0.365854  0.281300             0.160920   \n",
       "my library         0.227532  0.403690             0.470443   \n",
       "notification       0.181818  0.381443             0.068966   \n",
       "radio              0.219829  0.367123             0.700000   \n",
       "search             0.277394  0.477586             0.666667   \n",
       "settings           0.181818  0.250000             0.305556   \n",
       "\n",
       "source_type        top-hits-for-artist  topic-article-playlist  \n",
       "source_system_tab                                               \n",
       "discover                      0.398697                0.209091  \n",
       "explore                       0.389034                0.500973  \n",
       "listen with                   0.385203                0.086957  \n",
       "my library                    0.437672                0.649123  \n",
       "notification                  0.333333                0.000000  \n",
       "radio                         0.357790                0.222222  \n",
       "search                        0.423450                0.423913  \n",
       "settings                      0.379487                0.000000  "
      ]
     },
     "execution_count": 29,
     "metadata": {},
     "output_type": "execute_result"
    }
   ],
   "source": [
    "#Show probabily of a song to be played again based on the source-system_tab/source_type combination\n",
    "system_type=train.groupby(['source_system_tab','source_type'])['target'].mean()\n",
    "system_type=system_type.unstack()\n",
    "system_type.fillna(0)"
   ]
  },
  {
   "cell_type": "code",
   "execution_count": 30,
   "metadata": {
    "scrolled": true
   },
   "outputs": [
    {
     "data": {
      "image/png": "[encoded data removed]",
      "text/plain": [
       "<Figure size 432x288 with 2 Axes>"
      ]
     },
     "metadata": {},
     "output_type": "display_data"
    }
   ],
   "source": [
    "#Plot heatmap showing probability of re-play song based on the source_system_tab/source_type combination\n",
    "sns.heatmap(system_type, cmap=\"YlGnBu\")\n",
    "plt.title('Replay probability')\n",
    "plt.show()"
   ]
  },
  {
   "cell_type": "code",
   "execution_count": 31,
   "metadata": {
    "scrolled": false
   },
   "outputs": [
    {
     "data": {
      "image/png": "[encoded data removed]",
      "text/plain": [
       "<Figure size 432x288 with 2 Axes>"
      ]
     },
     "metadata": {},
     "output_type": "display_data"
    },
    {
     "name": "stderr",
     "output_type": "stream",
     "text": [
      "/anaconda3/lib/python3.6/site-packages/matplotlib/colors.py:1031: RuntimeWarning: invalid value encountered in less_equal\n",
      "  mask |= resdat <= 0\n"
     ]
    },
    {
     "data": {
      "image/png": "[encoded data removed]",
      "text/plain": [
       "<Figure size 432x288 with 2 Axes>"
      ]
     },
     "metadata": {},
     "output_type": "display_data"
    },
    {
     "name": "stdout",
     "output_type": "stream",
     "text": [
      "source_type           album  artist  listen-with  local-library  \\\n",
      "source_system_tab                                                 \n",
      "discover           164529.0    37.0       2496.0        42226.0   \n",
      "explore             18663.0     NaN        321.0         2258.0   \n",
      "listen with          1394.0     3.0     181825.0          913.0   \n",
      "my library         129932.0  2996.0       6260.0      2205014.0   \n",
      "notification         3130.0     NaN        470.0          296.0   \n",
      "radio                1868.0     2.0        429.0         1406.0   \n",
      "search             157533.0     NaN       1006.0         6642.0   \n",
      "settings              155.0     NaN          NaN          875.0   \n",
      "\n",
      "source_type        local-playlist  my-daily-playlist  online-playlist  \\\n",
      "source_system_tab                                                       \n",
      "discover                   5762.0              663.0        1597867.0   \n",
      "explore                     253.0                NaN         127275.0   \n",
      "listen with                 256.0                NaN          13912.0   \n",
      "my library              1071592.0                NaN         116658.0   \n",
      "notification                 40.0                NaN           1812.0   \n",
      "radio                        82.0                NaN           2116.0   \n",
      "search                      373.0                NaN         104571.0   \n",
      "settings                    528.0                NaN            364.0   \n",
      "\n",
      "source_type           radio      song  song-based-playlist  \\\n",
      "source_system_tab                                            \n",
      "discover             3434.0   27018.0             209441.0   \n",
      "explore               855.0    3458.0                 13.0   \n",
      "listen with           205.0   11941.0                 87.0   \n",
      "my library           6320.0   46444.0                812.0   \n",
      "notification           11.0     194.0                 29.0   \n",
      "radio              467209.0     365.0                 10.0   \n",
      "search               4636.0  155237.0                  6.0   \n",
      "settings               11.0      36.0                 36.0   \n",
      "\n",
      "source_type        top-hits-for-artist  topic-article-playlist  \n",
      "source_system_tab                                               \n",
      "discover                      124646.0                   220.0  \n",
      "explore                         3447.0                 10793.0  \n",
      "listen with                     1703.0                    23.0  \n",
      "my library                     96922.0                    57.0  \n",
      "notification                     192.0                     NaN  \n",
      "radio                           3203.0                     9.0  \n",
      "search                        193121.0                    92.0  \n",
      "settings                         195.0                     NaN  \n"
     ]
    }
   ],
   "source": [
    "#Plot heatmap showing probability of re-play song based on the source_system_tab/source_type combination\n",
    "sns.heatmap(system_type, cmap=\"YlGnBu\")\n",
    "plt.xlabel('')\n",
    "plt.title('Replay probability')\n",
    "plt.show()\n",
    "#Show counts of source-system_tab/source_type combinations\n",
    "system_type_counts=train.groupby(['source_system_tab','source_type'])['target'].count()\n",
    "system_type_counts=system_type_counts.unstack()\n",
    "#In order to plot data, NAN will be replaced by zeros\n",
    "system_type_counts.fillna(0)\n",
    "#Compute logaritmic scale for plot colors\n",
    "log_norm = LogNorm(vmin=system_type_counts.min().min(), vmax=system_type_counts.max().max())\n",
    "#Generate logaritmic labels\n",
    "cbar_ticks = [math.pow(10, i) for i in range(math.floor(math.log10(system_type_counts.min().min())), 1+math.ceil(math.log10(system_type_counts.max().max())))]\n",
    "#Plot number of observations in logaritmic scale\n",
    "#plt.subplot(2,1,2)\n",
    "sns.heatmap(system_type_counts, cmap=\"YlGnBu\", norm=log_norm, cbar_kws={\"ticks\": cbar_ticks})\n",
    "plt.title('observations')\n",
    "plt.show()\n",
    "#Print number of observations\n",
    "print(system_type_counts)"
   ]
  },
  {
   "cell_type": "markdown",
   "metadata": {},
   "source": [
    "From combinations source_system_tab and source_type we see with a decent number of observation and high probability the combinations:\n",
    "    - 'my library' | 'local-library'\n",
    "    - 'my library' | 'local-playlist'"
   ]
  },
  {
   "cell_type": "markdown",
   "metadata": {},
   "source": [
    "### Question 3\n",
    "\n",
    "Based on song attributes, can we tell that some songs have more possibilites to be listened again?\n",
    "- Do users like (listen again) more long songs or short songs?\n",
    "- Do songs who belong to more genres have more possibilities to be listened again?\n",
    "- Are songs in one language listened more than others in other languages?"
   ]
  },
  {
   "cell_type": "code",
   "execution_count": 32,
   "metadata": {},
   "outputs": [
    {
     "name": "stdout",
     "output_type": "stream",
     "text": [
      "                                        song_id  song_length_min genre_ids  \\\n",
      "0  CXoTN1eb7AI+DntdU1vbcwGRV4SCIDxZu+YD8JP8r4E=         4.127333   ['465']   \n",
      "1  o0kFgae9QtnYgRkVPqLJwa05zIhRlUjfF7O1tDw0ZDU=         3.288800   ['444']   \n",
      "2  DwVvVurfpuz+XPuFvucclVQEyPqcpUkHR0ne1RQzPs0=         3.863017   ['465']   \n",
      "3  dKMBWoZyScdxSkihKG+Vf47nc18N9q4m58+b4e7dSSE=         4.559233   ['465']   \n",
      "4  W3bqWd3T+VeHFzHAUfARgW9AvVRaF4N5Yzm4Mr6Eo/o=         2.338817   ['726']   \n",
      "\n",
      "        artist_name                                  composer  \\\n",
      "0  張信哲 (Jeff Chang)                                    ['董貞']   \n",
      "1         Blackpink  ['Teddy', 'Future Bounce', 'Bekuh Boom']   \n",
      "2      Super Junior                                       NaN   \n",
      "3             S.H.E                                   ['湯小康']   \n",
      "4              貴族精選                           ['Traditional']   \n",
      "\n",
      "          lyricist  language  genre_count  \n",
      "0          ['何啟弘']         3          1.0  \n",
      "1        ['Teddy']        31          1.0  \n",
      "2              NaN        31          1.0  \n",
      "3          ['徐世珍']         3          1.0  \n",
      "4  ['Traditional']        52          1.0  \n",
      "(2296320, 8)\n",
      "<class 'pandas.core.frame.DataFrame'>\n",
      "RangeIndex: 2296320 entries, 0 to 2296319\n",
      "Data columns (total 8 columns):\n",
      "song_id            object\n",
      "song_length_min    float64\n",
      "genre_ids          object\n",
      "artist_name        object\n",
      "composer           object\n",
      "lyricist           object\n",
      "language           int64\n",
      "genre_count        float64\n",
      "dtypes: float64(2), int64(1), object(5)\n",
      "memory usage: 140.2+ MB\n",
      "None\n"
     ]
    }
   ],
   "source": [
    "#Loading songs clean file\n",
    "songs=pd.read_csv('data/songs_clean.csv')\n",
    "print(songs.head())\n",
    "print(songs.shape)\n",
    "print(songs.info())"
   ]
  },
  {
   "cell_type": "code",
   "execution_count": 33,
   "metadata": {},
   "outputs": [
    {
     "data": {
      "text/html": [
       "<div>\n",
       "<style scoped>\n",
       "    .dataframe tbody tr th:only-of-type {\n",
       "        vertical-align: middle;\n",
       "    }\n",
       "\n",
       "    .dataframe tbody tr th {\n",
       "        vertical-align: top;\n",
       "    }\n",
       "\n",
       "    .dataframe thead th {\n",
       "        text-align: right;\n",
       "    }\n",
       "</style>\n",
       "<table border=\"1\" class=\"dataframe\">\n",
       "  <thead>\n",
       "    <tr style=\"text-align: right;\">\n",
       "      <th></th>\n",
       "      <th>target</th>\n",
       "    </tr>\n",
       "    <tr>\n",
       "      <th>song_id</th>\n",
       "      <th></th>\n",
       "    </tr>\n",
       "  </thead>\n",
       "  <tbody>\n",
       "    <tr>\n",
       "      <th>+++2AEoM0d8iZTdbnAjUm35bnGKGMXdZJSv4rrWK6JQ=</th>\n",
       "      <td>0.0</td>\n",
       "    </tr>\n",
       "    <tr>\n",
       "      <th>++/ACCkEN/+VtgrJxEqeRgRmV4y8pcarDJ9T/yRAi1E=</th>\n",
       "      <td>0.0</td>\n",
       "    </tr>\n",
       "    <tr>\n",
       "      <th>++/lJNswCU+za2pYB0cWIbGL5UzWIKtfweX20+GImZA=</th>\n",
       "      <td>0.0</td>\n",
       "    </tr>\n",
       "    <tr>\n",
       "      <th>++4/NK5qpbTZWln/6UmykB8cLfRTCCj8E36IKZVzBjM=</th>\n",
       "      <td>0.0</td>\n",
       "    </tr>\n",
       "    <tr>\n",
       "      <th>++4Ihbdp0juQ9ldp9DysOL1WTLHIiawg7cnBTn55I/k=</th>\n",
       "      <td>0.0</td>\n",
       "    </tr>\n",
       "  </tbody>\n",
       "</table>\n",
       "</div>"
      ],
      "text/plain": [
       "                                              target\n",
       "song_id                                             \n",
       "+++2AEoM0d8iZTdbnAjUm35bnGKGMXdZJSv4rrWK6JQ=     0.0\n",
       "++/ACCkEN/+VtgrJxEqeRgRmV4y8pcarDJ9T/yRAi1E=     0.0\n",
       "++/lJNswCU+za2pYB0cWIbGL5UzWIKtfweX20+GImZA=     0.0\n",
       "++4/NK5qpbTZWln/6UmykB8cLfRTCCj8E36IKZVzBjM=     0.0\n",
       "++4Ihbdp0juQ9ldp9DysOL1WTLHIiawg7cnBTn55I/k=     0.0"
      ]
     },
     "execution_count": 33,
     "metadata": {},
     "output_type": "execute_result"
    }
   ],
   "source": [
    "#Calculate probability of each song to be replayed: prob_by_song\n",
    "prob_by_song=train.groupby(['song_id'])['target'].mean().to_frame()\n",
    "prob_by_song.head()"
   ]
  },
  {
   "cell_type": "code",
   "execution_count": 34,
   "metadata": {},
   "outputs": [
    {
     "data": {
      "text/html": [
       "<div>\n",
       "<style scoped>\n",
       "    .dataframe tbody tr th:only-of-type {\n",
       "        vertical-align: middle;\n",
       "    }\n",
       "\n",
       "    .dataframe tbody tr th {\n",
       "        vertical-align: top;\n",
       "    }\n",
       "\n",
       "    .dataframe thead th {\n",
       "        text-align: right;\n",
       "    }\n",
       "</style>\n",
       "<table border=\"1\" class=\"dataframe\">\n",
       "  <thead>\n",
       "    <tr style=\"text-align: right;\">\n",
       "      <th></th>\n",
       "      <th>song_id</th>\n",
       "      <th>song_length_min</th>\n",
       "      <th>genre_ids</th>\n",
       "      <th>artist_name</th>\n",
       "      <th>composer</th>\n",
       "      <th>lyricist</th>\n",
       "      <th>language</th>\n",
       "      <th>genre_count</th>\n",
       "      <th>target</th>\n",
       "    </tr>\n",
       "  </thead>\n",
       "  <tbody>\n",
       "    <tr>\n",
       "      <th>0</th>\n",
       "      <td>CXoTN1eb7AI+DntdU1vbcwGRV4SCIDxZu+YD8JP8r4E=</td>\n",
       "      <td>4.127333</td>\n",
       "      <td>['465']</td>\n",
       "      <td>張信哲 (Jeff Chang)</td>\n",
       "      <td>['董貞']</td>\n",
       "      <td>['何啟弘']</td>\n",
       "      <td>3</td>\n",
       "      <td>1.0</td>\n",
       "      <td>0.500000</td>\n",
       "    </tr>\n",
       "    <tr>\n",
       "      <th>1</th>\n",
       "      <td>o0kFgae9QtnYgRkVPqLJwa05zIhRlUjfF7O1tDw0ZDU=</td>\n",
       "      <td>3.288800</td>\n",
       "      <td>['444']</td>\n",
       "      <td>Blackpink</td>\n",
       "      <td>['Teddy', 'Future Bounce', 'Bekuh Boom']</td>\n",
       "      <td>['Teddy']</td>\n",
       "      <td>31</td>\n",
       "      <td>1.0</td>\n",
       "      <td>0.613816</td>\n",
       "    </tr>\n",
       "    <tr>\n",
       "      <th>2</th>\n",
       "      <td>DwVvVurfpuz+XPuFvucclVQEyPqcpUkHR0ne1RQzPs0=</td>\n",
       "      <td>3.863017</td>\n",
       "      <td>['465']</td>\n",
       "      <td>Super Junior</td>\n",
       "      <td>NaN</td>\n",
       "      <td>NaN</td>\n",
       "      <td>31</td>\n",
       "      <td>1.0</td>\n",
       "      <td>0.478827</td>\n",
       "    </tr>\n",
       "    <tr>\n",
       "      <th>3</th>\n",
       "      <td>dKMBWoZyScdxSkihKG+Vf47nc18N9q4m58+b4e7dSSE=</td>\n",
       "      <td>4.559233</td>\n",
       "      <td>['465']</td>\n",
       "      <td>S.H.E</td>\n",
       "      <td>['湯小康']</td>\n",
       "      <td>['徐世珍']</td>\n",
       "      <td>3</td>\n",
       "      <td>1.0</td>\n",
       "      <td>0.503125</td>\n",
       "    </tr>\n",
       "    <tr>\n",
       "      <th>4</th>\n",
       "      <td>W3bqWd3T+VeHFzHAUfARgW9AvVRaF4N5Yzm4Mr6Eo/o=</td>\n",
       "      <td>2.338817</td>\n",
       "      <td>['726']</td>\n",
       "      <td>貴族精選</td>\n",
       "      <td>['Traditional']</td>\n",
       "      <td>['Traditional']</td>\n",
       "      <td>52</td>\n",
       "      <td>1.0</td>\n",
       "      <td>0.614035</td>\n",
       "    </tr>\n",
       "  </tbody>\n",
       "</table>\n",
       "</div>"
      ],
      "text/plain": [
       "                                        song_id  song_length_min genre_ids  \\\n",
       "0  CXoTN1eb7AI+DntdU1vbcwGRV4SCIDxZu+YD8JP8r4E=         4.127333   ['465']   \n",
       "1  o0kFgae9QtnYgRkVPqLJwa05zIhRlUjfF7O1tDw0ZDU=         3.288800   ['444']   \n",
       "2  DwVvVurfpuz+XPuFvucclVQEyPqcpUkHR0ne1RQzPs0=         3.863017   ['465']   \n",
       "3  dKMBWoZyScdxSkihKG+Vf47nc18N9q4m58+b4e7dSSE=         4.559233   ['465']   \n",
       "4  W3bqWd3T+VeHFzHAUfARgW9AvVRaF4N5Yzm4Mr6Eo/o=         2.338817   ['726']   \n",
       "\n",
       "        artist_name                                  composer  \\\n",
       "0  張信哲 (Jeff Chang)                                    ['董貞']   \n",
       "1         Blackpink  ['Teddy', 'Future Bounce', 'Bekuh Boom']   \n",
       "2      Super Junior                                       NaN   \n",
       "3             S.H.E                                   ['湯小康']   \n",
       "4              貴族精選                           ['Traditional']   \n",
       "\n",
       "          lyricist  language  genre_count    target  \n",
       "0          ['何啟弘']         3          1.0  0.500000  \n",
       "1        ['Teddy']        31          1.0  0.613816  \n",
       "2              NaN        31          1.0  0.478827  \n",
       "3          ['徐世珍']         3          1.0  0.503125  \n",
       "4  ['Traditional']        52          1.0  0.614035  "
      ]
     },
     "execution_count": 34,
     "metadata": {},
     "output_type": "execute_result"
    }
   ],
   "source": [
    "#Adding probability to be replayed to songs table: songs_with_prob\n",
    "songs_with_prob=pd.merge(songs,prob_by_song,left_on='song_id',right_index=True)\n",
    "songs_with_prob.head()"
   ]
  },
  {
   "cell_type": "code",
   "execution_count": 35,
   "metadata": {},
   "outputs": [
    {
     "data": {
      "text/plain": [
       "<matplotlib.axes._subplots.AxesSubplot at 0x116bad320>"
      ]
     },
     "execution_count": 35,
     "metadata": {},
     "output_type": "execute_result"
    },
    {
     "data": {
      "image/png": "[encoded data removed]",
      "text/plain": [
       "<Figure size 432x288 with 1 Axes>"
      ]
     },
     "metadata": {},
     "output_type": "display_data"
    }
   ],
   "source": [
    "#Plot probability of each song to be replay depending on song_length \n",
    "songs_with_prob.plot.scatter(x='song_length_min',y='target')"
   ]
  },
  {
   "cell_type": "markdown",
   "metadata": {},
   "source": [
    "There is no correlation between the song length and the replay probability."
   ]
  },
  {
   "cell_type": "code",
   "execution_count": 36,
   "metadata": {},
   "outputs": [
    {
     "data": {
      "text/plain": [
       "Text(0,0.5,'replay probability')"
      ]
     },
     "execution_count": 36,
     "metadata": {},
     "output_type": "execute_result"
    },
    {
     "data": {
      "image/png": "[encoded data removed]",
      "text/plain": [
       "<Figure size 432x288 with 1 Axes>"
      ]
     },
     "metadata": {},
     "output_type": "display_data"
    }
   ],
   "source": [
    "#Plot probability of each song to be replay depending on number of genres it belongs to \n",
    "songs_with_prob.plot.scatter(x='genre_count',y='target')\n",
    "plt.ylabel('replay probability')"
   ]
  },
  {
   "cell_type": "markdown",
   "metadata": {},
   "source": [
    "There is no clear correlation between the number of genre a song belongs to and the replay probability."
   ]
  },
  {
   "cell_type": "code",
   "execution_count": 37,
   "metadata": {},
   "outputs": [
    {
     "data": {
      "text/plain": [
       "Text(0.5,1,'Replay probability by genre count')"
      ]
     },
     "execution_count": 37,
     "metadata": {},
     "output_type": "execute_result"
    },
    {
     "data": {
      "image/png": "[encoded data removed]",
      "text/plain": [
       "<Figure size 432x288 with 1 Axes>"
      ]
     },
     "metadata": {},
     "output_type": "display_data"
    }
   ],
   "source": [
    "prob_by_genre_count=songs_with_prob.groupby('genre_count')['target'].mean().sort_values(ascending=False)\n",
    "prob_by_genre_count.plot(kind='bar')\n",
    "plt.ylabel('Replay probability')\n",
    "plt.title('Replay probability by genre count')"
   ]
  },
  {
   "cell_type": "code",
   "execution_count": 38,
   "metadata": {},
   "outputs": [
    {
     "data": {
      "text/plain": [
       "Text(0.5,1,'Replay probability by language')"
      ]
     },
     "execution_count": 38,
     "metadata": {},
     "output_type": "execute_result"
    },
    {
     "data": {
      "image/png": "[encoded data removed]",
      "text/plain": [
       "<Figure size 432x288 with 1 Axes>"
      ]
     },
     "metadata": {},
     "output_type": "display_data"
    }
   ],
   "source": [
    "prob_by_language=songs_with_prob.groupby('language')['target'].mean().sort_values(ascending=False)\n",
    "prob_by_language.plot(kind='bar')\n",
    "plt.ylabel('Replay probability')\n",
    "plt.title('Replay probability by language')"
   ]
  },
  {
   "cell_type": "code",
   "execution_count": 39,
   "metadata": {},
   "outputs": [
    {
     "data": {
      "image/png": "[encoded data removed]",
      "text/plain": [
       "<Figure size 432x288 with 1 Axes>"
      ]
     },
     "metadata": {},
     "output_type": "display_data"
    }
   ],
   "source": [
    "#Plot number of songs by language\n",
    "songs_by_language=songs.groupby('language').song_id.count().sort_values(ascending=False)\n",
    "songs_by_language.plot(kind='bar')\n",
    "plt.title('Songs by language')\n",
    "plt.ylabel('songs')\n",
    "plt.show()"
   ]
  },
  {
   "cell_type": "markdown",
   "metadata": {},
   "source": [
    "Language with high probability of replay seem to have less songs available. Let's investigate if there is any correlation."
   ]
  },
  {
   "cell_type": "code",
   "execution_count": 40,
   "metadata": {},
   "outputs": [
    {
     "name": "stdout",
     "output_type": "stream",
     "text": [
      "          no_of_songs  replay_prob\n",
      "language                          \n",
      " 52           1336694     0.382069\n",
      "-1             639468     0.385618\n",
      " 3             106295     0.401937\n",
      " 17             92518     0.378870\n",
      " 24             41744     0.390727\n",
      " 31             39201     0.395513\n",
      " 10             15482     0.396162\n",
      " 45             14435     0.453201\n",
      " 59              8098     0.526921\n",
      " 38              2385     0.425641\n"
     ]
    }
   ],
   "source": [
    "#Merge no. of songs and probability by language\n",
    "language_factor=pd.merge(songs_by_language.to_frame(),prob_by_language.to_frame(),on='language')\n",
    "language_factor.columns=['no_of_songs','replay_prob']\n",
    "print(language_factor)"
   ]
  },
  {
   "cell_type": "code",
   "execution_count": 41,
   "metadata": {},
   "outputs": [
    {
     "data": {
      "text/plain": [
       "Text(0.5,0,'# of songs by language')"
      ]
     },
     "execution_count": 41,
     "metadata": {},
     "output_type": "execute_result"
    },
    {
     "data": {
      "image/png": "[encoded data removed]",
      "text/plain": [
       "<Figure size 432x288 with 1 Axes>"
      ]
     },
     "metadata": {},
     "output_type": "display_data"
    }
   ],
   "source": [
    "#Scatter plot: #songs vs. probability of being replayed for each of the languages\n",
    "plt.plot(language_factor.no_of_songs,language_factor.replay_prob, marker='.',linestyle='none')\n",
    "plt.ylabel('probability of replay')\n",
    "plt.xlabel('# of songs by language')"
   ]
  },
  {
   "cell_type": "markdown",
   "metadata": {},
   "source": [
    "It seems that languages with few songs available have a high replay probability, but there is not a clear trend or correlation."
   ]
  },
  {
   "cell_type": "code",
   "execution_count": 42,
   "metadata": {},
   "outputs": [
    {
     "name": "stdout",
     "output_type": "stream",
     "text": [
      "                                           msno  city  bd gender  \\\n",
      "0  XQxgAYj3klVKjR3oxPPXYYFp4soD4TuBghkhMTD4oTw=     1 NaN    NaN   \n",
      "1  UizsfmJb9mV54qE9hCYyU07Va97c0lCRLEQX3ae+ztM=     1 NaN    NaN   \n",
      "2  D8nEhsIOBSoE6VthTaqDX8U6lqjJ7dLdr72mOyLya2A=     1 NaN    NaN   \n",
      "3  mCuD+tZ1hERA/o5GPqk38e041J8ZsBaLcu7nGoIIvhI=     1 NaN    NaN   \n",
      "4  q4HRBfVSssAFS9iRfxWrohxuk9kCYMKjHOEagUMV6rQ=     1 NaN    NaN   \n",
      "\n",
      "   registered_via registration_init_time expiration_date  \n",
      "0               7             2011-08-20      2017-09-20  \n",
      "1               7             2015-06-28      2017-06-22  \n",
      "2               4             2016-04-11      2017-07-12  \n",
      "3               9             2015-09-06      2015-09-07  \n",
      "4               4             2017-01-26      2017-06-13  \n",
      "(34402, 7)\n",
      "<class 'pandas.core.frame.DataFrame'>\n",
      "RangeIndex: 34402 entries, 0 to 34401\n",
      "Data columns (total 7 columns):\n",
      "msno                      34402 non-null object\n",
      "city                      34402 non-null int64\n",
      "bd                        14439 non-null float64\n",
      "gender                    14501 non-null object\n",
      "registered_via            34402 non-null int64\n",
      "registration_init_time    34402 non-null object\n",
      "expiration_date           34402 non-null object\n",
      "dtypes: float64(1), int64(2), object(4)\n",
      "memory usage: 1.8+ MB\n",
      "None\n"
     ]
    }
   ],
   "source": [
    "members=pd.read_csv('data/members_clean.csv')\n",
    "print(members.head())\n",
    "print(members.shape)\n",
    "print(members.info())"
   ]
  },
  {
   "cell_type": "code",
   "execution_count": 43,
   "metadata": {},
   "outputs": [
    {
     "name": "stdout",
     "output_type": "stream",
     "text": [
      "<class 'pandas.core.frame.DataFrame'>\n",
      "RangeIndex: 34402 entries, 0 to 34401\n",
      "Data columns (total 7 columns):\n",
      "msno                      34402 non-null object\n",
      "city                      34402 non-null int64\n",
      "bd                        14439 non-null float64\n",
      "gender                    14501 non-null object\n",
      "registered_via            34402 non-null int64\n",
      "registration_init_time    34402 non-null datetime64[ns]\n",
      "expiration_date           34402 non-null datetime64[ns]\n",
      "dtypes: datetime64[ns](2), float64(1), int64(2), object(2)\n",
      "memory usage: 1.8+ MB\n",
      "None\n"
     ]
    }
   ],
   "source": [
    "for item in ['registration_init_time','expiration_date']:\n",
    "    members[item]=pd.to_datetime(members[item],format='%Y-%m-%d')\n",
    "print(members.info())"
   ]
  },
  {
   "cell_type": "code",
   "execution_count": 44,
   "metadata": {},
   "outputs": [
    {
     "name": "stdout",
     "output_type": "stream",
     "text": [
      "                                           msno  \\\n",
      "0  FGtllVqz18RPiwJj/edr2gV78zirAiY/9SmYvia+kCg=   \n",
      "1  FGtllVqz18RPiwJj/edr2gV78zirAiY/9SmYvia+kCg=   \n",
      "2  FGtllVqz18RPiwJj/edr2gV78zirAiY/9SmYvia+kCg=   \n",
      "3  FGtllVqz18RPiwJj/edr2gV78zirAiY/9SmYvia+kCg=   \n",
      "4  FGtllVqz18RPiwJj/edr2gV78zirAiY/9SmYvia+kCg=   \n",
      "\n",
      "                                        song_id source_system_tab  \\\n",
      "0  BBzumQNXUHKdEBOB7mAJuzok+IJA1c2Ryg/yzTF6tik=           explore   \n",
      "1  3qm6XTZ6MOCU11x8FIVbAGH5l5uMkT3/ZalWG1oo2Gc=           explore   \n",
      "2  3Hg5kugV1S0wzEVLAEfqjIV5UHzb7bCrdBRQlGygLvU=           explore   \n",
      "3  bPIvRTzfHxH5LgHrStll+tYwSQNVV8PySgA3M1PfTgc=           explore   \n",
      "4  XUz4Z4wPPChz+OIwkwj7HJ8teIjW3rEMdEATM80rDxM=           explore   \n",
      "\n",
      "  source_screen_name      source_type  target  city  bd gender  \\\n",
      "0            explore  online-playlist       1     1 NaN    NaN   \n",
      "1            explore  online-playlist       1     1 NaN    NaN   \n",
      "2            explore  online-playlist       1     1 NaN    NaN   \n",
      "3            explore  online-playlist       1     1 NaN    NaN   \n",
      "4            explore  online-playlist       1     1 NaN    NaN   \n",
      "\n",
      "   registered_via registration_init_time expiration_date  \n",
      "0               7             2012-01-02      2017-10-05  \n",
      "1               7             2012-01-02      2017-10-05  \n",
      "2               7             2012-01-02      2017-10-05  \n",
      "3               7             2012-01-02      2017-10-05  \n",
      "4               7             2012-01-02      2017-10-05  \n"
     ]
    }
   ],
   "source": [
    "train_3=pd.merge(train,members,on='msno')\n",
    "print(train_3.head())"
   ]
  },
  {
   "cell_type": "markdown",
   "metadata": {},
   "source": [
    "Notes:\n",
    "- Most likely customer gender won't be a factor to decide whether a song is played again or not since this property has many NaN\n",
    "- Registration_init_time and expiration_date need to be transform to datetime format"
   ]
  },
  {
   "cell_type": "code",
   "execution_count": 45,
   "metadata": {
    "scrolled": true
   },
   "outputs": [
    {
     "data": {
      "text/plain": [
       "<matplotlib.axes._subplots.AxesSubplot at 0x1133d1780>"
      ]
     },
     "execution_count": 45,
     "metadata": {},
     "output_type": "execute_result"
    },
    {
     "data": {
      "image/png": "[encoded data removed]",
      "text/plain": [
       "<Figure size 432x288 with 1 Axes>"
      ]
     },
     "metadata": {},
     "output_type": "display_data"
    }
   ],
   "source": [
    "prob_by_user_registration_at=train_3.groupby(train_3['registration_init_time'].dt.to_period('M'))['target'].mean()\n",
    "prob_by_user_registration_at.plot(marker='.',linestyle='none')"
   ]
  },
  {
   "cell_type": "markdown",
   "metadata": {},
   "source": [
    "It does not seem to be a relationship between the registration_at \n",
    "and the probability for a user to replay songs "
   ]
  },
  {
   "cell_type": "markdown",
   "metadata": {},
   "source": [
    "## Conclusions\n",
    "\n",
    "In this document we have tried to indentify factors that affect the probability of a song to be replayed. \n",
    "\n",
    "You could expect that highly engaged users are more likely to replay a song, but we have not found evidence that proves so. \n",
    "\n",
    "Also, it could be expected that users who have been using the service more will have higher changes to replay songs. We did not find any correlation between the registration date of the users and their probability to replay songs.\n",
    "\n",
    "We have analysed some characteristics of the songs such as language, number of different genre that belongs to or duration.\n",
    "\n",
    "We have not found any correlation between duration and replay probability nor no. of genres and replay probability. We did not observe any interesting patterns regarding song language.\n",
    "\n",
    "Although we did not find any patterns in the previous factors, the screen/tab where the song is accessed from seems to play a role in the probability of a song to be replayed. Songs listened from 'My library' tab, which happens to be the most popular one, and source types 'local-library' and 'local-playlist' seems to have the highest chances to be replayed. On the other hand, songs listened from radio tab have the lowest chances to be replayed\n",
    "\n",
    "It makes sense that users visit frequently playlists and songs that they are saving in their library. The company definetely should focus on teaching users how to build their playlist or save the songs in the library. \n",
    "\n",
    "It is also logical that songs listened from the radio tab are not listen that frequent since it is not the user who chooses what song is going to be played. "
   ]
  }
 ],
 "metadata": {
  "kernelspec": {
   "display_name": "Python 3",
   "language": "python",
   "name": "python3"
  },
  "language_info": {
   "codemirror_mode": {
    "name": "ipython",
    "version": 3
   },
   "file_extension": ".py",
   "mimetype": "text/x-python",
   "name": "python",
   "nbconvert_exporter": "python",
   "pygments_lexer": "ipython3",
   "version": "3.6.5"
  }
 },
 "nbformat": 4,
 "nbformat_minor": 2
}
