{
 "cells": [
  {
   "cell_type": "code",
   "execution_count": 1,
   "metadata": {
    "collapsed": true
   },
   "outputs": [],
   "source": [
    "import pandas as pd\n",
    "import matplotlib.pyplot as plt\n",
    "import seaborn as sns\n",
    "import numpy as np\n",
    "from datetime import datetime\n",
    "from ast import literal_eval\n",
    "\n",
    "# Import necessary modules\n",
    "from sklearn.neighbors import KNeighborsClassifier\n",
    "from sklearn.model_selection import train_test_split, GridSearchCV, cross_val_score\n",
    "from sklearn.linear_model import LogisticRegression\n",
    "from sklearn.metrics import accuracy_score, roc_curve, roc_auc_score \n",
    "from sklearn.preprocessing import StandardScaler, MultiLabelBinarizer\n",
    "from sklearn.pipeline import Pipeline, make_pipeline\n",
    "from sklearn.svm import LinearSVC\n",
    "from sklearn.tree import DecisionTreeClassifier\n",
    "from sklearn.ensemble import RandomForestRegressor\n",
    "from sklearn.decomposition import PCA"
   ]
  },
  {
   "cell_type": "code",
   "execution_count": 2,
   "metadata": {
    "collapsed": false
   },
   "outputs": [
    {
     "name": "stdout",
     "output_type": "stream",
     "text": [
      "                                           msno  \\\n",
      "0  FGtllVqz18RPiwJj/edr2gV78zirAiY/9SmYvia+kCg=   \n",
      "1  Xumu+NIjS6QYVxDS4/t3SawvJ7viT9hPKXmf0RtLNx8=   \n",
      "2  Xumu+NIjS6QYVxDS4/t3SawvJ7viT9hPKXmf0RtLNx8=   \n",
      "3  Xumu+NIjS6QYVxDS4/t3SawvJ7viT9hPKXmf0RtLNx8=   \n",
      "4  FGtllVqz18RPiwJj/edr2gV78zirAiY/9SmYvia+kCg=   \n",
      "\n",
      "                                        song_id source_system_tab  \\\n",
      "0  BBzumQNXUHKdEBOB7mAJuzok+IJA1c2Ryg/yzTF6tik=           explore   \n",
      "1  bhp/MpSNoqoxOIB+/l8WPqu6jldth4DIpCm3ayXnJqM=        my library   \n",
      "2  JNWfrrC7zNN7BdMpsISKa4Mw+xVJYNnxXh3/Epw7QgY=        my library   \n",
      "3  2A87tzfnJTSWqD7gIZHisolhe4DMdzkbd6LzO1KHjNs=        my library   \n",
      "4  3qm6XTZ6MOCU11x8FIVbAGH5l5uMkT3/ZalWG1oo2Gc=           explore   \n",
      "\n",
      "    source_screen_name      source_type  target  \n",
      "0              explore  online-playlist       1  \n",
      "1  local playlist more   local-playlist       1  \n",
      "2  local playlist more   local-playlist       1  \n",
      "3  local playlist more   local-playlist       1  \n",
      "4              explore  online-playlist       1  \n"
     ]
    }
   ],
   "source": [
    "#Load train document\n",
    "train=pd.read_csv('data/train_clean.csv', na_values='Unknown')\n",
    "print(train.head())"
   ]
  },
  {
   "cell_type": "code",
   "execution_count": 3,
   "metadata": {
    "collapsed": false
   },
   "outputs": [
    {
     "data": {
      "text/plain": [
       "msno                       0\n",
       "song_id                    0\n",
       "source_system_tab          0\n",
       "source_screen_name    444107\n",
       "source_type                0\n",
       "target                     0\n",
       "dtype: int64"
      ]
     },
     "execution_count": 3,
     "metadata": {},
     "output_type": "execute_result"
    }
   ],
   "source": [
    "#Check amount of NaN in train.csv by column\n",
    "train.isnull().sum()"
   ]
  },
  {
   "cell_type": "code",
   "execution_count": 4,
   "metadata": {
    "collapsed": false
   },
   "outputs": [
    {
     "data": {
      "text/plain": [
       "(7349234, 6)"
      ]
     },
     "execution_count": 4,
     "metadata": {},
     "output_type": "execute_result"
    }
   ],
   "source": [
    "train.shape"
   ]
  },
  {
   "cell_type": "code",
   "execution_count": 5,
   "metadata": {
    "collapsed": false
   },
   "outputs": [],
   "source": [
    "# Replace Nan by -1\n",
    "train=train.fillna(-1)\n",
    "\n",
    "# Convert variables to category\n",
    "for item in ['source_system_tab','source_screen_name','source_type']:\n",
    "    train[item]=train[item].astype('category')"
   ]
  },
  {
   "cell_type": "code",
   "execution_count": 6,
   "metadata": {
    "collapsed": false
   },
   "outputs": [
    {
     "data": {
      "text/html": [
       "<div>\n",
       "<table border=\"1\" class=\"dataframe\">\n",
       "  <thead>\n",
       "    <tr style=\"text-align: right;\">\n",
       "      <th></th>\n",
       "      <th>msno</th>\n",
       "      <th>song_id</th>\n",
       "      <th>source_system_tab</th>\n",
       "      <th>source_screen_name</th>\n",
       "      <th>source_type</th>\n",
       "      <th>target</th>\n",
       "      <th>song_count</th>\n",
       "    </tr>\n",
       "  </thead>\n",
       "  <tbody>\n",
       "    <tr>\n",
       "      <th>0</th>\n",
       "      <td>FGtllVqz18RPiwJj/edr2gV78zirAiY/9SmYvia+kCg=</td>\n",
       "      <td>BBzumQNXUHKdEBOB7mAJuzok+IJA1c2Ryg/yzTF6tik=</td>\n",
       "      <td>explore</td>\n",
       "      <td>explore</td>\n",
       "      <td>online-playlist</td>\n",
       "      <td>1</td>\n",
       "      <td>5511</td>\n",
       "    </tr>\n",
       "    <tr>\n",
       "      <th>4</th>\n",
       "      <td>FGtllVqz18RPiwJj/edr2gV78zirAiY/9SmYvia+kCg=</td>\n",
       "      <td>3qm6XTZ6MOCU11x8FIVbAGH5l5uMkT3/ZalWG1oo2Gc=</td>\n",
       "      <td>explore</td>\n",
       "      <td>explore</td>\n",
       "      <td>online-playlist</td>\n",
       "      <td>1</td>\n",
       "      <td>5511</td>\n",
       "    </tr>\n",
       "    <tr>\n",
       "      <th>5</th>\n",
       "      <td>FGtllVqz18RPiwJj/edr2gV78zirAiY/9SmYvia+kCg=</td>\n",
       "      <td>3Hg5kugV1S0wzEVLAEfqjIV5UHzb7bCrdBRQlGygLvU=</td>\n",
       "      <td>explore</td>\n",
       "      <td>explore</td>\n",
       "      <td>online-playlist</td>\n",
       "      <td>1</td>\n",
       "      <td>5511</td>\n",
       "    </tr>\n",
       "    <tr>\n",
       "      <th>7</th>\n",
       "      <td>FGtllVqz18RPiwJj/edr2gV78zirAiY/9SmYvia+kCg=</td>\n",
       "      <td>bPIvRTzfHxH5LgHrStll+tYwSQNVV8PySgA3M1PfTgc=</td>\n",
       "      <td>explore</td>\n",
       "      <td>explore</td>\n",
       "      <td>online-playlist</td>\n",
       "      <td>1</td>\n",
       "      <td>5511</td>\n",
       "    </tr>\n",
       "    <tr>\n",
       "      <th>6707</th>\n",
       "      <td>FGtllVqz18RPiwJj/edr2gV78zirAiY/9SmYvia+kCg=</td>\n",
       "      <td>XUz4Z4wPPChz+OIwkwj7HJ8teIjW3rEMdEATM80rDxM=</td>\n",
       "      <td>explore</td>\n",
       "      <td>explore</td>\n",
       "      <td>online-playlist</td>\n",
       "      <td>1</td>\n",
       "      <td>5511</td>\n",
       "    </tr>\n",
       "  </tbody>\n",
       "</table>\n",
       "</div>"
      ],
      "text/plain": [
       "                                              msno  \\\n",
       "0     FGtllVqz18RPiwJj/edr2gV78zirAiY/9SmYvia+kCg=   \n",
       "4     FGtllVqz18RPiwJj/edr2gV78zirAiY/9SmYvia+kCg=   \n",
       "5     FGtllVqz18RPiwJj/edr2gV78zirAiY/9SmYvia+kCg=   \n",
       "7     FGtllVqz18RPiwJj/edr2gV78zirAiY/9SmYvia+kCg=   \n",
       "6707  FGtllVqz18RPiwJj/edr2gV78zirAiY/9SmYvia+kCg=   \n",
       "\n",
       "                                           song_id source_system_tab  \\\n",
       "0     BBzumQNXUHKdEBOB7mAJuzok+IJA1c2Ryg/yzTF6tik=           explore   \n",
       "4     3qm6XTZ6MOCU11x8FIVbAGH5l5uMkT3/ZalWG1oo2Gc=           explore   \n",
       "5     3Hg5kugV1S0wzEVLAEfqjIV5UHzb7bCrdBRQlGygLvU=           explore   \n",
       "7     bPIvRTzfHxH5LgHrStll+tYwSQNVV8PySgA3M1PfTgc=           explore   \n",
       "6707  XUz4Z4wPPChz+OIwkwj7HJ8teIjW3rEMdEATM80rDxM=           explore   \n",
       "\n",
       "     source_screen_name      source_type  target  song_count  \n",
       "0               explore  online-playlist       1        5511  \n",
       "4               explore  online-playlist       1        5511  \n",
       "5               explore  online-playlist       1        5511  \n",
       "7               explore  online-playlist       1        5511  \n",
       "6707            explore  online-playlist       1        5511  "
      ]
     },
     "execution_count": 6,
     "metadata": {},
     "output_type": "execute_result"
    }
   ],
   "source": [
    "#Compute total unique songs listened by user\n",
    "users_total_songs=train.groupby('msno').msno.count().to_frame()\n",
    "users_total_songs.columns=['song_count']\n",
    "users_total_songs.head()\n",
    "\n",
    "# Join songs count to train data\n",
    "train=pd.merge(train,users_total_songs,left_on='msno',right_index=True)\n",
    "train.head()"
   ]
  },
  {
   "cell_type": "markdown",
   "metadata": {},
   "source": [
    "In an attempt to sub-sample the dataset to reduce the volumen, we will check if there are many users who have listened few songs so we can just keep the users with higher number of songs listened. This will increase the possibilities to find these users both in the train and test samples after splitting the data."
   ]
  },
  {
   "cell_type": "code",
   "execution_count": 7,
   "metadata": {
    "collapsed": false
   },
   "outputs": [
    {
     "name": "stdout",
     "output_type": "stream",
     "text": [
      "<class 'pandas.core.frame.DataFrame'>\n",
      "Int64Index: 18738 entries, 609 to 7349075\n",
      "Data columns (total 7 columns):\n",
      "msno                  18738 non-null object\n",
      "song_id               18738 non-null object\n",
      "source_system_tab     18738 non-null object\n",
      "source_screen_name    18738 non-null object\n",
      "source_type           18738 non-null object\n",
      "target                18738 non-null int64\n",
      "song_count            18738 non-null int64\n",
      "dtypes: int64(2), object(5)\n",
      "memory usage: 1.1+ MB\n"
     ]
    }
   ],
   "source": [
    "train_sample=train[train.song_count<=10]\n",
    "train_sample.info()"
   ]
  },
  {
   "cell_type": "code",
   "execution_count": 8,
   "metadata": {
    "collapsed": false
   },
   "outputs": [
    {
     "name": "stdout",
     "output_type": "stream",
     "text": [
      "<class 'pandas.core.frame.DataFrame'>\n",
      "Int64Index: 51569 entries, 293 to 7349075\n",
      "Data columns (total 7 columns):\n",
      "msno                  51569 non-null object\n",
      "song_id               51569 non-null object\n",
      "source_system_tab     51569 non-null object\n",
      "source_screen_name    51569 non-null object\n",
      "source_type           51569 non-null object\n",
      "target                51569 non-null int64\n",
      "song_count            51569 non-null int64\n",
      "dtypes: int64(2), object(5)\n",
      "memory usage: 3.1+ MB\n"
     ]
    }
   ],
   "source": [
    "train_sample=train[train.song_count<=20]\n",
    "train_sample.info()"
   ]
  },
  {
   "cell_type": "markdown",
   "metadata": {},
   "source": [
    "Users with low number of songs don't represent a big proportion of the data. Therefore we will segment users who have listen between 20 to 30 songs as a subsample."
   ]
  },
  {
   "cell_type": "code",
   "execution_count": 9,
   "metadata": {
    "collapsed": false
   },
   "outputs": [
    {
     "name": "stdout",
     "output_type": "stream",
     "text": [
      "<class 'pandas.core.frame.DataFrame'>\n",
      "Int64Index: 37717 entries, 689 to 7347549\n",
      "Data columns (total 7 columns):\n",
      "msno                  37717 non-null object\n",
      "song_id               37717 non-null object\n",
      "source_system_tab     37717 non-null object\n",
      "source_screen_name    37717 non-null object\n",
      "source_type           37717 non-null object\n",
      "target                37717 non-null int64\n",
      "song_count            37717 non-null int64\n",
      "dtypes: int64(2), object(5)\n",
      "memory usage: 2.3+ MB\n"
     ]
    }
   ],
   "source": [
    "train_sample=train[(train.song_count>=20) & (train.song_count<30)]\n",
    "train_sample.info()"
   ]
  },
  {
   "cell_type": "code",
   "execution_count": 10,
   "metadata": {
    "collapsed": false
   },
   "outputs": [
    {
     "data": {
      "text/plain": [
       "msno                  0\n",
       "song_id               0\n",
       "source_system_tab     0\n",
       "source_screen_name    0\n",
       "source_type           0\n",
       "target                0\n",
       "song_count            0\n",
       "dtype: int64"
      ]
     },
     "execution_count": 10,
     "metadata": {},
     "output_type": "execute_result"
    }
   ],
   "source": [
    "#Check amount of NaN in train.csv by column\n",
    "train_sample.isnull().sum()"
   ]
  },
  {
   "cell_type": "code",
   "execution_count": 11,
   "metadata": {
    "collapsed": false
   },
   "outputs": [],
   "source": [
    "# Generate dummy variables in members\n",
    "train_dummies=pd.get_dummies(train_sample[['source_system_tab','source_screen_name','source_type']],drop_first=True)\n",
    "\n",
    "# Concatenate dummy variables and target varibale\n",
    "df_train=pd.concat([train_sample[['target','msno','song_id']], train_dummies],axis=1)\n",
    "df_train.head()\n",
    "\n",
    "# Define df\n",
    "df=df_train\n",
    "\n",
    "# Define matrix values (X) and outcome variable (y)\n",
    "X=df.drop(['target','msno', 'song_id'],axis=1).values\n",
    "y=df.target.values\n",
    "\n",
    "# Split into training and test set\n",
    "X_train, X_test, y_train, y_test = train_test_split(X, y, test_size = 0.3, random_state=42, stratify=y)"
   ]
  },
  {
   "cell_type": "code",
   "execution_count": 12,
   "metadata": {
    "collapsed": true
   },
   "outputs": [],
   "source": [
    "def roc_curve_plot(model,X_test,y_test):\n",
    "\n",
    "    # Compute predicted probabilities: y_pred_prob\n",
    "    y_pred_prob = model.predict_proba(X_test)[:,1]\n",
    "\n",
    "    # Generate ROC curve values: fpr, tpr, thresholds\n",
    "    fpr, tpr, thresholds = roc_curve(y_test, y_pred_prob)\n",
    "\n",
    "    # Plot ROC curve\n",
    "    plt.plot([0, 1], [0, 1], 'k--')\n",
    "    plt.plot(fpr, tpr)\n",
    "    plt.xlabel('False Positive Rate')\n",
    "    plt.ylabel('True Positive Rate')\n",
    "    plt.title('ROC Curve')\n",
    "    plt.show()"
   ]
  },
  {
   "cell_type": "code",
   "execution_count": 13,
   "metadata": {
    "collapsed": false
   },
   "outputs": [
    {
     "name": "stdout",
     "output_type": "stream",
     "text": [
      "{'C': 0.1}\n",
      "Accuracy score:  0.664899257688\n",
      "ROC-AUC score:  0.527724853646\n"
     ]
    },
    {
     "data": {
      "image/png": "[encoded data removed]",
      "text/plain": [
       "<matplotlib.figure.Figure at 0x110ccb6a0>"
      ]
     },
     "metadata": {},
     "output_type": "display_data"
    }
   ],
   "source": [
    "# Setup the hyperparameter grid\n",
    "Cs = [0.001, 0.1, 1, 10, 100]\n",
    "param_grid = {'C': Cs}\n",
    "\n",
    "# Create a logistic regression classifier: clf\n",
    "clf=LogisticRegression()\n",
    "\n",
    "# Create the Grid search object\n",
    "logreg_cv=GridSearchCV(clf, param_grid, cv=5)\n",
    "\n",
    "# Fit the model\n",
    "logreg_cv.fit(X_train,y_train)\n",
    "\n",
    "# Print best parameters\n",
    "print(logreg_cv.best_params_)\n",
    "\n",
    "# Print the accuracy and roc auc scores of the testing data\n",
    "print('Accuracy score: ',accuracy_score(logreg_cv.predict(X_test),y_test))\n",
    "print('ROC-AUC score: ',roc_auc_score(y_test,logreg_cv.predict(X_test)))\n",
    "\n",
    "# Print roc curve\n",
    "roc_curve_plot(logreg_cv,X_test,y_test)"
   ]
  },
  {
   "cell_type": "code",
   "execution_count": 14,
   "metadata": {
    "collapsed": false,
    "scrolled": false
   },
   "outputs": [
    {
     "name": "stderr",
     "output_type": "stream",
     "text": [
      "/Users/anavillalba/anaconda/lib/python3.6/site-packages/sklearn/utils/validation.py:429: DataConversionWarning: Data with input dtype uint8 was converted to float64 by StandardScaler.\n",
      "  warnings.warn(msg, _DataConversionWarning)\n",
      "/Users/anavillalba/anaconda/lib/python3.6/site-packages/sklearn/utils/validation.py:429: DataConversionWarning: Data with input dtype uint8 was converted to float64 by StandardScaler.\n",
      "  warnings.warn(msg, _DataConversionWarning)\n",
      "/Users/anavillalba/anaconda/lib/python3.6/site-packages/sklearn/utils/validation.py:429: DataConversionWarning: Data with input dtype uint8 was converted to float64 by StandardScaler.\n",
      "  warnings.warn(msg, _DataConversionWarning)\n",
      "/Users/anavillalba/anaconda/lib/python3.6/site-packages/sklearn/utils/validation.py:429: DataConversionWarning: Data with input dtype uint8 was converted to float64 by StandardScaler.\n",
      "  warnings.warn(msg, _DataConversionWarning)\n",
      "/Users/anavillalba/anaconda/lib/python3.6/site-packages/sklearn/utils/validation.py:429: DataConversionWarning: Data with input dtype uint8 was converted to float64 by StandardScaler.\n",
      "  warnings.warn(msg, _DataConversionWarning)\n",
      "/Users/anavillalba/anaconda/lib/python3.6/site-packages/sklearn/utils/validation.py:429: DataConversionWarning: Data with input dtype uint8 was converted to float64 by StandardScaler.\n",
      "  warnings.warn(msg, _DataConversionWarning)\n",
      "/Users/anavillalba/anaconda/lib/python3.6/site-packages/sklearn/utils/validation.py:429: DataConversionWarning: Data with input dtype uint8 was converted to float64 by StandardScaler.\n",
      "  warnings.warn(msg, _DataConversionWarning)\n",
      "/Users/anavillalba/anaconda/lib/python3.6/site-packages/sklearn/utils/validation.py:429: DataConversionWarning: Data with input dtype uint8 was converted to float64 by StandardScaler.\n",
      "  warnings.warn(msg, _DataConversionWarning)\n",
      "/Users/anavillalba/anaconda/lib/python3.6/site-packages/sklearn/utils/validation.py:429: DataConversionWarning: Data with input dtype uint8 was converted to float64 by StandardScaler.\n",
      "  warnings.warn(msg, _DataConversionWarning)\n",
      "/Users/anavillalba/anaconda/lib/python3.6/site-packages/sklearn/utils/validation.py:429: DataConversionWarning: Data with input dtype uint8 was converted to float64 by StandardScaler.\n",
      "  warnings.warn(msg, _DataConversionWarning)\n",
      "/Users/anavillalba/anaconda/lib/python3.6/site-packages/sklearn/utils/validation.py:429: DataConversionWarning: Data with input dtype uint8 was converted to float64 by StandardScaler.\n",
      "  warnings.warn(msg, _DataConversionWarning)\n",
      "/Users/anavillalba/anaconda/lib/python3.6/site-packages/sklearn/utils/validation.py:429: DataConversionWarning: Data with input dtype uint8 was converted to float64 by StandardScaler.\n",
      "  warnings.warn(msg, _DataConversionWarning)\n",
      "/Users/anavillalba/anaconda/lib/python3.6/site-packages/sklearn/utils/validation.py:429: DataConversionWarning: Data with input dtype uint8 was converted to float64 by StandardScaler.\n",
      "  warnings.warn(msg, _DataConversionWarning)\n",
      "/Users/anavillalba/anaconda/lib/python3.6/site-packages/sklearn/utils/validation.py:429: DataConversionWarning: Data with input dtype uint8 was converted to float64 by StandardScaler.\n",
      "  warnings.warn(msg, _DataConversionWarning)\n",
      "/Users/anavillalba/anaconda/lib/python3.6/site-packages/sklearn/utils/validation.py:429: DataConversionWarning: Data with input dtype uint8 was converted to float64 by StandardScaler.\n",
      "  warnings.warn(msg, _DataConversionWarning)\n",
      "/Users/anavillalba/anaconda/lib/python3.6/site-packages/sklearn/utils/validation.py:429: DataConversionWarning: Data with input dtype uint8 was converted to float64 by StandardScaler.\n",
      "  warnings.warn(msg, _DataConversionWarning)\n",
      "/Users/anavillalba/anaconda/lib/python3.6/site-packages/sklearn/utils/validation.py:429: DataConversionWarning: Data with input dtype uint8 was converted to float64 by StandardScaler.\n",
      "  warnings.warn(msg, _DataConversionWarning)\n",
      "/Users/anavillalba/anaconda/lib/python3.6/site-packages/sklearn/utils/validation.py:429: DataConversionWarning: Data with input dtype uint8 was converted to float64 by StandardScaler.\n",
      "  warnings.warn(msg, _DataConversionWarning)\n",
      "/Users/anavillalba/anaconda/lib/python3.6/site-packages/sklearn/utils/validation.py:429: DataConversionWarning: Data with input dtype uint8 was converted to float64 by StandardScaler.\n",
      "  warnings.warn(msg, _DataConversionWarning)\n",
      "/Users/anavillalba/anaconda/lib/python3.6/site-packages/sklearn/utils/validation.py:429: DataConversionWarning: Data with input dtype uint8 was converted to float64 by StandardScaler.\n",
      "  warnings.warn(msg, _DataConversionWarning)\n",
      "/Users/anavillalba/anaconda/lib/python3.6/site-packages/sklearn/utils/validation.py:429: DataConversionWarning: Data with input dtype uint8 was converted to float64 by StandardScaler.\n",
      "  warnings.warn(msg, _DataConversionWarning)\n",
      "/Users/anavillalba/anaconda/lib/python3.6/site-packages/sklearn/utils/validation.py:429: DataConversionWarning: Data with input dtype uint8 was converted to float64 by StandardScaler.\n",
      "  warnings.warn(msg, _DataConversionWarning)\n",
      "/Users/anavillalba/anaconda/lib/python3.6/site-packages/sklearn/utils/validation.py:429: DataConversionWarning: Data with input dtype uint8 was converted to float64 by StandardScaler.\n",
      "  warnings.warn(msg, _DataConversionWarning)\n",
      "/Users/anavillalba/anaconda/lib/python3.6/site-packages/sklearn/utils/validation.py:429: DataConversionWarning: Data with input dtype uint8 was converted to float64 by StandardScaler.\n",
      "  warnings.warn(msg, _DataConversionWarning)\n",
      "/Users/anavillalba/anaconda/lib/python3.6/site-packages/sklearn/utils/validation.py:429: DataConversionWarning: Data with input dtype uint8 was converted to float64 by StandardScaler.\n",
      "  warnings.warn(msg, _DataConversionWarning)\n",
      "/Users/anavillalba/anaconda/lib/python3.6/site-packages/sklearn/utils/validation.py:429: DataConversionWarning: Data with input dtype uint8 was converted to float64 by StandardScaler.\n",
      "  warnings.warn(msg, _DataConversionWarning)\n"
     ]
    },
    {
     "name": "stdout",
     "output_type": "stream",
     "text": [
      "{'svm__C': 0.001}\n",
      "Accuracy score: 0.6644574054436196\n",
      "ROC-AUC score:  0.52758739251\n"
     ]
    }
   ],
   "source": [
    "# Setup the pipeline steps: steps\n",
    "steps = [('scaler', StandardScaler()),\n",
    "        ('svm', LinearSVC())]\n",
    "\n",
    "# Setup the hyperparameter grid\n",
    "param_grid = {'svm__C': [0.001, 0.1, 1, 10, 100]}\n",
    "\n",
    "# Create the pipeline: pipeline\n",
    "pipeline= Pipeline(steps)\n",
    "\n",
    "# Create the Grid search object\n",
    "svm_cv=GridSearchCV(pipeline, param_grid, cv=5)\n",
    "\n",
    "# Fit the pipeline to the training set: svm_scaled\n",
    "svm_cv.fit(X_train,y_train)\n",
    "\n",
    "# Print best parameters\n",
    "print(svm_cv.best_params_)\n",
    "\n",
    "# Print the accuracy and roc auc scores of the testing data\n",
    "print('Accuracy score: {}'.format(svm_cv.score(X_test,y_test)))\n",
    "print('ROC-AUC score: ',roc_auc_score(y_test,svm_cv.predict(X_test)))"
   ]
  },
  {
   "cell_type": "code",
   "execution_count": 15,
   "metadata": {
    "collapsed": false
   },
   "outputs": [
    {
     "name": "stdout",
     "output_type": "stream",
     "text": [
      "{'max_depth': 18}\n",
      "Accuracy score: 0.6673736302580418\n",
      "ROC-AUC score:  0.535182207781\n"
     ]
    },
    {
     "data": {
      "image/png": "[encoded data removed]",
      "text/plain": [
       "<matplotlib.figure.Figure at 0x114e3ecc0>"
      ]
     },
     "metadata": {},
     "output_type": "display_data"
    }
   ],
   "source": [
    "# Instantiate model\n",
    "tree = DecisionTreeClassifier(random_state=42)\n",
    "\n",
    "# Setup the hyperparameter grid\n",
    "param_grid = {'max_depth': np.arange(3, 50)}\n",
    "\n",
    "# Create the Grid search object\n",
    "tree_cv=GridSearchCV(tree, param_grid, cv=5)\n",
    "\n",
    "# Train the model on training data\n",
    "tree_cv.fit(X_train,y_train)\n",
    "\n",
    "# Print best parameters\n",
    "print(tree_cv.best_params_)\n",
    "\n",
    "# Print the accuracy and roc auc scores of the testing data\n",
    "print('Accuracy score: {}'.format(accuracy_score(y_test,tree_cv.predict(X_test))))\n",
    "print('ROC-AUC score: ',roc_auc_score(y_test,tree_cv.predict(X_test)))\n",
    "\n",
    "# Print roc curve\n",
    "roc_curve_plot(tree_cv,X_test,y_test)"
   ]
  },
  {
   "cell_type": "code",
   "execution_count": 16,
   "metadata": {
    "collapsed": false
   },
   "outputs": [
    {
     "name": "stdout",
     "output_type": "stream",
     "text": [
      "{'n_estimators': 1000}\n",
      "ROC-AUC score:  0.654496617742\n"
     ]
    }
   ],
   "source": [
    "# Instantiate model\n",
    "rf = RandomForestRegressor(max_features='sqrt', random_state = 42)\n",
    "\n",
    "# Train the model on training data\n",
    "#rf.fit(X_train, y_train)\n",
    "\n",
    "# Setup the hyperparameter grid\n",
    "param_grid = {'n_estimators': [10,100,1000]}\n",
    "\n",
    "# Create the Grid search object\n",
    "rf_cv=GridSearchCV(rf, param_grid, cv=5)\n",
    "\n",
    "# Train the model on training data\n",
    "rf_cv.fit(X_train, y_train)\n",
    "\n",
    "# Print best parameters\n",
    "print(rf_cv.best_params_)\n",
    "\n",
    "\n",
    "# Print the accuracy and roc auc scores of the testing data\n",
    "#print('Accuracy score: {}'.format(accuracy_score(y_test,rf_cv.predict(X_test))))\n",
    "print('ROC-AUC score: ',roc_auc_score(y_test,rf_cv.predict(X_test)))"
   ]
  },
  {
   "cell_type": "code",
   "execution_count": 17,
   "metadata": {
    "collapsed": true
   },
   "outputs": [],
   "source": [
    "# Compute scores using cross validation\n",
    "#cv_scores = cross_val_score(rf, X_train, y_train, cv=5)\n",
    "#cv_auc = cross_val_score(rf,X_train, y_train, cv=5, scoring='roc_auc')\n",
    "\n",
    "# Print the accuracy of the testing data\n",
    "#print('Accuracy score: {}'.format(cv_scores.mean()))\n",
    "#print('ROC-AUC score: {}'.format(cv_auc.mean()))"
   ]
  },
  {
   "cell_type": "markdown",
   "metadata": {},
   "source": [
    "### Including members features\n",
    "\n",
    "- We are evaluating still the subsample with users who have listened between 20 and 30 different songs.\n",
    "- We will now include more features to try to improve performance."
   ]
  },
  {
   "cell_type": "code",
   "execution_count": 18,
   "metadata": {
    "collapsed": false
   },
   "outputs": [
    {
     "name": "stdout",
     "output_type": "stream",
     "text": [
      "                                           msno  city  bd gender  \\\n",
      "0  XQxgAYj3klVKjR3oxPPXYYFp4soD4TuBghkhMTD4oTw=     1 NaN    NaN   \n",
      "1  UizsfmJb9mV54qE9hCYyU07Va97c0lCRLEQX3ae+ztM=     1 NaN    NaN   \n",
      "2  D8nEhsIOBSoE6VthTaqDX8U6lqjJ7dLdr72mOyLya2A=     1 NaN    NaN   \n",
      "3  mCuD+tZ1hERA/o5GPqk38e041J8ZsBaLcu7nGoIIvhI=     1 NaN    NaN   \n",
      "4  q4HRBfVSssAFS9iRfxWrohxuk9kCYMKjHOEagUMV6rQ=     1 NaN    NaN   \n",
      "\n",
      "   registered_via registration_init_time expiration_date  \n",
      "0               7             2011-08-20      2017-09-20  \n",
      "1               7             2015-06-28      2017-06-22  \n",
      "2               4             2016-04-11      2017-07-12  \n",
      "3               9             2015-09-06      2015-09-07  \n",
      "4               4             2017-01-26      2017-06-13  \n"
     ]
    }
   ],
   "source": [
    "#Load members document\n",
    "members=pd.read_csv('data/members_clean.csv', na_values='Unknown')\n",
    "print(members.head())\n",
    "\n",
    "# Fill gender Nan values with -1\n",
    "members.gender=members.gender.fillna(-1)\n",
    "\n",
    "# Fill missing age values with most frequent value\n",
    "members.bd=members.bd.fillna(members.bd.value_counts().index[0])\n",
    "\n",
    "# Transform to categorical variables\n",
    "for item in ['city','gender','registered_via']:\n",
    "    members[item]=members[item].astype('category')\n",
    "    \n",
    "for item in ['registration_init_time','expiration_date']:\n",
    "    members[item]=pd.to_datetime(members[item],format='%Y-%m-%d')\n",
    "    \n",
    "# Compute new column days from registration to expiration\n",
    "members['days_from_reg_to_exp']=members.apply(lambda row: (row.expiration_date - row.registration_init_time).days, axis=1)"
   ]
  },
  {
   "cell_type": "code",
   "execution_count": 19,
   "metadata": {
    "collapsed": false
   },
   "outputs": [
    {
     "name": "stdout",
     "output_type": "stream",
     "text": [
      "<class 'pandas.core.frame.DataFrame'>\n",
      "RangeIndex: 34402 entries, 0 to 34401\n",
      "Data columns (total 8 columns):\n",
      "msno                      34402 non-null object\n",
      "city                      34402 non-null category\n",
      "bd                        34402 non-null float64\n",
      "gender                    34402 non-null category\n",
      "registered_via            34402 non-null category\n",
      "registration_init_time    34402 non-null datetime64[ns]\n",
      "expiration_date           34402 non-null datetime64[ns]\n",
      "days_from_reg_to_exp      34402 non-null int64\n",
      "dtypes: category(3), datetime64[ns](2), float64(1), int64(1), object(1)\n",
      "memory usage: 1.4+ MB\n"
     ]
    }
   ],
   "source": [
    "#Check amount of NaN in members_clean.csv by column\n",
    "members.info()\n",
    "\n",
    "# Generate dummy variables in members\n",
    "members_dummies=pd.get_dummies(members[['city','bd','gender','registered_via','days_from_reg_to_exp']],drop_first=True)\n",
    "\n",
    "# Join msno column and dummy variables in members\n",
    "df_members=pd.concat([members.msno, members_dummies],axis=1)\n",
    "\n",
    "# Join df_members with train data\n",
    "df=df_train.merge(df_members, on='msno', how='left')\n",
    "\n",
    "# Define matrix values (X) and outcome variable (y)\n",
    "X=df.drop(['target','msno', 'song_id'],axis=1).values\n",
    "y=df.target.values\n",
    "\n",
    "# Split into training and test set\n",
    "X_train, X_test, y_train, y_test = train_test_split(X, y, test_size = 0.3, random_state=42, stratify=y)"
   ]
  },
  {
   "cell_type": "code",
   "execution_count": 20,
   "metadata": {
    "collapsed": false
   },
   "outputs": [
    {
     "name": "stdout",
     "output_type": "stream",
     "text": [
      "<class 'pandas.core.frame.DataFrame'>\n",
      "Int64Index: 37717 entries, 0 to 37716\n",
      "Data columns (total 68 columns):\n",
      "target                                     37717 non-null int64\n",
      "msno                                       37717 non-null object\n",
      "song_id                                    37717 non-null object\n",
      "source_system_tab_explore                  37717 non-null uint8\n",
      "source_system_tab_listen with              37717 non-null uint8\n",
      "source_system_tab_my library               37717 non-null uint8\n",
      "source_system_tab_notification             37717 non-null uint8\n",
      "source_system_tab_radio                    37717 non-null uint8\n",
      "source_system_tab_search                   37717 non-null uint8\n",
      "source_system_tab_settings                 37717 non-null uint8\n",
      "source_screen_name_album more              37717 non-null uint8\n",
      "source_screen_name_artist more             37717 non-null uint8\n",
      "source_screen_name_concert                 37717 non-null uint8\n",
      "source_screen_name_discover chart          37717 non-null uint8\n",
      "source_screen_name_discover feature        37717 non-null uint8\n",
      "source_screen_name_discover genre          37717 non-null uint8\n",
      "source_screen_name_discover new            37717 non-null uint8\n",
      "source_screen_name_explore                 37717 non-null uint8\n",
      "source_screen_name_local playlist more     37717 non-null uint8\n",
      "source_screen_name_my library              37717 non-null uint8\n",
      "source_screen_name_my library_search       37717 non-null uint8\n",
      "source_screen_name_online playlist more    37717 non-null uint8\n",
      "source_screen_name_others profile more     37717 non-null uint8\n",
      "source_screen_name_radio                   37717 non-null uint8\n",
      "source_screen_name_search                  37717 non-null uint8\n",
      "source_screen_name_search home             37717 non-null uint8\n",
      "source_screen_name_search trends           37717 non-null uint8\n",
      "source_screen_name_self profile more       37717 non-null uint8\n",
      "source_type_artist                         37717 non-null uint8\n",
      "source_type_listen-with                    37717 non-null uint8\n",
      "source_type_local-library                  37717 non-null uint8\n",
      "source_type_local-playlist                 37717 non-null uint8\n",
      "source_type_my-daily-playlist              37717 non-null uint8\n",
      "source_type_online-playlist                37717 non-null uint8\n",
      "source_type_radio                          37717 non-null uint8\n",
      "source_type_song                           37717 non-null uint8\n",
      "source_type_song-based-playlist            37717 non-null uint8\n",
      "source_type_top-hits-for-artist            37717 non-null uint8\n",
      "source_type_topic-article-playlist         37717 non-null uint8\n",
      "bd                                         37717 non-null float64\n",
      "days_from_reg_to_exp                       37717 non-null int64\n",
      "city_3                                     37717 non-null uint8\n",
      "city_4                                     37717 non-null uint8\n",
      "city_5                                     37717 non-null uint8\n",
      "city_6                                     37717 non-null uint8\n",
      "city_7                                     37717 non-null uint8\n",
      "city_8                                     37717 non-null uint8\n",
      "city_9                                     37717 non-null uint8\n",
      "city_10                                    37717 non-null uint8\n",
      "city_11                                    37717 non-null uint8\n",
      "city_12                                    37717 non-null uint8\n",
      "city_13                                    37717 non-null uint8\n",
      "city_14                                    37717 non-null uint8\n",
      "city_15                                    37717 non-null uint8\n",
      "city_16                                    37717 non-null uint8\n",
      "city_17                                    37717 non-null uint8\n",
      "city_18                                    37717 non-null uint8\n",
      "city_19                                    37717 non-null uint8\n",
      "city_20                                    37717 non-null uint8\n",
      "city_21                                    37717 non-null uint8\n",
      "city_22                                    37717 non-null uint8\n",
      "gender_female                              37717 non-null uint8\n",
      "gender_male                                37717 non-null uint8\n",
      "registered_via_4                           37717 non-null uint8\n",
      "registered_via_7                           37717 non-null uint8\n",
      "registered_via_9                           37717 non-null uint8\n",
      "registered_via_13                          37717 non-null uint8\n",
      "registered_via_16                          37717 non-null uint8\n",
      "dtypes: float64(1), int64(2), object(2), uint8(63)\n",
      "memory usage: 4.0+ MB\n"
     ]
    }
   ],
   "source": [
    "df.info()"
   ]
  },
  {
   "cell_type": "code",
   "execution_count": 21,
   "metadata": {
    "collapsed": false
   },
   "outputs": [
    {
     "data": {
      "text/plain": [
       "(37717, 65)"
      ]
     },
     "execution_count": 21,
     "metadata": {},
     "output_type": "execute_result"
    }
   ],
   "source": [
    "X.shape"
   ]
  },
  {
   "cell_type": "code",
   "execution_count": 22,
   "metadata": {
    "collapsed": false
   },
   "outputs": [
    {
     "name": "stdout",
     "output_type": "stream",
     "text": [
      "{'C': 1}\n",
      "Accuracy score:  0.667373630258\n",
      "ROC-AUC score:  0.527375703762\n"
     ]
    },
    {
     "data": {
      "image/png": "[encoded data removed]",
      "text/plain": [
       "<matplotlib.figure.Figure at 0x116902710>"
      ]
     },
     "metadata": {},
     "output_type": "display_data"
    }
   ],
   "source": [
    "# Setup the hyperparameter grid\n",
    "Cs = [0.001, 0.1, 1, 10, 100]\n",
    "param_grid = {'C': Cs}\n",
    "\n",
    "# Create a logistic regression classifier: clf\n",
    "clf=LogisticRegression()\n",
    "\n",
    "# Create the Grid search object\n",
    "logreg_cv=GridSearchCV(clf, param_grid, cv=5)\n",
    "\n",
    "# Fit the model\n",
    "logreg_cv.fit(X_train,y_train)\n",
    "\n",
    "# Print best parameters\n",
    "print(logreg_cv.best_params_)\n",
    "\n",
    "# Print the accuracy and roc auc scores of the testing data\n",
    "print('Accuracy score: ',accuracy_score(logreg_cv.predict(X_test),y_test))\n",
    "print('ROC-AUC score: ',roc_auc_score(y_test,logreg_cv.predict(X_test)))\n",
    "\n",
    "# Print roc curve\n",
    "roc_curve_plot(logreg_cv,X_test,y_test)"
   ]
  },
  {
   "cell_type": "code",
   "execution_count": 23,
   "metadata": {
    "collapsed": false
   },
   "outputs": [
    {
     "name": "stdout",
     "output_type": "stream",
     "text": [
      "{'svm__C': 0.1}\n",
      "Accuracy score: 0.6643690349946978\n",
      "ROC-AUC score:  0.522902019551\n"
     ]
    }
   ],
   "source": [
    "# Setup the pipeline steps: steps\n",
    "steps = [('scaler', StandardScaler()),\n",
    "        ('svm', LinearSVC())]\n",
    "\n",
    "# Setup the hyperparameter grid\n",
    "param_grid = {'svm__C': [0.001, 0.1, 1, 10, 100]}\n",
    "\n",
    "# Create the pipeline: pipeline\n",
    "pipeline= Pipeline(steps)\n",
    "\n",
    "# Create the Grid search object\n",
    "svm_cv=GridSearchCV(pipeline, param_grid, cv=5)\n",
    "\n",
    "# Fit the pipeline to the training set: svm_scaled\n",
    "svm_cv.fit(X_train,y_train)\n",
    "\n",
    "# Print best parameters\n",
    "print(svm_cv.best_params_)\n",
    "\n",
    "# Print the accuracy and roc auc scores of the testing data\n",
    "print('Accuracy score: {}'.format(svm_cv.score(X_test,y_test)))\n",
    "print('ROC-AUC score: ',roc_auc_score(y_test,svm_cv.predict(X_test)))"
   ]
  },
  {
   "cell_type": "code",
   "execution_count": 24,
   "metadata": {
    "collapsed": false
   },
   "outputs": [
    {
     "name": "stdout",
     "output_type": "stream",
     "text": [
      "{'max_depth': 31}\n",
      "Accuracy score: 0.7528278543655001\n",
      "ROC-AUC score:  0.681610038934\n"
     ]
    },
    {
     "data": {
      "image/png": "[encoded data removed]",
      "text/plain": [
       "<matplotlib.figure.Figure at 0x11622d0b8>"
      ]
     },
     "metadata": {},
     "output_type": "display_data"
    }
   ],
   "source": [
    "# Instantiate model\n",
    "tree = DecisionTreeClassifier(random_state=42)\n",
    "\n",
    "# Setup the hyperparameter grid\n",
    "param_grid = {'max_depth': np.arange(3, 50)}\n",
    "\n",
    "# Create the Grid search object\n",
    "tree_cv=GridSearchCV(tree, param_grid, cv=5)\n",
    "\n",
    "# Train the model on training data\n",
    "tree_cv.fit(X_train,y_train)\n",
    "\n",
    "# Print best parameters\n",
    "print(tree_cv.best_params_)\n",
    "\n",
    "# Print the accuracy and roc auc scores of the testing data\n",
    "print('Accuracy score: {}'.format(accuracy_score(y_test,tree_cv.predict(X_test))))\n",
    "print('ROC-AUC score: ',roc_auc_score(y_test,tree_cv.predict(X_test)))\n",
    "\n",
    "# Print roc curve\n",
    "roc_curve_plot(tree_cv,X_test,y_test)"
   ]
  },
  {
   "cell_type": "code",
   "execution_count": 25,
   "metadata": {
    "collapsed": false
   },
   "outputs": [
    {
     "name": "stdout",
     "output_type": "stream",
     "text": [
      "{'n_estimators': 100}\n",
      "ROC-AUC score:  0.796493463068\n"
     ]
    }
   ],
   "source": [
    "# Instantiate model\n",
    "rf = RandomForestRegressor(max_features='sqrt', random_state = 42)\n",
    "\n",
    "# Setup the hyperparameter grid\n",
    "param_grid = {'n_estimators': [10,100,1000]}\n",
    "\n",
    "# Create the Grid search object\n",
    "rf_cv=GridSearchCV(rf, param_grid, cv=5)\n",
    "\n",
    "# Train the model on training data\n",
    "rf_cv.fit(X_train, y_train)\n",
    "\n",
    "# Print best parameters\n",
    "print(rf_cv.best_params_)\n",
    "\n",
    "# Print the accuracy and roc auc scores of the testing data\n",
    "#print('Accuracy score: {}'.format(accuracy_score(y_test,rf_cv.predict(X_test))))\n",
    "print('ROC-AUC score: ',roc_auc_score(y_test,rf_cv.predict(X_test)))"
   ]
  },
  {
   "cell_type": "markdown",
   "metadata": {},
   "source": [
    "In the initial analysis only taking into account only train features, we did not see much difference in performace between the different methods. \n",
    "\n",
    "In this second analysis where we are also including members features, we are observing an gradual improvement going from logistic regression (roc-auc: 0.6674) to tree classifier (roc-auc: 0.6816) to random forest (roc-auc: 0.7965). "
   ]
  },
  {
   "cell_type": "markdown",
   "metadata": {},
   "source": [
    "### Including songs features\n",
    "\n",
    "- We are evaluating still the subsample with users who have listened between 20 and 30 different songs.\n",
    "- We will now include song features to try to improve performance.\n",
    "- We will just do transformation on the songs that are within the subsample to reduce analysis complexity."
   ]
  },
  {
   "cell_type": "code",
   "execution_count": 26,
   "metadata": {
    "collapsed": false
   },
   "outputs": [
    {
     "name": "stdout",
     "output_type": "stream",
     "text": [
      "                                        song_id  song_length_min genre_ids  \\\n",
      "0  CXoTN1eb7AI+DntdU1vbcwGRV4SCIDxZu+YD8JP8r4E=         4.127333   ['465']   \n",
      "1  o0kFgae9QtnYgRkVPqLJwa05zIhRlUjfF7O1tDw0ZDU=         3.288800   ['444']   \n",
      "2  DwVvVurfpuz+XPuFvucclVQEyPqcpUkHR0ne1RQzPs0=         3.863017   ['465']   \n",
      "3  dKMBWoZyScdxSkihKG+Vf47nc18N9q4m58+b4e7dSSE=         4.559233   ['465']   \n",
      "4  W3bqWd3T+VeHFzHAUfARgW9AvVRaF4N5Yzm4Mr6Eo/o=         2.338817   ['726']   \n",
      "\n",
      "        artist_name                                  composer  \\\n",
      "0  張信哲 (Jeff Chang)                                    ['董貞']   \n",
      "1         Blackpink  ['Teddy', 'Future Bounce', 'Bekuh Boom']   \n",
      "2      Super Junior                                       NaN   \n",
      "3             S.H.E                                   ['湯小康']   \n",
      "4              貴族精選                           ['Traditional']   \n",
      "\n",
      "          lyricist  language  genre_count  \n",
      "0          ['何啟弘']         3          1.0  \n",
      "1        ['Teddy']        31          1.0  \n",
      "2              NaN        31          1.0  \n",
      "3          ['徐世珍']         3          1.0  \n",
      "4  ['Traditional']        52          1.0  \n",
      "<class 'pandas.core.frame.DataFrame'>\n",
      "Int64Index: 37717 entries, 0 to 37716\n",
      "Data columns (total 8 columns):\n",
      "song_id            37717 non-null object\n",
      "song_length_min    37717 non-null float64\n",
      "genre_ids          36966 non-null object\n",
      "artist_name        37717 non-null object\n",
      "composer           30923 non-null object\n",
      "lyricist           24016 non-null object\n",
      "language           37717 non-null int64\n",
      "genre_count        36966 non-null float64\n",
      "dtypes: float64(2), int64(1), object(5)\n",
      "memory usage: 2.6+ MB\n"
     ]
    }
   ],
   "source": [
    "#Load train document\n",
    "songs=pd.read_csv('data/songs_clean.csv', na_values='Unknown')\n",
    "print(songs.head())\n",
    "\n",
    "# We will just do transfo\n",
    "song_sample=songs.merge(train_sample[['song_id']], on='song_id')\n",
    "\n",
    "# Display info about the song_sample\n",
    "song_sample.head()\n",
    "song_sample.info()"
   ]
  },
  {
   "cell_type": "code",
   "execution_count": 27,
   "metadata": {
    "collapsed": false
   },
   "outputs": [],
   "source": [
    "# Replace Nan by list with -1\n",
    "for item in ['genre_ids','composer','lyricist']:\n",
    "    song_sample[item]=song_sample[item].apply(lambda x: literal_eval(x) if np.all(pd.notnull(x)) else ['-1'])\n",
    "    \n",
    "# Fill artist_name Nan values with -1\n",
    "song_sample.artist_name=song_sample.artist_name.fillna(-1)\n",
    "\n",
    "# Convert language into categorical variable\n",
    "song_sample['language']=song_sample['language'].astype('category')\n",
    "\n",
    "# Set up MultiLabelBinarizer\n",
    "mlb = MultiLabelBinarizer()\n",
    "\n",
    "# Get dummies for genre_ids and composer columns (separate items in list)\n",
    "genre_ids_dummies=pd.DataFrame(mlb.fit_transform(song_sample.genre_ids),columns=mlb.classes_, index=song_sample.index)\n",
    "composer_dummies=pd.DataFrame(mlb.fit_transform(song_sample.composer),columns=mlb.classes_, index=song_sample.index)\n",
    "#lyricist_dummies=pd.DataFrame(mlb.fit_transform(song_sample.lyricist),columns=mlb.classes_, index=song_sample.index)\n",
    "\n",
    "# Drop first column from genre_ids, composer and lyricist dummy variables\n",
    "for item in [genre_ids_dummies,composer_dummies]:\n",
    "    item = item.drop(item.columns[0],axis=1)\n",
    "\n",
    "# Generate dummy variables in songs\n",
    "songs_dummies=pd.get_dummies(song_sample[['song_length_min','language']],drop_first=True)\n",
    "\n",
    "#df_songs=pd.concat([songs[['song_id']],songs_dummies, genre_ids_dummies, composer_dummies],axis=1)\n",
    "df_songs=pd.concat([song_sample[['song_id']],songs_dummies, genre_ids_dummies],axis=1)"
   ]
  },
  {
   "cell_type": "code",
   "execution_count": 28,
   "metadata": {
    "collapsed": false
   },
   "outputs": [
    {
     "name": "stdout",
     "output_type": "stream",
     "text": [
      "<class 'pandas.core.frame.DataFrame'>\n",
      "Int64Index: 37717 entries, 0 to 37716\n",
      "Data columns (total 98 columns):\n",
      "song_id            37717 non-null object\n",
      "song_length_min    37717 non-null float64\n",
      "language_3         37717 non-null uint8\n",
      "language_10        37717 non-null uint8\n",
      "language_17        37717 non-null uint8\n",
      "language_24        37717 non-null uint8\n",
      "language_31        37717 non-null uint8\n",
      "language_38        37717 non-null uint8\n",
      "language_45        37717 non-null uint8\n",
      "language_52        37717 non-null uint8\n",
      "language_59        37717 non-null uint8\n",
      "-1                 37717 non-null int64\n",
      "1011               37717 non-null int64\n",
      "1019               37717 non-null int64\n",
      "1026               37717 non-null int64\n",
      "1040               37717 non-null int64\n",
      "1082               37717 non-null int64\n",
      "109                37717 non-null int64\n",
      "1096               37717 non-null int64\n",
      "1138               37717 non-null int64\n",
      "1152               37717 non-null int64\n",
      "1155               37717 non-null int64\n",
      "118                37717 non-null int64\n",
      "1180               37717 non-null int64\n",
      "1208               37717 non-null int64\n",
      "125                37717 non-null int64\n",
      "1259               37717 non-null int64\n",
      "1287               37717 non-null int64\n",
      "139                37717 non-null int64\n",
      "1568               37717 non-null int64\n",
      "1572               37717 non-null int64\n",
      "1605               37717 non-null int64\n",
      "1609               37717 non-null int64\n",
      "1616               37717 non-null int64\n",
      "1633               37717 non-null int64\n",
      "1955               37717 non-null int64\n",
      "1995               37717 non-null int64\n",
      "2022               37717 non-null int64\n",
      "2029               37717 non-null int64\n",
      "2032               37717 non-null int64\n",
      "2058               37717 non-null int64\n",
      "2072               37717 non-null int64\n",
      "2079               37717 non-null int64\n",
      "2086               37717 non-null int64\n",
      "2093               37717 non-null int64\n",
      "2107               37717 non-null int64\n",
      "2122               37717 non-null int64\n",
      "2130               37717 non-null int64\n",
      "2144               37717 non-null int64\n",
      "2157               37717 non-null int64\n",
      "2189               37717 non-null int64\n",
      "2213               37717 non-null int64\n",
      "2215               37717 non-null int64\n",
      "242                37717 non-null int64\n",
      "275                37717 non-null int64\n",
      "352                37717 non-null int64\n",
      "359                37717 non-null int64\n",
      "367                37717 non-null int64\n",
      "374                37717 non-null int64\n",
      "381                37717 non-null int64\n",
      "388                37717 non-null int64\n",
      "409                37717 non-null int64\n",
      "423                37717 non-null int64\n",
      "430                37717 non-null int64\n",
      "437                37717 non-null int64\n",
      "444                37717 non-null int64\n",
      "451                37717 non-null int64\n",
      "458                37717 non-null int64\n",
      "465                37717 non-null int64\n",
      "474                37717 non-null int64\n",
      "481                37717 non-null int64\n",
      "488                37717 non-null int64\n",
      "509                37717 non-null int64\n",
      "516                37717 non-null int64\n",
      "531                37717 non-null int64\n",
      "545                37717 non-null int64\n",
      "691                37717 non-null int64\n",
      "698                37717 non-null int64\n",
      "726                37717 non-null int64\n",
      "744                37717 non-null int64\n",
      "786                37717 non-null int64\n",
      "798                37717 non-null int64\n",
      "829                37717 non-null int64\n",
      "843                37717 non-null int64\n",
      "850                37717 non-null int64\n",
      "857                37717 non-null int64\n",
      "864                37717 non-null int64\n",
      "873                37717 non-null int64\n",
      "880                37717 non-null int64\n",
      "893                37717 non-null int64\n",
      "900                37717 non-null int64\n",
      "921                37717 non-null int64\n",
      "94                 37717 non-null int64\n",
      "940                37717 non-null int64\n",
      "947                37717 non-null int64\n",
      "958                37717 non-null int64\n",
      "965                37717 non-null int64\n",
      "972                37717 non-null int64\n",
      "dtypes: float64(1), int64(87), object(1), uint8(9)\n",
      "memory usage: 26.2+ MB\n"
     ]
    }
   ],
   "source": [
    "df_songs.info()"
   ]
  },
  {
   "cell_type": "code",
   "execution_count": 29,
   "metadata": {
    "collapsed": false
   },
   "outputs": [
    {
     "data": {
      "text/html": [
       "<div>\n",
       "<table border=\"1\" class=\"dataframe\">\n",
       "  <thead>\n",
       "    <tr style=\"text-align: right;\">\n",
       "      <th></th>\n",
       "      <th>target</th>\n",
       "      <th>msno</th>\n",
       "      <th>song_id</th>\n",
       "      <th>source_system_tab_explore</th>\n",
       "      <th>source_system_tab_listen with</th>\n",
       "      <th>source_system_tab_my library</th>\n",
       "      <th>source_system_tab_notification</th>\n",
       "      <th>source_system_tab_radio</th>\n",
       "      <th>source_system_tab_search</th>\n",
       "      <th>source_system_tab_settings</th>\n",
       "      <th>...</th>\n",
       "      <th>880</th>\n",
       "      <th>893</th>\n",
       "      <th>900</th>\n",
       "      <th>921</th>\n",
       "      <th>94</th>\n",
       "      <th>940</th>\n",
       "      <th>947</th>\n",
       "      <th>958</th>\n",
       "      <th>965</th>\n",
       "      <th>972</th>\n",
       "    </tr>\n",
       "  </thead>\n",
       "  <tbody>\n",
       "    <tr>\n",
       "      <th>0</th>\n",
       "      <td>1</td>\n",
       "      <td>FTLG/3qKMWA3grsNYM70g2NI4Psyy6gZNCpBXxVX4l8=</td>\n",
       "      <td>KcQ4assZxaXsdizqxGjUSAY7CNc6+6hQzpVsjnWsShQ=</td>\n",
       "      <td>0</td>\n",
       "      <td>0</td>\n",
       "      <td>1</td>\n",
       "      <td>0</td>\n",
       "      <td>0</td>\n",
       "      <td>0</td>\n",
       "      <td>0</td>\n",
       "      <td>...</td>\n",
       "      <td>0</td>\n",
       "      <td>0</td>\n",
       "      <td>0</td>\n",
       "      <td>0</td>\n",
       "      <td>0</td>\n",
       "      <td>0</td>\n",
       "      <td>0</td>\n",
       "      <td>0</td>\n",
       "      <td>0</td>\n",
       "      <td>0</td>\n",
       "    </tr>\n",
       "    <tr>\n",
       "      <th>1</th>\n",
       "      <td>1</td>\n",
       "      <td>FTLG/3qKMWA3grsNYM70g2NI4Psyy6gZNCpBXxVX4l8=</td>\n",
       "      <td>KcQ4assZxaXsdizqxGjUSAY7CNc6+6hQzpVsjnWsShQ=</td>\n",
       "      <td>0</td>\n",
       "      <td>0</td>\n",
       "      <td>1</td>\n",
       "      <td>0</td>\n",
       "      <td>0</td>\n",
       "      <td>0</td>\n",
       "      <td>0</td>\n",
       "      <td>...</td>\n",
       "      <td>0</td>\n",
       "      <td>0</td>\n",
       "      <td>0</td>\n",
       "      <td>0</td>\n",
       "      <td>0</td>\n",
       "      <td>0</td>\n",
       "      <td>0</td>\n",
       "      <td>0</td>\n",
       "      <td>0</td>\n",
       "      <td>0</td>\n",
       "    </tr>\n",
       "    <tr>\n",
       "      <th>2</th>\n",
       "      <td>1</td>\n",
       "      <td>FTLG/3qKMWA3grsNYM70g2NI4Psyy6gZNCpBXxVX4l8=</td>\n",
       "      <td>KcQ4assZxaXsdizqxGjUSAY7CNc6+6hQzpVsjnWsShQ=</td>\n",
       "      <td>0</td>\n",
       "      <td>0</td>\n",
       "      <td>1</td>\n",
       "      <td>0</td>\n",
       "      <td>0</td>\n",
       "      <td>0</td>\n",
       "      <td>0</td>\n",
       "      <td>...</td>\n",
       "      <td>0</td>\n",
       "      <td>0</td>\n",
       "      <td>0</td>\n",
       "      <td>0</td>\n",
       "      <td>0</td>\n",
       "      <td>0</td>\n",
       "      <td>0</td>\n",
       "      <td>0</td>\n",
       "      <td>0</td>\n",
       "      <td>0</td>\n",
       "    </tr>\n",
       "    <tr>\n",
       "      <th>3</th>\n",
       "      <td>1</td>\n",
       "      <td>FTLG/3qKMWA3grsNYM70g2NI4Psyy6gZNCpBXxVX4l8=</td>\n",
       "      <td>KcQ4assZxaXsdizqxGjUSAY7CNc6+6hQzpVsjnWsShQ=</td>\n",
       "      <td>0</td>\n",
       "      <td>0</td>\n",
       "      <td>1</td>\n",
       "      <td>0</td>\n",
       "      <td>0</td>\n",
       "      <td>0</td>\n",
       "      <td>0</td>\n",
       "      <td>...</td>\n",
       "      <td>0</td>\n",
       "      <td>0</td>\n",
       "      <td>0</td>\n",
       "      <td>0</td>\n",
       "      <td>0</td>\n",
       "      <td>0</td>\n",
       "      <td>0</td>\n",
       "      <td>0</td>\n",
       "      <td>0</td>\n",
       "      <td>0</td>\n",
       "    </tr>\n",
       "    <tr>\n",
       "      <th>4</th>\n",
       "      <td>1</td>\n",
       "      <td>FTLG/3qKMWA3grsNYM70g2NI4Psyy6gZNCpBXxVX4l8=</td>\n",
       "      <td>KcQ4assZxaXsdizqxGjUSAY7CNc6+6hQzpVsjnWsShQ=</td>\n",
       "      <td>0</td>\n",
       "      <td>0</td>\n",
       "      <td>1</td>\n",
       "      <td>0</td>\n",
       "      <td>0</td>\n",
       "      <td>0</td>\n",
       "      <td>0</td>\n",
       "      <td>...</td>\n",
       "      <td>0</td>\n",
       "      <td>0</td>\n",
       "      <td>0</td>\n",
       "      <td>0</td>\n",
       "      <td>0</td>\n",
       "      <td>0</td>\n",
       "      <td>0</td>\n",
       "      <td>0</td>\n",
       "      <td>0</td>\n",
       "      <td>0</td>\n",
       "    </tr>\n",
       "  </tbody>\n",
       "</table>\n",
       "<p>5 rows × 165 columns</p>\n",
       "</div>"
      ],
      "text/plain": [
       "   target                                          msno  \\\n",
       "0       1  FTLG/3qKMWA3grsNYM70g2NI4Psyy6gZNCpBXxVX4l8=   \n",
       "1       1  FTLG/3qKMWA3grsNYM70g2NI4Psyy6gZNCpBXxVX4l8=   \n",
       "2       1  FTLG/3qKMWA3grsNYM70g2NI4Psyy6gZNCpBXxVX4l8=   \n",
       "3       1  FTLG/3qKMWA3grsNYM70g2NI4Psyy6gZNCpBXxVX4l8=   \n",
       "4       1  FTLG/3qKMWA3grsNYM70g2NI4Psyy6gZNCpBXxVX4l8=   \n",
       "\n",
       "                                        song_id  source_system_tab_explore  \\\n",
       "0  KcQ4assZxaXsdizqxGjUSAY7CNc6+6hQzpVsjnWsShQ=                          0   \n",
       "1  KcQ4assZxaXsdizqxGjUSAY7CNc6+6hQzpVsjnWsShQ=                          0   \n",
       "2  KcQ4assZxaXsdizqxGjUSAY7CNc6+6hQzpVsjnWsShQ=                          0   \n",
       "3  KcQ4assZxaXsdizqxGjUSAY7CNc6+6hQzpVsjnWsShQ=                          0   \n",
       "4  KcQ4assZxaXsdizqxGjUSAY7CNc6+6hQzpVsjnWsShQ=                          0   \n",
       "\n",
       "   source_system_tab_listen with  source_system_tab_my library  \\\n",
       "0                              0                             1   \n",
       "1                              0                             1   \n",
       "2                              0                             1   \n",
       "3                              0                             1   \n",
       "4                              0                             1   \n",
       "\n",
       "   source_system_tab_notification  source_system_tab_radio  \\\n",
       "0                               0                        0   \n",
       "1                               0                        0   \n",
       "2                               0                        0   \n",
       "3                               0                        0   \n",
       "4                               0                        0   \n",
       "\n",
       "   source_system_tab_search  source_system_tab_settings ...   880  893  900  \\\n",
       "0                         0                           0 ...     0    0    0   \n",
       "1                         0                           0 ...     0    0    0   \n",
       "2                         0                           0 ...     0    0    0   \n",
       "3                         0                           0 ...     0    0    0   \n",
       "4                         0                           0 ...     0    0    0   \n",
       "\n",
       "   921  94  940  947  958  965  972  \n",
       "0    0   0    0    0    0    0    0  \n",
       "1    0   0    0    0    0    0    0  \n",
       "2    0   0    0    0    0    0    0  \n",
       "3    0   0    0    0    0    0    0  \n",
       "4    0   0    0    0    0    0    0  \n",
       "\n",
       "[5 rows x 165 columns]"
      ]
     },
     "execution_count": 29,
     "metadata": {},
     "output_type": "execute_result"
    }
   ],
   "source": [
    "df=df.merge(df_songs, on='song_id', how='left')\n",
    "df.head()"
   ]
  },
  {
   "cell_type": "code",
   "execution_count": 30,
   "metadata": {
    "collapsed": false
   },
   "outputs": [
    {
     "name": "stdout",
     "output_type": "stream",
     "text": [
      "<class 'pandas.core.frame.DataFrame'>\n",
      "Int64Index: 37717 entries, 0 to 1375964\n",
      "Columns: 165 entries, target to 972\n",
      "dtypes: float64(2), int64(89), object(2), uint8(72)\n",
      "memory usage: 29.6+ MB\n"
     ]
    }
   ],
   "source": [
    "df.drop_duplicates(inplace=True)\n",
    "df.info()"
   ]
  },
  {
   "cell_type": "code",
   "execution_count": 40,
   "metadata": {
    "collapsed": true
   },
   "outputs": [],
   "source": [
    "# Define matrix values (X) and outcome variable (y)\n",
    "X=df.drop(['target','msno', 'song_id'],axis=1).values\n",
    "y=df.target.values\n",
    "\n",
    "# Split into training and test set\n",
    "X_train, X_test, y_train, y_test = train_test_split(X, y, test_size = 0.3, random_state=42, stratify=y)"
   ]
  },
  {
   "cell_type": "code",
   "execution_count": 41,
   "metadata": {
    "collapsed": false
   },
   "outputs": [
    {
     "data": {
      "text/plain": [
       "(37717, 162)"
      ]
     },
     "execution_count": 41,
     "metadata": {},
     "output_type": "execute_result"
    }
   ],
   "source": [
    "X.shape"
   ]
  },
  {
   "cell_type": "code",
   "execution_count": 42,
   "metadata": {
    "collapsed": false
   },
   "outputs": [
    {
     "name": "stdout",
     "output_type": "stream",
     "text": [
      "{'max_depth': 20}\n",
      "Accuracy score: 0.7127960410038883\n",
      "ROC-AUC score:  0.646985588639\n"
     ]
    },
    {
     "data": {
      "image/png": "[encoded data removed]",
      "text/plain": [
       "<matplotlib.figure.Figure at 0x154168128>"
      ]
     },
     "metadata": {},
     "output_type": "display_data"
    }
   ],
   "source": [
    "# Instantiate model\n",
    "tree = DecisionTreeClassifier(random_state=42)\n",
    "\n",
    "# Setup the hyperparameter grid\n",
    "param_grid = {'max_depth': [10,20,30,40,50]}\n",
    "\n",
    "# Create the Grid search object\n",
    "tree_cv=GridSearchCV(tree, param_grid, cv=3)\n",
    "\n",
    "# Train the model on training data\n",
    "tree_cv.fit(X_train,y_train)\n",
    "\n",
    "# Print best parameters\n",
    "print(tree_cv.best_params_)\n",
    "\n",
    "# Print the accuracy and roc auc scores of the testing data\n",
    "print('Accuracy score: {}'.format(accuracy_score(y_test,tree_cv.predict(X_test))))\n",
    "print('ROC-AUC score: ',roc_auc_score(y_test,tree_cv.predict(X_test)))\n",
    "\n",
    "# Print roc curve\n",
    "roc_curve_plot(tree_cv,X_test,y_test)"
   ]
  },
  {
   "cell_type": "code",
   "execution_count": 43,
   "metadata": {
    "collapsed": false
   },
   "outputs": [
    {
     "name": "stdout",
     "output_type": "stream",
     "text": [
      "ROC-AUC score:  0.75111798339\n"
     ]
    }
   ],
   "source": [
    "# Instantiate model\n",
    "rf = RandomForestRegressor(n_estimators=100, max_features='sqrt', random_state = 42, n_jobs=-1)\n",
    "\n",
    "# Train the model on training data\n",
    "rf.fit(X_train, y_train)\n",
    "\n",
    "# Print the accuracy and roc auc scores of the testing data\n",
    "#print('Accuracy score: {}'.format(accuracy_score(y_test,rf_cv.predict(X_test))))\n",
    "print('ROC-AUC score: ',roc_auc_score(y_test,rf.predict(X_test)))"
   ]
  },
  {
   "cell_type": "code",
   "execution_count": 44,
   "metadata": {
    "collapsed": false
   },
   "outputs": [
    {
     "name": "stdout",
     "output_type": "stream",
     "text": [
      "{'n_estimators': 1000}\n",
      "ROC-AUC score:  0.752881852049\n"
     ]
    }
   ],
   "source": [
    "# Instantiate model\n",
    "rf = RandomForestRegressor(max_features='sqrt', random_state = 42, n_jobs=-1)\n",
    "\n",
    "# Setup the hyperparameter grid\n",
    "param_grid = {'n_estimators': [10,100,1000]}\n",
    "\n",
    "# Create the Grid search object\n",
    "rf_cv=GridSearchCV(rf, param_grid, cv=3)\n",
    "\n",
    "# Train the model on training data\n",
    "rf_cv.fit(X_train, y_train)\n",
    "\n",
    "# Print best parameters\n",
    "print(rf_cv.best_params_)\n",
    "\n",
    "# Print the accuracy and roc auc scores of the testing data\n",
    "#print('Accuracy score: {}'.format(accuracy_score(y_test,rf_cv.predict(X_test))))\n",
    "print('ROC-AUC score: ',roc_auc_score(y_test,rf_cv.predict(X_test)))"
   ]
  },
  {
   "cell_type": "markdown",
   "metadata": {},
   "source": [
    "Adding information about the songs did not improve the performance of the model. We will try by doing dimension reduction with PCA to improve performance."
   ]
  },
  {
   "cell_type": "code",
   "execution_count": 35,
   "metadata": {
    "collapsed": false
   },
   "outputs": [
    {
     "data": {
      "image/png": "[encoded data removed]",
      "text/plain": [
       "<matplotlib.figure.Figure at 0x11898f5f8>"
      ]
     },
     "metadata": {},
     "output_type": "display_data"
    }
   ],
   "source": [
    "# Create scaler: scaler\n",
    "scaler = StandardScaler()\n",
    "\n",
    "# Create a PCA instance: pca\n",
    "pca = PCA()\n",
    "\n",
    "# Create pipeline: pipeline\n",
    "pipeline = make_pipeline(scaler,pca)\n",
    "\n",
    "# Fit the pipeline to 'samples'\n",
    "pipeline.fit(X_train)\n",
    "\n",
    "# Plot the explained variances\n",
    "features = range(pca.n_components_)\n",
    "plt.bar(features, pca.explained_variance_)\n",
    "plt.xlabel('PCA feature')\n",
    "plt.ylabel('variance')\n",
    "plt.xticks(features,rotation=90)\n",
    "plt.show()"
   ]
  },
  {
   "cell_type": "code",
   "execution_count": 36,
   "metadata": {
    "collapsed": false
   },
   "outputs": [
    {
     "data": {
      "text/html": [
       "<div>\n",
       "<table border=\"1\" class=\"dataframe\">\n",
       "  <thead>\n",
       "    <tr style=\"text-align: right;\">\n",
       "      <th></th>\n",
       "      <th>Explained variance</th>\n",
       "      <th>Feature</th>\n",
       "    </tr>\n",
       "  </thead>\n",
       "  <tbody>\n",
       "    <tr>\n",
       "      <th>128</th>\n",
       "      <td>4.655437e-01</td>\n",
       "      <td>128</td>\n",
       "    </tr>\n",
       "    <tr>\n",
       "      <th>129</th>\n",
       "      <td>4.280057e-01</td>\n",
       "      <td>129</td>\n",
       "    </tr>\n",
       "    <tr>\n",
       "      <th>130</th>\n",
       "      <td>3.835678e-01</td>\n",
       "      <td>130</td>\n",
       "    </tr>\n",
       "    <tr>\n",
       "      <th>131</th>\n",
       "      <td>3.689567e-01</td>\n",
       "      <td>131</td>\n",
       "    </tr>\n",
       "    <tr>\n",
       "      <th>132</th>\n",
       "      <td>3.577107e-01</td>\n",
       "      <td>132</td>\n",
       "    </tr>\n",
       "    <tr>\n",
       "      <th>133</th>\n",
       "      <td>3.183790e-01</td>\n",
       "      <td>133</td>\n",
       "    </tr>\n",
       "    <tr>\n",
       "      <th>134</th>\n",
       "      <td>3.141680e-01</td>\n",
       "      <td>134</td>\n",
       "    </tr>\n",
       "    <tr>\n",
       "      <th>135</th>\n",
       "      <td>3.025012e-01</td>\n",
       "      <td>135</td>\n",
       "    </tr>\n",
       "    <tr>\n",
       "      <th>136</th>\n",
       "      <td>2.368788e-01</td>\n",
       "      <td>136</td>\n",
       "    </tr>\n",
       "    <tr>\n",
       "      <th>137</th>\n",
       "      <td>1.945918e-01</td>\n",
       "      <td>137</td>\n",
       "    </tr>\n",
       "    <tr>\n",
       "      <th>138</th>\n",
       "      <td>1.850670e-01</td>\n",
       "      <td>138</td>\n",
       "    </tr>\n",
       "    <tr>\n",
       "      <th>139</th>\n",
       "      <td>1.505762e-01</td>\n",
       "      <td>139</td>\n",
       "    </tr>\n",
       "    <tr>\n",
       "      <th>140</th>\n",
       "      <td>9.381780e-02</td>\n",
       "      <td>140</td>\n",
       "    </tr>\n",
       "    <tr>\n",
       "      <th>141</th>\n",
       "      <td>9.168439e-02</td>\n",
       "      <td>141</td>\n",
       "    </tr>\n",
       "    <tr>\n",
       "      <th>142</th>\n",
       "      <td>6.832515e-02</td>\n",
       "      <td>142</td>\n",
       "    </tr>\n",
       "    <tr>\n",
       "      <th>143</th>\n",
       "      <td>4.933257e-02</td>\n",
       "      <td>143</td>\n",
       "    </tr>\n",
       "    <tr>\n",
       "      <th>144</th>\n",
       "      <td>4.054508e-02</td>\n",
       "      <td>144</td>\n",
       "    </tr>\n",
       "    <tr>\n",
       "      <th>145</th>\n",
       "      <td>3.575573e-02</td>\n",
       "      <td>145</td>\n",
       "    </tr>\n",
       "    <tr>\n",
       "      <th>146</th>\n",
       "      <td>3.447188e-02</td>\n",
       "      <td>146</td>\n",
       "    </tr>\n",
       "    <tr>\n",
       "      <th>147</th>\n",
       "      <td>2.561849e-02</td>\n",
       "      <td>147</td>\n",
       "    </tr>\n",
       "    <tr>\n",
       "      <th>148</th>\n",
       "      <td>2.540327e-02</td>\n",
       "      <td>148</td>\n",
       "    </tr>\n",
       "    <tr>\n",
       "      <th>149</th>\n",
       "      <td>1.989865e-02</td>\n",
       "      <td>149</td>\n",
       "    </tr>\n",
       "    <tr>\n",
       "      <th>150</th>\n",
       "      <td>1.268357e-02</td>\n",
       "      <td>150</td>\n",
       "    </tr>\n",
       "    <tr>\n",
       "      <th>151</th>\n",
       "      <td>7.827937e-31</td>\n",
       "      <td>151</td>\n",
       "    </tr>\n",
       "    <tr>\n",
       "      <th>152</th>\n",
       "      <td>2.254827e-31</td>\n",
       "      <td>152</td>\n",
       "    </tr>\n",
       "    <tr>\n",
       "      <th>153</th>\n",
       "      <td>1.637391e-31</td>\n",
       "      <td>153</td>\n",
       "    </tr>\n",
       "    <tr>\n",
       "      <th>154</th>\n",
       "      <td>1.547584e-31</td>\n",
       "      <td>154</td>\n",
       "    </tr>\n",
       "    <tr>\n",
       "      <th>155</th>\n",
       "      <td>1.107317e-31</td>\n",
       "      <td>155</td>\n",
       "    </tr>\n",
       "    <tr>\n",
       "      <th>156</th>\n",
       "      <td>7.485225e-32</td>\n",
       "      <td>156</td>\n",
       "    </tr>\n",
       "    <tr>\n",
       "      <th>157</th>\n",
       "      <td>3.833066e-32</td>\n",
       "      <td>157</td>\n",
       "    </tr>\n",
       "    <tr>\n",
       "      <th>158</th>\n",
       "      <td>2.916102e-32</td>\n",
       "      <td>158</td>\n",
       "    </tr>\n",
       "    <tr>\n",
       "      <th>159</th>\n",
       "      <td>1.964570e-32</td>\n",
       "      <td>159</td>\n",
       "    </tr>\n",
       "    <tr>\n",
       "      <th>160</th>\n",
       "      <td>1.964570e-32</td>\n",
       "      <td>160</td>\n",
       "    </tr>\n",
       "    <tr>\n",
       "      <th>161</th>\n",
       "      <td>4.314387e-33</td>\n",
       "      <td>161</td>\n",
       "    </tr>\n",
       "  </tbody>\n",
       "</table>\n",
       "</div>"
      ],
      "text/plain": [
       "     Explained variance  Feature\n",
       "128        4.655437e-01      128\n",
       "129        4.280057e-01      129\n",
       "130        3.835678e-01      130\n",
       "131        3.689567e-01      131\n",
       "132        3.577107e-01      132\n",
       "133        3.183790e-01      133\n",
       "134        3.141680e-01      134\n",
       "135        3.025012e-01      135\n",
       "136        2.368788e-01      136\n",
       "137        1.945918e-01      137\n",
       "138        1.850670e-01      138\n",
       "139        1.505762e-01      139\n",
       "140        9.381780e-02      140\n",
       "141        9.168439e-02      141\n",
       "142        6.832515e-02      142\n",
       "143        4.933257e-02      143\n",
       "144        4.054508e-02      144\n",
       "145        3.575573e-02      145\n",
       "146        3.447188e-02      146\n",
       "147        2.561849e-02      147\n",
       "148        2.540327e-02      148\n",
       "149        1.989865e-02      149\n",
       "150        1.268357e-02      150\n",
       "151        7.827937e-31      151\n",
       "152        2.254827e-31      152\n",
       "153        1.637391e-31      153\n",
       "154        1.547584e-31      154\n",
       "155        1.107317e-31      155\n",
       "156        7.485225e-32      156\n",
       "157        3.833066e-32      157\n",
       "158        2.916102e-32      158\n",
       "159        1.964570e-32      159\n",
       "160        1.964570e-32      160\n",
       "161        4.314387e-33      161"
      ]
     },
     "execution_count": 36,
     "metadata": {},
     "output_type": "execute_result"
    }
   ],
   "source": [
    "# Build dataframe with explained variances\n",
    "variance = pd.DataFrame({'Feature' : features,\n",
    " 'Explained variance' : pca.explained_variance_})\n",
    "\n",
    "# Print features with less than 0.5 of explained variance\n",
    "variance[variance['Explained variance']<=0.5]"
   ]
  },
  {
   "cell_type": "markdown",
   "metadata": {},
   "source": [
    "Based on the previous PCA results, we should keep 128."
   ]
  },
  {
   "cell_type": "code",
   "execution_count": 38,
   "metadata": {
    "collapsed": false
   },
   "outputs": [
    {
     "ename": "ValueError",
     "evalue": "operands could not be broadcast together with shapes (11316,128) (162,) (11316,128) ",
     "output_type": "error",
     "traceback": [
      "\u001b[0;31m---------------------------------------------------------------------------\u001b[0m",
      "\u001b[0;31mValueError\u001b[0m                                Traceback (most recent call last)",
      "\u001b[0;32m<ipython-input-38-61c5ca3cfa59>\u001b[0m in \u001b[0;36m<module>\u001b[0;34m()\u001b[0m\n\u001b[1;32m     16\u001b[0m \u001b[0;31m# Print the accuracy and roc auc scores of the testing data\u001b[0m\u001b[0;34m\u001b[0m\u001b[0;34m\u001b[0m\u001b[0m\n\u001b[1;32m     17\u001b[0m \u001b[0;31m#print('Accuracy score: {}'.format(accuracy_score(y_test,rf_cv.predict(X_test))))\u001b[0m\u001b[0;34m\u001b[0m\u001b[0;34m\u001b[0m\u001b[0m\n\u001b[0;32m---> 18\u001b[0;31m \u001b[0mprint\u001b[0m\u001b[0;34m(\u001b[0m\u001b[0;34m'ROC-AUC score: '\u001b[0m\u001b[0;34m,\u001b[0m\u001b[0mroc_auc_score\u001b[0m\u001b[0;34m(\u001b[0m\u001b[0my_test\u001b[0m\u001b[0;34m,\u001b[0m\u001b[0mpipeline\u001b[0m\u001b[0;34m.\u001b[0m\u001b[0mpredict\u001b[0m\u001b[0;34m(\u001b[0m\u001b[0mX_test\u001b[0m\u001b[0;34m)\u001b[0m\u001b[0;34m)\u001b[0m\u001b[0;34m)\u001b[0m\u001b[0;34m\u001b[0m\u001b[0m\n\u001b[0m",
      "\u001b[0;32m/Users/anavillalba/anaconda/lib/python3.6/site-packages/sklearn/utils/metaestimators.py\u001b[0m in \u001b[0;36m<lambda>\u001b[0;34m(*args, **kwargs)\u001b[0m\n\u001b[1;32m     52\u001b[0m \u001b[0;34m\u001b[0m\u001b[0m\n\u001b[1;32m     53\u001b[0m         \u001b[0;31m# lambda, but not partial, allows help() to work with update_wrapper\u001b[0m\u001b[0;34m\u001b[0m\u001b[0;34m\u001b[0m\u001b[0m\n\u001b[0;32m---> 54\u001b[0;31m         \u001b[0mout\u001b[0m \u001b[0;34m=\u001b[0m \u001b[0;32mlambda\u001b[0m \u001b[0;34m*\u001b[0m\u001b[0margs\u001b[0m\u001b[0;34m,\u001b[0m \u001b[0;34m**\u001b[0m\u001b[0mkwargs\u001b[0m\u001b[0;34m:\u001b[0m \u001b[0mself\u001b[0m\u001b[0;34m.\u001b[0m\u001b[0mfn\u001b[0m\u001b[0;34m(\u001b[0m\u001b[0mobj\u001b[0m\u001b[0;34m,\u001b[0m \u001b[0;34m*\u001b[0m\u001b[0margs\u001b[0m\u001b[0;34m,\u001b[0m \u001b[0;34m**\u001b[0m\u001b[0mkwargs\u001b[0m\u001b[0;34m)\u001b[0m\u001b[0;34m\u001b[0m\u001b[0m\n\u001b[0m\u001b[1;32m     55\u001b[0m         \u001b[0;31m# update the docstring of the returned function\u001b[0m\u001b[0;34m\u001b[0m\u001b[0;34m\u001b[0m\u001b[0m\n\u001b[1;32m     56\u001b[0m         \u001b[0mupdate_wrapper\u001b[0m\u001b[0;34m(\u001b[0m\u001b[0mout\u001b[0m\u001b[0;34m,\u001b[0m \u001b[0mself\u001b[0m\u001b[0;34m.\u001b[0m\u001b[0mfn\u001b[0m\u001b[0;34m)\u001b[0m\u001b[0;34m\u001b[0m\u001b[0m\n",
      "\u001b[0;32m/Users/anavillalba/anaconda/lib/python3.6/site-packages/sklearn/pipeline.py\u001b[0m in \u001b[0;36mpredict\u001b[0;34m(self, X)\u001b[0m\n\u001b[1;32m    324\u001b[0m         \u001b[0;32mfor\u001b[0m \u001b[0mname\u001b[0m\u001b[0;34m,\u001b[0m \u001b[0mtransform\u001b[0m \u001b[0;32min\u001b[0m \u001b[0mself\u001b[0m\u001b[0;34m.\u001b[0m\u001b[0msteps\u001b[0m\u001b[0;34m[\u001b[0m\u001b[0;34m:\u001b[0m\u001b[0;34m-\u001b[0m\u001b[0;36m1\u001b[0m\u001b[0;34m]\u001b[0m\u001b[0;34m:\u001b[0m\u001b[0;34m\u001b[0m\u001b[0m\n\u001b[1;32m    325\u001b[0m             \u001b[0;32mif\u001b[0m \u001b[0mtransform\u001b[0m \u001b[0;32mis\u001b[0m \u001b[0;32mnot\u001b[0m \u001b[0;32mNone\u001b[0m\u001b[0;34m:\u001b[0m\u001b[0;34m\u001b[0m\u001b[0m\n\u001b[0;32m--> 326\u001b[0;31m                 \u001b[0mXt\u001b[0m \u001b[0;34m=\u001b[0m \u001b[0mtransform\u001b[0m\u001b[0;34m.\u001b[0m\u001b[0mtransform\u001b[0m\u001b[0;34m(\u001b[0m\u001b[0mXt\u001b[0m\u001b[0;34m)\u001b[0m\u001b[0;34m\u001b[0m\u001b[0m\n\u001b[0m\u001b[1;32m    327\u001b[0m         \u001b[0;32mreturn\u001b[0m \u001b[0mself\u001b[0m\u001b[0;34m.\u001b[0m\u001b[0msteps\u001b[0m\u001b[0;34m[\u001b[0m\u001b[0;34m-\u001b[0m\u001b[0;36m1\u001b[0m\u001b[0;34m]\u001b[0m\u001b[0;34m[\u001b[0m\u001b[0;34m-\u001b[0m\u001b[0;36m1\u001b[0m\u001b[0;34m]\u001b[0m\u001b[0;34m.\u001b[0m\u001b[0mpredict\u001b[0m\u001b[0;34m(\u001b[0m\u001b[0mXt\u001b[0m\u001b[0;34m)\u001b[0m\u001b[0;34m\u001b[0m\u001b[0m\n\u001b[1;32m    328\u001b[0m \u001b[0;34m\u001b[0m\u001b[0m\n",
      "\u001b[0;32m/Users/anavillalba/anaconda/lib/python3.6/site-packages/sklearn/preprocessing/data.py\u001b[0m in \u001b[0;36mtransform\u001b[0;34m(self, X, y, copy)\u001b[0m\n\u001b[1;32m    658\u001b[0m         \u001b[0;32melse\u001b[0m\u001b[0;34m:\u001b[0m\u001b[0;34m\u001b[0m\u001b[0m\n\u001b[1;32m    659\u001b[0m             \u001b[0;32mif\u001b[0m \u001b[0mself\u001b[0m\u001b[0;34m.\u001b[0m\u001b[0mwith_mean\u001b[0m\u001b[0;34m:\u001b[0m\u001b[0;34m\u001b[0m\u001b[0m\n\u001b[0;32m--> 660\u001b[0;31m                 \u001b[0mX\u001b[0m \u001b[0;34m-=\u001b[0m \u001b[0mself\u001b[0m\u001b[0;34m.\u001b[0m\u001b[0mmean_\u001b[0m\u001b[0;34m\u001b[0m\u001b[0m\n\u001b[0m\u001b[1;32m    661\u001b[0m             \u001b[0;32mif\u001b[0m \u001b[0mself\u001b[0m\u001b[0;34m.\u001b[0m\u001b[0mwith_std\u001b[0m\u001b[0;34m:\u001b[0m\u001b[0;34m\u001b[0m\u001b[0m\n\u001b[1;32m    662\u001b[0m                 \u001b[0mX\u001b[0m \u001b[0;34m/=\u001b[0m \u001b[0mself\u001b[0m\u001b[0;34m.\u001b[0m\u001b[0mscale_\u001b[0m\u001b[0;34m\u001b[0m\u001b[0m\n",
      "\u001b[0;31mValueError\u001b[0m: operands could not be broadcast together with shapes (11316,128) (162,) (11316,128) "
     ]
    }
   ],
   "source": [
    "# Instantiate model\n",
    "rf = RandomForestRegressor(n_estimators=100, max_features='sqrt', random_state = 42, n_jobs=-1)\n",
    "\n",
    "# Create a PCA instance: pca\n",
    "pca = PCA(n_components=128)\n",
    "\n",
    "# Create pipeline: pipeline\n",
    "pipeline = make_pipeline(scaler,pca,rf)\n",
    "\n",
    "# Train the model on training data\n",
    "pipeline.fit(X_train, y_train)\n",
    "\n",
    "#X_test=scaler.transform(X_test)\n",
    "#X_test=pca.transform(X_test)\n",
    "\n",
    "# Print the accuracy and roc auc scores of the testing data\n",
    "#print('Accuracy score: {}'.format(accuracy_score(y_test,rf_cv.predict(X_test))))\n",
    "print('ROC-AUC score: ',roc_auc_score(y_test,pipeline.predict(X_test)))"
   ]
  },
  {
   "cell_type": "code",
   "execution_count": null,
   "metadata": {
    "collapsed": false
   },
   "outputs": [],
   "source": [
    "# Define parameter spaces\n",
    "n_components=[40,60,80,100,120]\n",
    "n_estimators=[10,100,1000]\n",
    "\n",
    "# Instantiate model\n",
    "rf = RandomForestRegressor()\n",
    "\n",
    "# Create a PCA instance: pca\n",
    "pca = PCA()\n",
    "\n",
    "# Create pipeline: pipeline\n",
    "pipeline = make_pipeline(scaler,pca,rf)\n",
    "\n",
    "# Setup the hyperparameter grid\n",
    "params = {'pca__n_components': n_components, 'rf__n_estimators': n_estimators}\n",
    "\n",
    "# Create the Grid search object\n",
    "rf_pipeline_cv = GridSearchCV(pipeline, params, cv=3)\n",
    "\n",
    "# Train the model on training data\n",
    "rf_pipeline_cv.fit(X_train, y_train)\n",
    "\n",
    "# Print best parameters\n",
    "print(rf_pipeline_cv.best_params_)\n",
    "\n",
    "# Print the accuracy and roc auc scores of the testing data\n",
    "#print('Accuracy score: {}'.format(accuracy_score(y_test,rf_cv.predict(X_test))))\n",
    "print('ROC-AUC score: ',roc_auc_score(y_test,rf_pipeline_cv.predict(X_test)))"
   ]
  },
  {
   "cell_type": "code",
   "execution_count": null,
   "metadata": {
    "collapsed": true
   },
   "outputs": [],
   "source": []
  }
 ],
 "metadata": {
  "kernelspec": {
   "display_name": "Python 3",
   "language": "python",
   "name": "python3"
  },
  "language_info": {
   "codemirror_mode": {
    "name": "ipython",
    "version": 3
   },
   "file_extension": ".py",
   "mimetype": "text/x-python",
   "name": "python",
   "nbconvert_exporter": "python",
   "pygments_lexer": "ipython3",
   "version": "3.6.0"
  }
 },
 "nbformat": 4,
 "nbformat_minor": 2
}
