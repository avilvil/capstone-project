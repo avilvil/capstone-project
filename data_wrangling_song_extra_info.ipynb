{
 "cells": [
  {
   "cell_type": "markdown",
   "metadata": {},
   "source": [
    "# song_extra_info.csv\n",
    "- song_id\n",
    "- song name - the name of the song.\n",
    "- isrc - International Standard Recording Code, theoretically can be used as an identity of a song. However, what worth to note is, ISRCs generated from providers have not been officially verified; therefore the information in ISRC, such as country code and reference year, can be misleading/incorrect. Multiple songs could share one ISRC since a single recording could be re-published several times."
   ]
  },
  {
   "cell_type": "code",
   "execution_count": 1,
   "metadata": {},
   "outputs": [],
   "source": [
    "import pandas as pd\n",
    "import matplotlib.pyplot as plt\n",
    "import numpy as np\n",
    "import re"
   ]
  },
  {
   "cell_type": "code",
   "execution_count": 2,
   "metadata": {},
   "outputs": [
    {
     "name": "stdout",
     "output_type": "stream",
     "text": [
      "                                         song_id  \\\n",
      "0   LP7pLJoJFBvyuUwvu+oLzjT+bI+UeBPURCecJsX1jjs=   \n",
      "1   ClazTFnk6r0Bnuie44bocdNMM3rdlrq0bCGAsGUWcHE=   \n",
      "2   u2ja/bZE3zhCGxvbbOB3zOoUjx27u40cf5g09UXMoKQ=   \n",
      "3   92Fqsy0+p6+RHe2EoLKjHahORHR1Kq1TBJoClW9v+Ts=   \n",
      "4   0QFmz/+rJy1Q56C1DuYqT9hKKqi5TUqx0sN0IwvoHrw=   \n",
      "5   QU8f6JR0/cwLGSqJX2XDVzFK0DxMaIUY15ALJXK7ziw=   \n",
      "6   O1Oj4CmnZhbHl7oyBaHSpGeu5gvcSmUydY3Awmv3uxk=   \n",
      "7   Tr5R61AuEkN8UelOCzu09ZwQi7/HmP9sQmxf9rFngIg=   \n",
      "8   ie9l12ZYXEaP4evrBBUvnNnZGdupHSX5NU+tEqB1SDg=   \n",
      "9   6mICNlckUVGuoK/XGC7bnxXf5s2ZnkpFHShaGL/zM2Y=   \n",
      "10  BUQwTuzZ8GKEiHtFoI1hFcKRK1W3EEpfD+VLcIVkUzQ=   \n",
      "11  fuQO8mNakRgp0vDqDJbvorJvMcJMvSjldFKAz6g+27Y=   \n",
      "12  oIkuw3YGuUhqJd8CMJxvBep4rEXXJxea71l1JO0EhfQ=   \n",
      "13  jAeBPAOGuLjjF81uYHVj8sayYH6VQhaHGPhTfq+u8O4=   \n",
      "14  gB4Fu5VOaGR+E1ITkBnb4yU2SdZFW6Q+K/OHPAZhZJk=   \n",
      "15  uzWI7xZfL3gL2/B4ptZs0XfBuGC20ydak01SjhFuEtc=   \n",
      "16  EXBuTr6J7UY6MDozwT/UDRVnmW0VGRVfeGBzrxVlX3k=   \n",
      "17  y2QmHXZMAhfVXwyQoimo5ZvMbNdS8qKCRRqKqU7izew=   \n",
      "18  isW4S3tqJo5Tce1AdM19n6TG53UQkBzyLFmb2QWK/G4=   \n",
      "19  OTKFDmheYsbqTCw2IEW4HDK3eckkrmXiQCWJWmgLSXI=   \n",
      "\n",
      "                                                 name          isrc  \n",
      "0                                                  我們  TWUM71200043  \n",
      "1                                     Let Me Love You  QMZSY1600015  \n",
      "2                                                 原諒我  TWA530887303  \n",
      "3                                             Classic  USSM11301446  \n",
      "4                                                愛投羅網  TWA471306001  \n",
      "5                                            Our Time  GBAYE1400079  \n",
      "6                                                   癢  HKUM70704066  \n",
      "7   Aloha| E Komo Mai (Theme Song from Lilo & Stit...  USWD10423930  \n",
      "8                                             每天愛你多一些  HKA610200010  \n",
      "9                                                你是你的  TWI431000103  \n",
      "10                  Guilty All The Same (feat. Rakim)  USWB11400510  \n",
      "11                                      Steal My Girl  GBHMU1400159  \n",
      "12                                              月亮惹的禍  TWB439808011  \n",
      "13                                               什麼東西  TWF710800009  \n",
      "14                                              雨水我問你  TWD970400025  \n",
      "15                                             如此美麗的妳           NaN  \n",
      "16                                               老鷹之歌           NaN  \n",
      "17                                                 離開  TWA451294108  \n",
      "18                               Standing In The Rain  USAT21601931  \n",
      "19                                   ONLY TIME (唯有時光)  GBAHT0108626  \n",
      "<class 'pandas.core.frame.DataFrame'>\n",
      "RangeIndex: 2295971 entries, 0 to 2295970\n",
      "Data columns (total 3 columns):\n",
      "song_id    object\n",
      "name       object\n",
      "isrc       object\n",
      "dtypes: object(3)\n",
      "memory usage: 52.6+ MB\n",
      "None\n"
     ]
    }
   ],
   "source": [
    "song_extra=pd.read_csv('data/song_extra_info.csv')\n",
    "print(song_extra.head(20))\n",
    "print(song_extra.info())"
   ]
  },
  {
   "cell_type": "code",
   "execution_count": 3,
   "metadata": {},
   "outputs": [
    {
     "data": {
      "text/plain": [
       "song_id         0\n",
       "name            2\n",
       "isrc       136548\n",
       "dtype: int64"
      ]
     },
     "execution_count": 3,
     "metadata": {},
     "output_type": "execute_result"
    }
   ],
   "source": [
    "#Check how many missing values there are in each column\n",
    "song_extra.isnull().sum()"
   ]
  },
  {
   "cell_type": "code",
   "execution_count": 4,
   "metadata": {},
   "outputs": [
    {
     "data": {
      "text/html": [
       "<div>\n",
       "<style scoped>\n",
       "    .dataframe tbody tr th:only-of-type {\n",
       "        vertical-align: middle;\n",
       "    }\n",
       "\n",
       "    .dataframe tbody tr th {\n",
       "        vertical-align: top;\n",
       "    }\n",
       "\n",
       "    .dataframe thead th {\n",
       "        text-align: right;\n",
       "    }\n",
       "</style>\n",
       "<table border=\"1\" class=\"dataframe\">\n",
       "  <thead>\n",
       "    <tr style=\"text-align: right;\">\n",
       "      <th></th>\n",
       "      <th>song_id</th>\n",
       "      <th>name</th>\n",
       "      <th>isrc</th>\n",
       "    </tr>\n",
       "  </thead>\n",
       "  <tbody>\n",
       "    <tr>\n",
       "      <th>273129</th>\n",
       "      <td>sNVAWeE2/q4auIOdlGc2H3WT2bw99rgk95+MPh81S84=</td>\n",
       "      <td>NaN</td>\n",
       "      <td>TWAE31500124</td>\n",
       "    </tr>\n",
       "    <tr>\n",
       "      <th>800087</th>\n",
       "      <td>EqG1FQ2ZMDgqBC8vnSCTqN+TneeuQuSqKnljU2W9f44=</td>\n",
       "      <td>NaN</td>\n",
       "      <td>NaN</td>\n",
       "    </tr>\n",
       "  </tbody>\n",
       "</table>\n",
       "</div>"
      ],
      "text/plain": [
       "                                             song_id name          isrc\n",
       "273129  sNVAWeE2/q4auIOdlGc2H3WT2bw99rgk95+MPh81S84=  NaN  TWAE31500124\n",
       "800087  EqG1FQ2ZMDgqBC8vnSCTqN+TneeuQuSqKnljU2W9f44=  NaN           NaN"
      ]
     },
     "execution_count": 4,
     "metadata": {},
     "output_type": "execute_result"
    }
   ],
   "source": [
    "#Rows with missing names\n",
    "song_extra[song_extra['name'].isnull()]"
   ]
  },
  {
   "cell_type": "markdown",
   "metadata": {},
   "source": [
    "One of the songs has no isrc to check what is the name of the song. For the one that has isrc I could not find the name. This entries are kept as they are."
   ]
  },
  {
   "cell_type": "code",
   "execution_count": 5,
   "metadata": {},
   "outputs": [
    {
     "name": "stdout",
     "output_type": "stream",
     "text": [
      "                                         song_id  \\\n",
      "0   LP7pLJoJFBvyuUwvu+oLzjT+bI+UeBPURCecJsX1jjs=   \n",
      "1   ClazTFnk6r0Bnuie44bocdNMM3rdlrq0bCGAsGUWcHE=   \n",
      "2   u2ja/bZE3zhCGxvbbOB3zOoUjx27u40cf5g09UXMoKQ=   \n",
      "3   92Fqsy0+p6+RHe2EoLKjHahORHR1Kq1TBJoClW9v+Ts=   \n",
      "4   0QFmz/+rJy1Q56C1DuYqT9hKKqi5TUqx0sN0IwvoHrw=   \n",
      "5   QU8f6JR0/cwLGSqJX2XDVzFK0DxMaIUY15ALJXK7ziw=   \n",
      "6   O1Oj4CmnZhbHl7oyBaHSpGeu5gvcSmUydY3Awmv3uxk=   \n",
      "7   Tr5R61AuEkN8UelOCzu09ZwQi7/HmP9sQmxf9rFngIg=   \n",
      "8   ie9l12ZYXEaP4evrBBUvnNnZGdupHSX5NU+tEqB1SDg=   \n",
      "9   6mICNlckUVGuoK/XGC7bnxXf5s2ZnkpFHShaGL/zM2Y=   \n",
      "10  BUQwTuzZ8GKEiHtFoI1hFcKRK1W3EEpfD+VLcIVkUzQ=   \n",
      "11  fuQO8mNakRgp0vDqDJbvorJvMcJMvSjldFKAz6g+27Y=   \n",
      "12  oIkuw3YGuUhqJd8CMJxvBep4rEXXJxea71l1JO0EhfQ=   \n",
      "13  jAeBPAOGuLjjF81uYHVj8sayYH6VQhaHGPhTfq+u8O4=   \n",
      "14  gB4Fu5VOaGR+E1ITkBnb4yU2SdZFW6Q+K/OHPAZhZJk=   \n",
      "15  uzWI7xZfL3gL2/B4ptZs0XfBuGC20ydak01SjhFuEtc=   \n",
      "16  EXBuTr6J7UY6MDozwT/UDRVnmW0VGRVfeGBzrxVlX3k=   \n",
      "17  y2QmHXZMAhfVXwyQoimo5ZvMbNdS8qKCRRqKqU7izew=   \n",
      "18  isW4S3tqJo5Tce1AdM19n6TG53UQkBzyLFmb2QWK/G4=   \n",
      "19  OTKFDmheYsbqTCw2IEW4HDK3eckkrmXiQCWJWmgLSXI=   \n",
      "\n",
      "                                                 name          isrc  \n",
      "0                                                  我們  TWUM71200043  \n",
      "1                                     Let Me Love You  QMZSY1600015  \n",
      "2                                                 原諒我  TWA530887303  \n",
      "3                                             Classic  USSM11301446  \n",
      "4                                                愛投羅網  TWA471306001  \n",
      "5                                            Our Time  GBAYE1400079  \n",
      "6                                                   癢  HKUM70704066  \n",
      "7   Aloha| E Komo Mai (Theme Song From Lilo & Stit...  USWD10423930  \n",
      "8                                             每天愛你多一些  HKA610200010  \n",
      "9                                                你是你的  TWI431000103  \n",
      "10                  Guilty All The Same (Feat. Rakim)  USWB11400510  \n",
      "11                                      Steal My Girl  GBHMU1400159  \n",
      "12                                              月亮惹的禍  TWB439808011  \n",
      "13                                               什麼東西  TWF710800009  \n",
      "14                                              雨水我問你  TWD970400025  \n",
      "15                                             如此美麗的妳           NaN  \n",
      "16                                               老鷹之歌           NaN  \n",
      "17                                                 離開  TWA451294108  \n",
      "18                               Standing In The Rain  USAT21601931  \n",
      "19                                   Only Time (唯有時光)  GBAHT0108626  \n"
     ]
    }
   ],
   "source": [
    "#Clean format of artist_name column: capitalize first letters and remove extra spaces\n",
    "song_extra['name']=song_extra['name'].map(lambda x: str(x).title() if x!=np.nan else x)\n",
    "song_extra['name']=song_extra['name'].map(lambda x: re.sub(' +',' ',x) if x!=np.nan else x)\n",
    "#Bring back missing values\n",
    "song_extra.replace('Nan',np.nan, inplace=True)\n",
    "print(song_extra.head(20))"
   ]
  },
  {
   "cell_type": "markdown",
   "metadata": {},
   "source": [
    "isrc has many missing values, this column probably won't be use to drive conclusions"
   ]
  },
  {
   "cell_type": "code",
   "execution_count": 7,
   "metadata": {},
   "outputs": [],
   "source": [
    "#Export clean file as song_extra_info_clean.csv\n",
    "song_extra.to_csv('data/song_extra_info_clean.csv')"
   ]
  }
 ],
 "metadata": {
  "kernelspec": {
   "display_name": "Python 3",
   "language": "python",
   "name": "python3"
  },
  "language_info": {
   "codemirror_mode": {
    "name": "ipython",
    "version": 3
   },
   "file_extension": ".py",
   "mimetype": "text/x-python",
   "name": "python",
   "nbconvert_exporter": "python",
   "pygments_lexer": "ipython3",
   "version": "3.6.5"
  }
 },
 "nbformat": 4,
 "nbformat_minor": 2
}
